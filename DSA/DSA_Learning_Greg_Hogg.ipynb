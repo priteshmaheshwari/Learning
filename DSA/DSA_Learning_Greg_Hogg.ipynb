{
  "nbformat": 4,
  "nbformat_minor": 0,
  "metadata": {
    "colab": {
      "provenance": [],
      "toc_visible": true,
      "authorship_tag": "ABX9TyOumc7/lpZN+qOdzBqmg/GR",
      "include_colab_link": true
    },
    "kernelspec": {
      "name": "python3",
      "display_name": "Python 3"
    },
    "language_info": {
      "name": "python"
    }
  },
  "cells": [
    {
      "cell_type": "markdown",
      "metadata": {
        "id": "view-in-github",
        "colab_type": "text"
      },
      "source": [
        "<a href=\"https://colab.research.google.com/github/priteshmaheshwari/Learning/blob/main/DSA/DSA_Learning_Greg_Hogg.ipynb\" target=\"_parent\"><img src=\"https://colab.research.google.com/assets/colab-badge.svg\" alt=\"Open In Colab\"/></a>"
      ]
    },
    {
      "cell_type": "markdown",
      "source": [
        "# Linked List"
      ],
      "metadata": {
        "id": "wKXd1eE6Y9_i"
      }
    },
    {
      "cell_type": "markdown",
      "source": [
        "## Singly Linked List"
      ],
      "metadata": {
        "id": "KeGO3RSIY97H"
      }
    },
    {
      "cell_type": "code",
      "source": [
        "class SinglyNode:\n",
        "    def __init__ (self, val, next = None):\n",
        "        self.val = val\n",
        "        self.next = next\n",
        "    def __str__(self):\n",
        "        return str(self.val)\n",
        "\n"
      ],
      "metadata": {
        "id": "iHKAyxTKZaup"
      },
      "execution_count": 2,
      "outputs": []
    },
    {
      "cell_type": "code",
      "source": [
        "Head = SinglyNode(1)\n",
        "A = SinglyNode(2)\n",
        "B = SinglyNode(3)\n",
        "C = SinglyNode(7)\n",
        "\n",
        "Head.next = A\n",
        "A.next = B\n",
        "B.next = C\n",
        "\n",
        "print(Head)"
      ],
      "metadata": {
        "colab": {
          "base_uri": "https://localhost:8080/"
        },
        "id": "AkyZyQdraCL7",
        "outputId": "133b3126-e6f7-4fe8-a937-ca2e2cdaf8d5"
      },
      "execution_count": 5,
      "outputs": [
        {
          "output_type": "stream",
          "name": "stdout",
          "text": [
            "1\n"
          ]
        }
      ]
    },
    {
      "cell_type": "markdown",
      "source": [
        "### Treversing a linked list O(N)"
      ],
      "metadata": {
        "id": "JP1EnK_bY91N"
      }
    },
    {
      "cell_type": "code",
      "source": [
        "curr = Head\n",
        "\n",
        "while curr:\n",
        "    print(curr)\n",
        "    curr = curr.next"
      ],
      "metadata": {
        "colab": {
          "base_uri": "https://localhost:8080/"
        },
        "id": "SksSB1QraqHx",
        "outputId": "602974c1-4abe-4793-9a75-a1aadf214b4f"
      },
      "execution_count": 12,
      "outputs": [
        {
          "output_type": "stream",
          "name": "stdout",
          "text": [
            "1\n",
            "2\n",
            "3\n",
            "7\n"
          ]
        }
      ]
    },
    {
      "cell_type": "markdown",
      "source": [
        "### Displaying a linked list O(N)"
      ],
      "metadata": {
        "id": "gZT_gbTja7fb"
      }
    },
    {
      "cell_type": "code",
      "source": [
        "def display(head):\n",
        "    curr = head\n",
        "    elements = []\n",
        "    while curr:\n",
        "        elements.append(str(curr.val))\n",
        "        curr = curr.next\n",
        "    print(\" -> \".join(elements))\n",
        "\n",
        "display(Head)"
      ],
      "metadata": {
        "colab": {
          "base_uri": "https://localhost:8080/"
        },
        "id": "oAX-Z0cca-PN",
        "outputId": "21585d0f-38f9-4eb3-c837-608d34e8819c"
      },
      "execution_count": 13,
      "outputs": [
        {
          "output_type": "stream",
          "name": "stdout",
          "text": [
            "1 -> 2 -> 3 -> 7\n"
          ]
        }
      ]
    },
    {
      "cell_type": "markdown",
      "source": [
        "### Search for a Node value  O(N)"
      ],
      "metadata": {
        "id": "uR5ZTmv8bwKL"
      }
    },
    {
      "cell_type": "code",
      "source": [
        "def search(head, target):\n",
        "    curr = head\n",
        "    while curr:\n",
        "        if target == curr.val:\n",
        "            return True\n",
        "        curr = curr.next\n",
        "    return False\n",
        "\n",
        "search(Head, 7)"
      ],
      "metadata": {
        "colab": {
          "base_uri": "https://localhost:8080/"
        },
        "id": "b_KVbU0XcARV",
        "outputId": "91900899-cd93-4e37-e4f6-89e9cdc98179"
      },
      "execution_count": 14,
      "outputs": [
        {
          "output_type": "execute_result",
          "data": {
            "text/plain": [
              "True"
            ]
          },
          "metadata": {},
          "execution_count": 14
        }
      ]
    },
    {
      "cell_type": "markdown",
      "source": [
        "## Doubly Linked List"
      ],
      "metadata": {
        "id": "OwDTMlPjcihU"
      }
    },
    {
      "cell_type": "code",
      "source": [
        "class DoublyNode:\n",
        "    def __init__ (self, val, next = None, prev = None):\n",
        "        self.val = val\n",
        "        self.next = next\n",
        "        self.prev = prev\n",
        "    def __str__(self):\n",
        "        return str(self.val)\n",
        ""
      ],
      "metadata": {
        "id": "0MNKzBVtdBjZ"
      },
      "execution_count": 27,
      "outputs": []
    },
    {
      "cell_type": "code",
      "source": [
        "head = tail = DoublyNode(1)\n",
        "print(head)\n",
        "print(tail)"
      ],
      "metadata": {
        "colab": {
          "base_uri": "https://localhost:8080/"
        },
        "id": "f50HfdwOdQPY",
        "outputId": "ea683ff1-5841-461d-ae10-7daa5d62ff28"
      },
      "execution_count": 28,
      "outputs": [
        {
          "output_type": "stream",
          "name": "stdout",
          "text": [
            "1\n",
            "1\n"
          ]
        }
      ]
    },
    {
      "cell_type": "markdown",
      "source": [
        "### Display Doubly O(N)"
      ],
      "metadata": {
        "id": "-1o1mwPkdYLB"
      }
    },
    {
      "cell_type": "code",
      "source": [
        "def display(head):\n",
        "    curr = head\n",
        "    elements = []\n",
        "    while curr:\n",
        "        elements.append(str(curr.val))\n",
        "        curr = curr.next\n",
        "    print(\" <-> \".join(elements))\n",
        "\n",
        "display(head)"
      ],
      "metadata": {
        "colab": {
          "base_uri": "https://localhost:8080/"
        },
        "id": "M2zjWrr6dP--",
        "outputId": "11e8c851-a43e-4bb0-b40f-7c81ece2f1c1"
      },
      "execution_count": 29,
      "outputs": [
        {
          "output_type": "stream",
          "name": "stdout",
          "text": [
            "1\n"
          ]
        }
      ]
    },
    {
      "cell_type": "markdown",
      "source": [
        "### Insert At begning - O(N)"
      ],
      "metadata": {
        "id": "y8i_IkUYd0tg"
      }
    },
    {
      "cell_type": "code",
      "source": [
        "def insert_at_beginning(head, tail, val):\n",
        "    new_node = DoublyNode(val, next=head)\n",
        "    head.prev = new_node\n",
        "    return new_node, tail\n",
        "\n",
        "head, tail = insert_at_beginning(head, tail, -5)\n",
        "display(head)"
      ],
      "metadata": {
        "colab": {
          "base_uri": "https://localhost:8080/"
        },
        "id": "88t1SUzWdzsS",
        "outputId": "e0ba8236-9869-47aa-f907-57184d144427"
      },
      "execution_count": 30,
      "outputs": [
        {
          "output_type": "stream",
          "name": "stdout",
          "text": [
            "-5 <-> 1\n"
          ]
        }
      ]
    },
    {
      "cell_type": "markdown",
      "source": [
        "### Insert At End - O(N)"
      ],
      "metadata": {
        "id": "UQ2_Pw9Zcice"
      }
    },
    {
      "cell_type": "code",
      "source": [
        "def insert_at_end(head, tail, val):\n",
        "    new_node = DoublyNode(val, prev=tail)\n",
        "    tail.next = new_node\n",
        "    return head, new_node\n",
        "\n",
        "head, tail = insert_at_end(head, tail, 8)\n",
        "display(head)"
      ],
      "metadata": {
        "colab": {
          "base_uri": "https://localhost:8080/"
        },
        "id": "cKoO1xnge9ln",
        "outputId": "0aa40766-2008-4be0-b840-662677f48d68"
      },
      "execution_count": 33,
      "outputs": [
        {
          "output_type": "stream",
          "name": "stdout",
          "text": [
            "8 <-> -5 <-> -5 <-> 1 <-> 8\n"
          ]
        }
      ]
    },
    {
      "cell_type": "markdown",
      "source": [
        "----\n",
        "---"
      ],
      "metadata": {
        "id": "A_ysdX_3fjH1"
      }
    },
    {
      "cell_type": "markdown",
      "source": [
        "# Binary Search"
      ],
      "metadata": {
        "id": "sfpdR-VaQOXS"
      }
    },
    {
      "cell_type": "markdown",
      "source": [
        "## Traditional Binary Search Tree\n",
        "- Looking if number in arrary\n",
        "\n",
        "\n",
        "- Time : O(log N)\n",
        "\n",
        "- Space : O (1)"
      ],
      "metadata": {
        "id": "BjfbkSTURc7h"
      }
    },
    {
      "cell_type": "code",
      "execution_count": 1,
      "metadata": {
        "id": "MgvGhclCPCCG"
      },
      "outputs": [],
      "source": [
        "\n",
        "def binarySearch(arr, target):\n",
        "    N = len(arr)\n",
        "    L = 0\n",
        "    R = N - 1\n",
        "\n",
        "    while L<=R:\n",
        "        M = L + ((R-L)//2)  # We can do (L+R)//2, but did the current one to accomodate for large numbers\n",
        "        if arr [M] == target:\n",
        "            return True\n",
        "        elif arr[M] > target:\n",
        "            R = M - 1\n",
        "        else:\n",
        "            L = M + 1\n",
        "    return False"
      ]
    },
    {
      "cell_type": "code",
      "source": [
        "A = [ -3, -1, 0, 2, 5, 8, 10, 15]\n",
        "binarySearch(A, 5)"
      ],
      "metadata": {
        "colab": {
          "base_uri": "https://localhost:8080/"
        },
        "id": "8zRNd9nIRM4v",
        "outputId": "c0c273eb-7b0f-4cf3-de8f-de8272b9269f"
      },
      "execution_count": 3,
      "outputs": [
        {
          "output_type": "execute_result",
          "data": {
            "text/plain": [
              "True"
            ]
          },
          "metadata": {},
          "execution_count": 3
        }
      ]
    },
    {
      "cell_type": "markdown",
      "source": [
        "## Condition Based\n",
        "Based on a condition"
      ],
      "metadata": {
        "id": "Iaaipu8ci3o4"
      }
    },
    {
      "cell_type": "code",
      "source": [
        "B = [ False, False, False, False, True, True, True]\n",
        "def binary_Search_Conditional(arr):\n",
        "    N = len(arr)\n",
        "    L = 0\n",
        "    R = N -1\n",
        "\n",
        "    while L< R:\n",
        "        M = (L +R) // 2\n",
        "\n",
        "        if arr[M]:\n",
        "            R = M\n",
        "        else:\n",
        "            L = M+1\n",
        "    return L\n",
        "\n",
        "binary_Search_Conditional(B)"
      ],
      "metadata": {
        "colab": {
          "base_uri": "https://localhost:8080/"
        },
        "id": "7Z9HD9szRZua",
        "outputId": "25799666-aa14-4599-fdef-597769a1f2fa"
      },
      "execution_count": 4,
      "outputs": [
        {
          "output_type": "execute_result",
          "data": {
            "text/plain": [
              "4"
            ]
          },
          "metadata": {},
          "execution_count": 4
        }
      ]
    },
    {
      "cell_type": "code",
      "source": [],
      "metadata": {
        "id": "vZjvlvm5kB7_"
      },
      "execution_count": null,
      "outputs": []
    }
  ]
}