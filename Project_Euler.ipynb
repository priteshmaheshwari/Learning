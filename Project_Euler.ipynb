{
  "nbformat": 4,
  "nbformat_minor": 0,
  "metadata": {
    "colab": {
      "provenance": [],
      "toc_visible": true,
      "authorship_tag": "ABX9TyOaC1x5YcrQM3WfQKbFJNV7",
      "include_colab_link": true
    },
    "kernelspec": {
      "name": "python3",
      "display_name": "Python 3"
    },
    "language_info": {
      "name": "python"
    }
  },
  "cells": [
    {
      "cell_type": "markdown",
      "metadata": {
        "id": "view-in-github",
        "colab_type": "text"
      },
      "source": [
        "<a href=\"https://colab.research.google.com/github/priteshmaheshwari/Learning/blob/main/Project_Euler.ipynb\" target=\"_parent\"><img src=\"https://colab.research.google.com/assets/colab-badge.svg\" alt=\"Open In Colab\"/></a>"
      ]
    },
    {
      "cell_type": "markdown",
      "source": [
        "#1\n",
        "Find the sum of all the multiples of 3 or 5 below N."
      ],
      "metadata": {
        "id": "7M8Q4D97UJ9A"
      }
    },
    {
      "cell_type": "code",
      "execution_count": null,
      "metadata": {
        "id": "woR0LBlgT0N_"
      },
      "outputs": [],
      "source": [
        "#!/bin/python3\n",
        "\n",
        "import sys\n",
        "\n",
        "\n",
        "t = int(input().strip())\n",
        "for a0 in range(t):\n",
        "    n = int(input().strip())\n",
        "    def cal(num, d):\n",
        "         a = d\n",
        "         sol = (2*a + (num-1)*d) * (num)\n",
        "\n",
        "         return sol>>1  # this is bitwise operation to divide by 2\n",
        "\n",
        "    nums3 = (n-1) //3\n",
        "    nums5 = (n-1)//5\n",
        "    nums15 = (n-1)//15\n",
        "    final = cal(nums3, 3) + cal(nums5, 5) - cal(nums15, 15)\n",
        "    # print(\"num =\", n, \"  final = \", final)\n",
        "    print(int(final))\n",
        "\n"
      ]
    },
    {
      "cell_type": "markdown",
      "source": [
        "# 2\n",
        "\n",
        "\n",
        "By considering the terms in the Fibonacci sequence whose values do not exceed , find the sum of the even-valued terms."
      ],
      "metadata": {
        "id": "5rAzzWIrUOqB"
      }
    },
    {
      "cell_type": "code",
      "source": [],
      "metadata": {
        "id": "b4CPs-dJUOff"
      },
      "execution_count": null,
      "outputs": []
    }
  ]
}