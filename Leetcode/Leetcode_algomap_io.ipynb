{
  "nbformat": 4,
  "nbformat_minor": 0,
  "metadata": {
    "colab": {
      "provenance": [],
      "toc_visible": true,
      "collapsed_sections": [
        "zt5L-XTB-ib0",
        "PH3037d8MG9S",
        "88rDfQidRJH_"
      ],
      "authorship_tag": "ABX9TyObbF/dQ6OFOG3hOfKKej+4",
      "include_colab_link": true
    },
    "kernelspec": {
      "name": "python3",
      "display_name": "Python 3"
    },
    "language_info": {
      "name": "python"
    }
  },
  "cells": [
    {
      "cell_type": "markdown",
      "metadata": {
        "id": "view-in-github",
        "colab_type": "text"
      },
      "source": [
        "<a href=\"https://colab.research.google.com/github/priteshmaheshwari/Learning/blob/main/Leetcode/Leetcode_algomap_io.ipynb\" target=\"_parent\"><img src=\"https://colab.research.google.com/assets/colab-badge.svg\" alt=\"Open In Colab\"/></a>"
      ]
    },
    {
      "cell_type": "code",
      "source": [
        "from typing import List, Optional\n"
      ],
      "metadata": {
        "id": "Wc8g_h4qhHE8"
      },
      "execution_count": null,
      "outputs": []
    },
    {
      "cell_type": "markdown",
      "source": [
        "# Arrays & Strings"
      ],
      "metadata": {
        "id": "zt5L-XTB-ib0"
      }
    },
    {
      "cell_type": "markdown",
      "source": [
        "2239. Find Closest Number to Zero\n",
        "\n",
        "\n",
        "    Given an integer array nums of size n, return the number with the value closest to 0 in nums.\n",
        "    If there are multiple answers, return the number with the largest value."
      ],
      "metadata": {
        "id": "Kpvd6YGCpKA7"
      }
    },
    {
      "cell_type": "code",
      "source": [
        "class Solution(object):\n",
        "    def findClosestNumber(self, nums):\n",
        "        \"\"\"\n",
        "        :type nums: List[int]\n",
        "        :rtype: int\n",
        "        \"\"\"\n",
        "        if len(nums) == 1:\n",
        "            return nums[0]\n",
        "        currentDist = abs(nums[0])\n",
        "        closest = nums[0]\n",
        "        for i in nums:\n",
        "            if abs(i) <= currentDist:\n",
        "                currentDist = abs(i)\n",
        "\n",
        "                if closest == abs(i) and closest > i:\n",
        "                    continue\n",
        "                else: closest = i\n",
        "\n",
        "        return closest"
      ],
      "metadata": {
        "id": "Xrj1fHDP-SdM"
      },
      "execution_count": null,
      "outputs": []
    },
    {
      "cell_type": "markdown",
      "source": [
        "## 1768 Merge Strings Alternately\n",
        "\n",
        "\n",
        "You are given two strings word1 and word2. Merge the strings by adding letters in alternating order, starting with word1.\n",
        "If a string is longer than the other, append the additional letters onto the end of the merged string."
      ],
      "metadata": {
        "id": "l8ULtbKx-mfL"
      }
    },
    {
      "cell_type": "code",
      "execution_count": null,
      "metadata": {
        "id": "mYcWjlhE-Lnj"
      },
      "outputs": [],
      "source": [
        "class Solution(object):\n",
        "    def mergeAlternately(self, word1, word2):\n",
        "        \"\"\"\n",
        "        :type word1: str\n",
        "        :type word2: str\n",
        "        :rtype: str\n",
        "        \"\"\"\n",
        "\n",
        "        word1 = word1.encode(\"UTF8\")\n",
        "        word2 = word2.encode(\"UTF8\")\n",
        "        l1 = list(word1)\n",
        "        l2 = list(word2)\n",
        "        # print(type(word1))\n",
        "        # print(l1)\n",
        "        final = []\n",
        "        if len(l1) == len(l2):\n",
        "            for i in range(len(l1)):\n",
        "                final.append(l1[i])\n",
        "                final.append(l2[i])\n",
        "\n",
        "        elif len(l1)>len(l2):\n",
        "            for i in range(len(l2)):\n",
        "                final.append(l1[i])\n",
        "                final.append(l2[i])\n",
        "            for i in range(len(l2), len(l1)):\n",
        "                final.append(l1[i])\n",
        "\n",
        "        elif len(l2) > len(l1):\n",
        "            # print(\"l2 is \", l2)\n",
        "            for i in range(len(l1)):\n",
        "                final.append(l1[i])\n",
        "                final.append(l2[i])\n",
        "            for i in range(len(l1), len(l2)):\n",
        "                final.append(l2[i])\n",
        "\n",
        "        return \"\".join(final)\n",
        "\n"
      ]
    },
    {
      "cell_type": "markdown",
      "source": [
        "## 13 Roman to Integer\n",
        "\n",
        "Roman numerals are represented by seven different symbols: I, V, X, L, C, D and M.\n",
        "\n",
        "Symbol       Value\n",
        "I             1\n",
        "V             5\n",
        "X             10\n",
        "L             50\n",
        "C             100\n",
        "D             500\n",
        "M             1000\n",
        "\n",
        "For example, 2 is written as II in Roman numeral, just two ones added together. 12 is written as XII, which is simply X + II. The number 27 is written as XXVII, which is XX + V + II.\n",
        "\n",
        "Roman numerals are usually written largest to smallest from left to right. However, the numeral for four is not IIII. Instead, the number four is written as IV. Because the one is before the five we subtract it making four. The same principle applies to the number nine, which is written as IX. There are six instances where subtraction is used:\n",
        "\n",
        "    I can be placed before V (5) and X (10) to make 4 and 9.\n",
        "    X can be placed before L (50) and C (100) to make 40 and 90.\n",
        "    C can be placed before D (500) and M (1000) to make 400 and 900.\n",
        "\n",
        "Given a roman numeral, convert it to an integer.\n"
      ],
      "metadata": {
        "id": "b3vRu5Q8GK3K"
      }
    },
    {
      "cell_type": "code",
      "source": [
        "class Solution(object):\n",
        "    def romanToInt(self, s):\n",
        "        s = s.encode(\"UTF8\")\n",
        "        l = list(s)\n",
        "        l = l[::-1]\n",
        "\n",
        "        i = 0\n",
        "        Sum = 0\n",
        "        hash = {\"I\":1, \"V\":5, \"X\":10, \"L\": 50, \"C\": 100, \"D\": 500, \"M\": 1000}\n",
        "\n",
        "        def cal(first, second):\n",
        "            return hash[first] - hash[second]\n",
        "\n",
        "        while i < len(l):\n",
        "            if l[i] == \"V\" or l[i] == \"X\":\n",
        "                if (i < len(l)-1 and l[i+1] == \"I\"):\n",
        "                    Sum += cal(l[i], l[i+1])\n",
        "                    i += 1\n",
        "                else:Sum = Sum + hash[l[i]]\n",
        "\n",
        "            elif l[i] == \"L\" or l[i] == \"C\":\n",
        "                if (i < len(l)-1 and l[i+1] == \"X\"):\n",
        "                    Sum += cal(l[i], l[i+1])\n",
        "                    i += 1\n",
        "                else:Sum = Sum + hash[l[i]]\n",
        "\n",
        "            elif l[i] == \"D\" or l[i] == \"M\":\n",
        "                if (i < len(l)-1 and l[i+1] == \"C\"):\n",
        "                    Sum += cal(l[i], l[i+1])\n",
        "                    i += 1\n",
        "                else:Sum = Sum + hash[l[i]]\n",
        "\n",
        "            else:\n",
        "                Sum = Sum + hash[l[i]]\n",
        "            i += 1\n",
        "\n",
        "        return Sum"
      ],
      "metadata": {
        "id": "Y6Z6w4Et92FP"
      },
      "execution_count": null,
      "outputs": []
    },
    {
      "cell_type": "code",
      "source": [
        "class Solution:\n",
        "    def romanToInt(self, s: str) -> int:\n",
        "        d = {\"I\": 1, \"V\":5, \"X\":10, \"L\":50, \"C\":100, \"D\":500, \"M\": 1000}\n",
        "\n",
        "        summ = 0\n",
        "        i = 0\n",
        "        N = len(s)\n",
        "\n",
        "        while i<N:\n",
        "            if i < N-1 and d[s[i]] < d[s[i+1]]:\n",
        "                summ += d[s[i+1]] - d[s[i]]\n",
        "                i += 2\n",
        "            else:\n",
        "                summ += d[s[i]]\n",
        "                i +=1\n",
        "        return summ"
      ],
      "metadata": {
        "id": "tyjj9vyYnQBH"
      },
      "execution_count": null,
      "outputs": []
    },
    {
      "cell_type": "markdown",
      "source": [
        "## 392 Is Subsequence\n",
        "\n",
        "Given two strings s and t, return true if s is a subsequence of t, or false otherwise.\n",
        "\n",
        "A subsequence of a string is a new string that is formed from the original string by deleting some (can be none) of the characters without disturbing the relative positions of the remaining characters. (i.e., \"ace\" is a subsequence of \"abcde\" while \"aec\" is not)."
      ],
      "metadata": {
        "id": "YHTm84hpnL8L"
      }
    },
    {
      "cell_type": "code",
      "source": [
        "class Solution:\n",
        "    def isSubsequence(self, s: str, t: str) -> bool:\n",
        "        S = len(s)\n",
        "        T = len(t)\n",
        "        i= 0\n",
        "        if s == \"\" : return True\n",
        "        if S>T: return False\n",
        "\n",
        "        for j in range(T):\n",
        "            if s[i] == t[j]:\n",
        "                if i == S-1:\n",
        "                    return True\n",
        "                i += 1\n",
        "\n",
        "\n",
        "        return False"
      ],
      "metadata": {
        "id": "E1ulmQSV92Cj"
      },
      "execution_count": null,
      "outputs": []
    },
    {
      "cell_type": "markdown",
      "source": [
        "\n",
        "## 121 Best Time to Buy and Sell Stock\n",
        "\n",
        "You are given an array prices where prices[i] is the price of a given stock on the ith day.\n",
        "\n",
        "You want to maximize your profit by choosing a single day to buy one stock and choosing a different day in the future to sell that stock.\n",
        "\n",
        "Return the maximum profit you can achieve from this transaction. If you cannot achieve any profit, return 0."
      ],
      "metadata": {
        "id": "7vzARg2gwd7E"
      }
    },
    {
      "cell_type": "code",
      "source": [
        "class Solution:\n",
        "    def maxProfit(self, prices: List[int]) -> int:\n",
        "        profit = 0\n",
        "        low = prices[0]\n",
        "        for i in prices:\n",
        "            if i < low:\n",
        "                low = i\n",
        "\n",
        "            if i-low > profit:\n",
        "                profit = i-low\n",
        "        return profit\n"
      ],
      "metadata": {
        "id": "Tbd_AEg092AH"
      },
      "execution_count": null,
      "outputs": []
    },
    {
      "cell_type": "markdown",
      "source": [
        "## 228 Summary Ranges  [Todo by self again]\n",
        "\n",
        "You are given a sorted unique integer array nums.\n",
        "\n",
        "A range [a,b] is the set of all integers from a to b (inclusive).\n",
        "\n",
        "Return the smallest sorted list of ranges that cover all the numbers in the array exactly. That is, each element of nums is covered by exactly one of the ranges, and there is no integer x such that x is in one of the ranges but not in nums.\n",
        "\n",
        "Each range [a,b] in the list should be output as:\n",
        "\n",
        "\"a->b\" if a != b\n",
        "\"a\" if a == b"
      ],
      "metadata": {
        "id": "Bg709QknwTiQ"
      }
    },
    {
      "cell_type": "code",
      "source": [
        "class Solution:\n",
        "    def summaryRanges(self, nums: List[int]) -> List[str]:\n",
        "        ans = []\n",
        "        N = len(nums)\n",
        "        i = 0\n",
        "        while i < N:\n",
        "            start = nums[i]\n",
        "            while i< N-1 and nums[i+1] == nums[i]+1:\n",
        "                i += 1\n",
        "            if nums[i] != start:\n",
        "                ans.append(str(start) + \"->\" + str(nums[i]))\n",
        "            else:\n",
        "                ans.append(str(nums[i]))\n",
        "            i += 1\n",
        "\n",
        "        return ans"
      ],
      "metadata": {
        "id": "PUnmwNQL919q"
      },
      "execution_count": null,
      "outputs": []
    },
    {
      "cell_type": "markdown",
      "source": [
        "## 238 Product of Array Except Self\n",
        "\n",
        "\n",
        "Given an integer array nums, return an array answer such that answer[i] is equal to the product of all the elements of nums except nums[i].\n",
        "\n",
        "The product of any prefix or suffix of nums is guaranteed to fit in a 32-bit integer.\n",
        "\n",
        "You must write an algorithm that runs in O(n) time and without using the division operation."
      ],
      "metadata": {
        "id": "IgSqkRFk99kI"
      }
    },
    {
      "cell_type": "code",
      "source": [
        "class Solution:\n",
        "    def productExceptSelf(self, nums: List[int]) -> List[int]:\n",
        "\n",
        "\n",
        "        def mul(L1, L2):\n",
        "            if 0 in L1 or 0 in L2:\n",
        "                return 0\n",
        "            prod = 1\n",
        "            for i in range(len(L1)):\n",
        "                prod *= L1[i]\n",
        "            for j in range(len(L2)):\n",
        "                prod *= L2[j]\n",
        "            return prod\n",
        "\n",
        "        ans = []\n",
        "\n",
        "        N = len(nums)\n",
        "\n",
        "        product = 1\n",
        "        temp = 1\n",
        "        # print(\"Product: \", product)\n",
        "        if 0 in nums:\n",
        "\n",
        "            for i in range(N):\n",
        "                if i == 0:\n",
        "                    for i in range(1, N):\n",
        "                        product *= nums[i]\n",
        "                    ans.append(product)\n",
        "                elif i == N:\n",
        "                    for i in range(0, N-1):\n",
        "                        product *= nums[i]\n",
        "                    ans.append(product)\n",
        "                else:\n",
        "\n",
        "                    temp = mul(nums[:i], nums[i+1:])\n",
        "                    ans.append(temp)\n",
        "\n",
        "        else:\n",
        "            productF = 1\n",
        "            for i in range(N):\n",
        "                productF *= nums[i]\n",
        "            for i in range(N):\n",
        "                temp = int(productF/nums[i])\n",
        "                ans.append(temp)\n",
        "\n",
        "        return ans\n"
      ],
      "metadata": {
        "id": "pNnEF7JW917W"
      },
      "execution_count": null,
      "outputs": []
    },
    {
      "cell_type": "markdown",
      "source": [
        "## 56 Merge Intervals [DIBSA]\n",
        "\n",
        "\n",
        "Given an array of intervals where intervals[i] = [starti, endi], merge all overlapping intervals,\n",
        "and return an array of the non-overlapping intervals that cover all the intervals in the input.\n",
        "\n"
      ],
      "metadata": {
        "id": "jqsrhM9FLyw_"
      }
    },
    {
      "cell_type": "code",
      "source": [
        "class Solution:\n",
        "    def merge(self, intervals: List[List[int]]) -> List[List[int]]:\n",
        "        intervals.sort(key = lambda interval: interval[0])\n",
        "        M = []\n",
        "        M.append(intervals[0])\n",
        "        for i in range(len(intervals)):\n",
        "            start = M[-1][0]\n",
        "            end = M[-1][1]\n",
        "            if end >= intervals[i][0] :\n",
        "                if end < intervals[i][1]:\n",
        "                    end = intervals[i][1]\n",
        "                    M[-1][1] = end\n",
        "            else:\n",
        "                M.append(intervals[i])\n",
        "        return M"
      ],
      "metadata": {
        "id": "4KcF7z-u9146"
      },
      "execution_count": null,
      "outputs": []
    },
    {
      "cell_type": "code",
      "source": [],
      "metadata": {
        "id": "ZeFWKfxG912e"
      },
      "execution_count": null,
      "outputs": []
    },
    {
      "cell_type": "markdown",
      "source": [
        "\n",
        "# Hashmaps & Sets\n"
      ],
      "metadata": {
        "id": "PH3037d8MG9S"
      }
    },
    {
      "cell_type": "markdown",
      "source": [
        "## 771 Jewels and Stones\n",
        "\n",
        "\n",
        "    You're given strings jewels representing the types of stones that are jewels, and stones representing the stones you have.\n",
        "    Each character in stones is a type of stone you have. You want to know how many of the stones you have are also jewels.\n",
        "\n",
        "    Letters are case sensitive, so \"a\" is considered a different type of stone from \"A\"."
      ],
      "metadata": {
        "id": "ZZVZ9puOMS2P"
      }
    },
    {
      "cell_type": "code",
      "source": [
        "class Solution:\n",
        "    def numJewelsInStones(self, jewels: str, stones: str) -> int:\n",
        "        ans = 0\n",
        "        # O(n + m)\n",
        "        J = set (jewels)\n",
        "        for i in stones:\n",
        "            if i in J:\n",
        "                ans +=1\n",
        "        return ans\n",
        "\n",
        "        # O(n * m)\n",
        "        # for i in jewels:\n",
        "\n",
        "        #     if i in stones:\n",
        "        #         for j in stones:\n",
        "        #             if i == j:\n",
        "        #                 ans +=1\n",
        "\n",
        "        # return ans"
      ],
      "metadata": {
        "id": "9B62Ju1L91zp"
      },
      "execution_count": null,
      "outputs": []
    },
    {
      "cell_type": "markdown",
      "source": [
        "----"
      ],
      "metadata": {
        "id": "EBc13LFjMdlA"
      }
    },
    {
      "cell_type": "markdown",
      "source": [
        "## 383 Ransom Note\n",
        "\n",
        "\n",
        "    Given two strings ransomNote and magazine, return true if ransomNote can be constructed by using the letters from magazine and false otherwise.\n",
        "\n",
        "    Each letter in magazine can only be used once in ransomNote.\n",
        "\n"
      ],
      "metadata": {
        "id": "28O01I2clsmk"
      }
    },
    {
      "cell_type": "code",
      "source": [
        "class Solution:\n",
        "    def canConstruct(self, ransomNote: str, magazine: str) -> bool:\n",
        "        R = {}\n",
        "\n",
        "        for i in ransomNote:\n",
        "            if i in R:\n",
        "                R[i] +=1\n",
        "            else:\n",
        "                R[i] = 1\n",
        "        M = {}\n",
        "        for i in magazine:\n",
        "            if i in M:\n",
        "                M[i] +=1\n",
        "            else:\n",
        "                M[i] = 1\n",
        "        for key, values in R.items():\n",
        "            if (key in M):\n",
        "                if M[key] >= R[key]:\n",
        "                    R[key] = 0\n",
        "            else: return False\n",
        "\n",
        "        return all(value == 0 for value in R.values())\n",
        "\n",
        "# ---------------------------------------------------------------------------------------------------------------\n",
        "# After seeing optimization vid\n",
        "#  O (m +n )\n",
        "from collections import Counter\n",
        "class Solution:\n",
        "    def canConstruct(self, ransomNote: str, magazine: str) -> bool:\n",
        "        M = Counter(magazine)\n",
        "        for i in ransomNote:\n",
        "            if i in M:\n",
        "\n",
        "                if M[i] == 1:\n",
        "                    del M[i]\n",
        "                else:\n",
        "                    M[i] -= 1\n",
        "            else: return False\n",
        "\n",
        "        return True"
      ],
      "metadata": {
        "id": "NycyiAYlMfz1"
      },
      "execution_count": null,
      "outputs": []
    },
    {
      "cell_type": "markdown",
      "source": [
        "----"
      ],
      "metadata": {
        "id": "qALkeN37CxXP"
      }
    },
    {
      "cell_type": "markdown",
      "source": [
        "## 242 Valid Anagram\n",
        "\n",
        "\n",
        "    Given two strings s and t, return true if t is an anagram of s, and false otherwise.\n",
        "\n",
        "    An Anagram is a word or phrase formed by rearranging the letters of a different word or phrase,\n",
        "    typically using all the original letters exactly once."
      ],
      "metadata": {
        "id": "Z4hRjSa5CxCR"
      }
    },
    {
      "cell_type": "code",
      "source": [
        "# Self ans\n",
        "from collections import Counter\n",
        "class Solution:\n",
        "    def isAnagram(self, s: str, t: str) -> bool:\n",
        "        S = Counter (s)\n",
        "        for i in t:\n",
        "            if i not in S:\n",
        "                return False\n",
        "            elif S[i] == 1:\n",
        "                del S[i]\n",
        "            else:\n",
        "                S[i] -= 1\n",
        "        return True if len(S) == 0 else False\n",
        "\n",
        "\n",
        "# ----------------------------------------------------------------\n",
        "# After seeing optimization vid\n",
        "from collections import Counter\n",
        "class Solution:\n",
        "    def isAnagram(self, s: str, t: str) -> bool:\n",
        "        S = Counter(s)\n",
        "        T = Counter(t)\n",
        "        return S==T\n",
        "\n"
      ],
      "metadata": {
        "id": "eORqnY3bMfwg"
      },
      "execution_count": null,
      "outputs": []
    },
    {
      "cell_type": "markdown",
      "source": [
        "---"
      ],
      "metadata": {
        "id": "9EZu_Z9hDHm0"
      }
    },
    {
      "cell_type": "markdown",
      "source": [
        "## 1189 Maximum Number of Balloons\n",
        "\n",
        "    \n",
        "    \n",
        "    Given a string text, you want to use the characters of text to form as many instances of the word \"balloon\" as possible.\n",
        "\n",
        "    You can use each character in text at most once. Return the maximum number of instances that can be formed."
      ],
      "metadata": {
        "id": "tvAG_m52DHbH"
      }
    },
    {
      "cell_type": "code",
      "source": [
        "# Self Ans\n",
        "from collections import Counter\n",
        "class Solution:\n",
        "    def maxNumberOfBalloons(self, text: str) -> int:\n",
        "        T = Counter(text)\n",
        "        b =\"balloon\"\n",
        "        ans = 0\n",
        "        Flag = True\n",
        "        while True:\n",
        "\n",
        "            for i in b:\n",
        "                if i not in T:\n",
        "                    Flag = False\n",
        "                    break\n",
        "                elif T[i] == 1:\n",
        "                    del T[i]\n",
        "                else:\n",
        "                    T[i] -= 1\n",
        "\n",
        "            if Flag == True: ans += 1\n",
        "            else: break\n",
        "        return ans\n",
        "\n",
        "        #---------------------------------------\n",
        "        # More optimized\n",
        "\n",
        "from collections import defaultdict\n",
        "class Solution:\n",
        "    def maxNumberOfBalloons(self, text: str) -> int:\n",
        "        T = defaultdict(int)\n",
        "        b =\"balloon\"\n",
        "        for i in text:\n",
        "            if i in b:\n",
        "                T[i] += 1\n",
        "        if any(i not in T for i in b): return 0\n",
        "        else:\n",
        "            return min(T[\"b\"],T[\"a\"],T[\"l\"]//2, T[\"o\"]//2, T[\"n\"])\n",
        "\n"
      ],
      "metadata": {
        "id": "KoQB2_aVMfta"
      },
      "execution_count": null,
      "outputs": []
    },
    {
      "cell_type": "markdown",
      "source": [
        "----"
      ],
      "metadata": {
        "id": "gSuOMzUuIKhq"
      }
    },
    {
      "cell_type": "markdown",
      "source": [
        "## 1 Two Sum\n",
        "\n",
        "\n",
        "    Given an array of integers nums and an integer target, return indices of the two numbers such that they add up to target.\n",
        "\n",
        "    You may assume that each input would have exactly one solution, and you may not use the same element twice.\n",
        "\n",
        "    You can return the answer in any order."
      ],
      "metadata": {
        "id": "rHOPScmAIKcn"
      }
    },
    {
      "cell_type": "code",
      "source": [
        "class Solution:\n",
        "    def twoSum(self, nums: List[int], target: int) -> List[int]:\n",
        "        h = {}\n",
        "        for i in range(len(nums)):\n",
        "            if (target - nums[i]) in h:\n",
        "                return [h[target - nums[i]], i]\n",
        "            else:\n",
        "                h[nums[i]] = i\n",
        "\n"
      ],
      "metadata": {
        "id": "5v87f5sMMfqT"
      },
      "execution_count": null,
      "outputs": []
    },
    {
      "cell_type": "markdown",
      "source": [
        "----"
      ],
      "metadata": {
        "id": "5kGw2h8COjiR"
      }
    },
    {
      "cell_type": "markdown",
      "source": [
        "## 169 Majority Element\n",
        "\n",
        "    Given an array nums of size n, return the majority element.\n",
        "\n",
        "    The majority element is the element that appears more than ⌊n / 2⌋ times. You may assume that the majority element always exists in the array.\n",
        "\n"
      ],
      "metadata": {
        "id": "zhB_809BOjX9"
      }
    },
    {
      "cell_type": "code",
      "source": [
        "from collections import Counter\n",
        "class Solution:\n",
        "    def majorityElement(self, nums: List[int]) -> int:\n",
        "        N = Counter(nums)\n",
        "        majority = 0\n",
        "        majKey = None\n",
        "        for k, v in N.items():\n",
        "            if v > majority:\n",
        "                majority = v\n",
        "                majKey = k\n",
        "        return majKey\n",
        "\n",
        " # -------------------------------------------------------------------\n",
        "#   optimization O(n)\n",
        "\n",
        "\n",
        "class Solution:\n",
        "    def majorityElement(self, nums: List[int]) -> int:\n",
        "        count = 0\n",
        "        ans = -1\n",
        "\n",
        "        for num in nums:\n",
        "            if count == 0:\n",
        "                ans = num\n",
        "            if ans == num:\n",
        "                count += 1\n",
        "            else:\n",
        "                count -= 1\n",
        "        return ans"
      ],
      "metadata": {
        "id": "0EalQOFfMfmk"
      },
      "execution_count": null,
      "outputs": []
    },
    {
      "cell_type": "markdown",
      "source": [
        "------------------"
      ],
      "metadata": {
        "id": "mKD1JB0zRzyv"
      }
    },
    {
      "cell_type": "markdown",
      "source": [
        "## 167 Two Sum II - Input Array Is Sorted <To Do again>\n",
        "\n",
        "\n",
        "    Given a 1-indexed array of integers numbers that is already sorted in non-decreasing order,\n",
        "    find two numbers such that they add up to a specific target number.\n",
        "    Let these two numbers be numbers[index1] and numbers[index2] where 1 <= index1 < index2 <= numbers.length.\n",
        "\n",
        "    Return the indices of the two numbers, index1 and index2, added by one as an integer array [index1, index2] of length 2.\n",
        "\n",
        "    The tests are generated such that there is exactly one solution. You may not use the same element twice.\n",
        "\n",
        "    Your solution must use only constant extra space."
      ],
      "metadata": {
        "id": "6RL5OzSaRzuu"
      }
    },
    {
      "cell_type": "code",
      "source": [
        "class Solution:\n",
        "    def twoSum(self, numbers: List[int], target: int) -> List[int]:\n",
        "\n",
        "        N = len(numbers)\n",
        "        L = 0\n",
        "        R = N - 1\n",
        "\n",
        "        for i in range(N):\n",
        "            if numbers[L] + numbers[R] > target:\n",
        "                R = R - 1\n",
        "            elif numbers[L] + numbers[R] < target:\n",
        "                L = L+1\n",
        "            elif numbers[L] + numbers[R] == target:\n",
        "                return [L+1,R+1]\n"
      ],
      "metadata": {
        "id": "i6osIIewMfjA"
      },
      "execution_count": null,
      "outputs": []
    },
    {
      "cell_type": "markdown",
      "source": [
        "## 36 Valid Sudoku [DIBSA]\n",
        "\n"
      ],
      "metadata": {
        "id": "6N459ZcLlGlc"
      }
    },
    {
      "cell_type": "markdown",
      "source": [
        "Determine if a 9 x 9 Sudoku board is valid. Only the filled cells need to be validated according to the following rules:\n",
        "\n",
        "Each row must contain the digits 1-9 without repetition.\n",
        "Each column must contain the digits 1-9 without repetition.\n",
        "Each of the nine 3 x 3 sub-boxes of the grid must contain the digits 1-9 without repetition.\n",
        "Note:\n",
        "\n",
        "A Sudoku board (partially filled) could be valid but is not necessarily solvable.\n",
        "Only the filled cells need to be validated according to the mentioned rules."
      ],
      "metadata": {
        "id": "1etoqKJzlGSF"
      }
    },
    {
      "cell_type": "code",
      "source": [
        "class Solution:\n",
        "    def isValidSudoku(self, board: List[List[str]]) -> bool:\n",
        "        # Validate row\n",
        "\n",
        "        for i in range(9):\n",
        "            s = set()\n",
        "            for j in range(9):\n",
        "                item = board[i][j]\n",
        "                if item in s:\n",
        "                    return False\n",
        "                elif item != '.':\n",
        "                    s.add(item)\n",
        "\n",
        "        # validate colum\n",
        "        for i in range(9):\n",
        "            s = set()\n",
        "            for j in range(9):\n",
        "                item = board[j][i]\n",
        "                if item in s:\n",
        "                    return False\n",
        "                elif item != '.':\n",
        "                    s.add(item)\n",
        "\n",
        "        #  Validate box\n",
        "\n",
        "        starts = [(0,0),(0,3), (0,6),\n",
        "                    (3,0),(3,3), (3,6),\n",
        "                    (6,0),(6,3), (6,6)\n",
        "        ]\n",
        "\n",
        "        for i, j in starts:\n",
        "            s = set()\n",
        "            for row in range(i, i+3):\n",
        "                for col  in range(j, j+3):\n",
        "                    item = board[row][col]\n",
        "                    if item in s:\n",
        "                        return False\n",
        "                    elif item != '.':\n",
        "                        s.add(item)\n",
        "        return True\n",
        "\n"
      ],
      "metadata": {
        "id": "-7cQ1X1plZIp"
      },
      "execution_count": null,
      "outputs": []
    },
    {
      "cell_type": "markdown",
      "source": [
        "\n",
        "# 2 pointers\n"
      ],
      "metadata": {
        "id": "88rDfQidRJH_"
      }
    },
    {
      "cell_type": "markdown",
      "source": [
        "## 977 Squares of a Sorted Array\n",
        "\n",
        "\n",
        "        Given an integer array nums sorted in non-decreasing order, return an array of the squares\n",
        "        of each number sorted in non-decreasing order.\n",
        "\n"
      ],
      "metadata": {
        "id": "fwi0Ch9RRKjb"
      }
    },
    {
      "cell_type": "code",
      "source": [
        "class Solution:\n",
        "    def sortedSquares(self, nums: List[int]) -> List[int]:\n",
        "        L = 0\n",
        "        R = len(nums) - 1\n",
        "\n",
        "        ans = []\n",
        "\n",
        "        while R>=L:\n",
        "            if abs(nums[L]) < abs(nums[R]):\n",
        "                ans.append(nums[R] **2)\n",
        "                R -= 1\n",
        "            else:\n",
        "                ans.append(nums[L] **2)\n",
        "                L += 1\n",
        "        ans.reverse()\n",
        "        return ans"
      ],
      "metadata": {
        "id": "36--tXWTRKUD"
      },
      "execution_count": null,
      "outputs": []
    },
    {
      "cell_type": "markdown",
      "source": [
        "## 344 Reverse String\n",
        "\n",
        "    \n",
        "    Write a function that reverses a string. The input string is given as an array of characters s.\n",
        "\n",
        "    You must do this by modifying the input array in-place with O(1) extra memory."
      ],
      "metadata": {
        "id": "IP-f-nHTUsMn"
      }
    },
    {
      "cell_type": "code",
      "source": [
        "class Solution:\n",
        "    def reverseString(self, s: List[str]) -> None:\n",
        "        \"\"\"\n",
        "        Do not return anything, modify s in-place instead.\n",
        "        \"\"\"\n",
        "        L = 0\n",
        "        R = len(s) - 1\n",
        "        while(L<=R):\n",
        "            s[L], s[R] = s[R], s[L]\n",
        "            L += 1\n",
        "            R -= 1\n",
        "\n",
        "\n"
      ],
      "metadata": {
        "id": "VvTV1fFIRrtF"
      },
      "execution_count": null,
      "outputs": []
    },
    {
      "cell_type": "markdown",
      "source": [
        "\n",
        "## 125 Valid Palindrome\n",
        "\n",
        "\n",
        "    A phrase is a palindrome if, after converting all uppercase letters into lowercase letters and\n",
        "    removing all non-alphanumeric characters, it reads the same forward and backward.\n",
        "    Alphanumeric characters include letters and numbers.\n",
        "\n",
        "    Given a string s, return true if it is a palindrome, or false otherwise."
      ],
      "metadata": {
        "id": "6Vo2ZIvze-l6"
      }
    },
    {
      "cell_type": "code",
      "source": [
        "# ------------------------------------------------------------------------------\n",
        "#  2 pointer approach\n",
        "\n",
        "class Solution:\n",
        "    def isPalindrome(self, s: str) -> bool:\n",
        "        n = len(s)\n",
        "        l = 0\n",
        "        r = n - 1\n",
        "        while r > l:\n",
        "            if not s[l].isalnum():\n",
        "                l += 1\n",
        "                continue\n",
        "            if not s[r].isalnum():\n",
        "                r -= 1\n",
        "                continue\n",
        "            if s[l].lower()  != s[r].lower():\n",
        "                return False\n",
        "            l += 1\n",
        "            r -= 1\n",
        "        return True\n",
        "\n",
        "\n",
        "# ------------------------------------------------------------------------------\n",
        "# naive approach\n",
        "class Solution:\n",
        "    def isPalindrome(self, s: str) -> bool:\n",
        "\n",
        "        alpha = \"\"\n",
        "        for i in s:\n",
        "            if i.isalnum():\n",
        "                alpha +=i\n",
        "        alpha = alpha.lower()\n",
        "        print(alpha)\n",
        "        return alpha == alpha[::-1]"
      ],
      "metadata": {
        "id": "oxKnQrxrRrqO"
      },
      "execution_count": null,
      "outputs": []
    },
    {
      "cell_type": "markdown",
      "source": [
        "## 15 3Sum  [DIBSA]"
      ],
      "metadata": {
        "id": "XPi3IJKlI8i6"
      }
    },
    {
      "cell_type": "markdown",
      "source": [
        "Given an integer array nums, return all the triplets [nums[i], nums[j], nums[k]] such that i != j, i != k, and j != k, and nums[i] + nums[j] + nums[k] == 0.\n",
        "\n",
        "Notice that the solution set must not contain duplicate triplets."
      ],
      "metadata": {
        "id": "fY5aq6omJM5u"
      }
    },
    {
      "cell_type": "code",
      "source": [
        "class Solution:\n",
        "    def threeSum(self, nums: List[int]) -> List[List[int]]:\n",
        "        nums.sort()\n",
        "        ans = []\n",
        "        n = len(nums)\n",
        "        for i in range(n):\n",
        "            if nums[i] > 0:\n",
        "                break\n",
        "\n",
        "            elif i >0 and  nums[i] == nums[i-1]:\n",
        "                continue\n",
        "            lo = i + 1\n",
        "            hi = n - 1\n",
        "            while lo < hi:\n",
        "                summ = nums[i] + nums[lo] + nums[hi]\n",
        "                if   summ == 0:\n",
        "                    ans.append([nums[i] , nums[lo] , nums[hi]])\n",
        "                    lo, hi = lo +1, hi -1\n",
        "                    while lo < hi and nums[lo] == nums[lo-1]:\n",
        "                        lo +=1\n",
        "                    while lo < hi and nums[hi] == nums[hi+1]:\n",
        "                        hi -=1\n",
        "                elif summ  > 0:\n",
        "                    hi -=1\n",
        "                else:\n",
        "                    lo +=1\n",
        "\n",
        "\n",
        "        return ans\n"
      ],
      "metadata": {
        "id": "DqtJ4ijqJNrg"
      },
      "execution_count": null,
      "outputs": []
    },
    {
      "cell_type": "markdown",
      "source": [
        "## 11 Container With Most Water [DIBSA]"
      ],
      "metadata": {
        "id": "fhjPSD2ONj8f"
      }
    },
    {
      "cell_type": "markdown",
      "source": [
        "You are given an integer array height of length n. There are n vertical lines drawn such that the two endpoints of the ith line are (i, 0) and (i, height[i]).\n",
        "\n",
        "Find two lines that together with the x-axis form a container, such that the container contains the most water.\n",
        "\n",
        "Return the maximum amount of water a container can store.\n",
        "\n",
        "Notice that you may not slant the container."
      ],
      "metadata": {
        "id": "AhMCPDkwNjmV"
      }
    },
    {
      "cell_type": "code",
      "source": [
        "class Solution:\n",
        "    def maxArea(self, height: List[int]) -> int:\n",
        "        n = len(height)\n",
        "\n",
        "        l = 0\n",
        "        r = n-1\n",
        "        max_Area = 0\n",
        "        # print(max_Area)\n",
        "        while l < r:\n",
        "            w = r-l\n",
        "            h = min(height[l] , height[r])\n",
        "            a = h * w\n",
        "            max_Area = max(max_Area, a)\n",
        "            if height[l] <= height[r]:\n",
        "                l +=1\n",
        "            else:\n",
        "                r -=1\n",
        "\n",
        "\n",
        "        return max_Area"
      ],
      "metadata": {
        "id": "46pWhDaXNr16"
      },
      "execution_count": null,
      "outputs": []
    },
    {
      "cell_type": "markdown",
      "source": [
        "## 42 Trapping Rain Water"
      ],
      "metadata": {
        "id": "QgzVS_EoJUT1"
      }
    },
    {
      "cell_type": "markdown",
      "source": [
        "Given n non-negative integers representing an elevation map where the width of each bar is 1, compute how much water it can trap after raining."
      ],
      "metadata": {
        "id": "NpoO4h-3Z4Gf"
      }
    },
    {
      "cell_type": "code",
      "source": [
        "class Solution:\n",
        "    def trap(self, height: List[int]) -> int:\n",
        "        n = len(height)\n",
        "        l_wall = r_wall = 0\n",
        "        max_left = [0] * n\n",
        "        max_right = [0] * n\n",
        "\n",
        "        for i in range(n):\n",
        "            j = -i - 1\n",
        "            max_left[i] = l_wall\n",
        "            max_right[j] = r_wall\n",
        "\n",
        "            l_wall = max(l_wall, height[i])\n",
        "            r_wall = max(r_wall, height[j])\n",
        "\n",
        "        summ = 0\n",
        "        for i in range(n):\n",
        "            potential = min(max_left[i], max_right[i])\n",
        "            summ += max(0, potential - height[i])\n",
        "        return summ\n"
      ],
      "metadata": {
        "id": "Nz0BwIE0Z4qB"
      },
      "execution_count": null,
      "outputs": []
    },
    {
      "cell_type": "markdown",
      "source": [
        "# Stacks"
      ],
      "metadata": {
        "id": "F6G1mGXtolNp"
      }
    },
    {
      "cell_type": "markdown",
      "source": [
        "## 682 Baseball Game\n",
        "\n",
        "You are keeping the scores for a baseball game with strange rules. At the beginning of the game, you start with an empty record.\n",
        "\n",
        "You are given a list of strings operations, where operations[i] is the ith operation you must apply to the record and is one of the following:\n",
        "\n",
        "An integer x.\n",
        "Record a new score of x.\n",
        "'+'.\n",
        "Record a new score that is the sum of the previous two scores.\n",
        "'D'.\n",
        "Record a new score that is the double of the previous score.\n",
        "'C'.\n",
        "Invalidate the previous score, removing it from the record.\n",
        "Return the sum of all the scores on the record after applying all the operations.\n",
        "\n",
        "The test cases are generated such that the answer and all intermediate calculations fit in a 32-bit integer and that all operations are valid.\n",
        "    "
      ],
      "metadata": {
        "id": "AWHTfunkpW94"
      }
    },
    {
      "cell_type": "code",
      "source": [
        "class Solution:\n",
        "    def calPoints(self, operations: List[str]) -> int:\n",
        "        result = []\n",
        "\n",
        "        for i in operations:\n",
        "            if i == \"+\":\n",
        "                result.append(result[-1]+result[-2])\n",
        "            elif i == \"D\":\n",
        "                result.append(2*result[-1])\n",
        "            elif i == \"C\":\n",
        "                result.pop()\n",
        "            else:\n",
        "                result.append(int(i))\n",
        "        return sum(result)\n"
      ],
      "metadata": {
        "id": "81ggHyzDRroo",
        "colab": {
          "base_uri": "https://localhost:8080/",
          "height": 348
        },
        "outputId": "6dc10686-5e86-4664-aaf6-e76184d18129"
      },
      "execution_count": null,
      "outputs": [
        {
          "output_type": "error",
          "ename": "NameError",
          "evalue": "name 'List' is not defined",
          "traceback": [
            "\u001b[0;31m---------------------------------------------------------------------------\u001b[0m",
            "\u001b[0;31mNameError\u001b[0m                                 Traceback (most recent call last)",
            "\u001b[0;32m<ipython-input-2-60212c4c035d>\u001b[0m in \u001b[0;36m<cell line: 1>\u001b[0;34m()\u001b[0m\n\u001b[0;32m----> 1\u001b[0;31m \u001b[0;32mclass\u001b[0m \u001b[0mSolution\u001b[0m\u001b[0;34m:\u001b[0m\u001b[0;34m\u001b[0m\u001b[0;34m\u001b[0m\u001b[0m\n\u001b[0m\u001b[1;32m      2\u001b[0m     \u001b[0;32mdef\u001b[0m \u001b[0mcalPoints\u001b[0m\u001b[0;34m(\u001b[0m\u001b[0mself\u001b[0m\u001b[0;34m,\u001b[0m \u001b[0moperations\u001b[0m\u001b[0;34m:\u001b[0m \u001b[0mList\u001b[0m\u001b[0;34m[\u001b[0m\u001b[0mstr\u001b[0m\u001b[0;34m]\u001b[0m\u001b[0;34m)\u001b[0m \u001b[0;34m->\u001b[0m \u001b[0mint\u001b[0m\u001b[0;34m:\u001b[0m\u001b[0;34m\u001b[0m\u001b[0;34m\u001b[0m\u001b[0m\n\u001b[1;32m      3\u001b[0m         \u001b[0mresult\u001b[0m \u001b[0;34m=\u001b[0m \u001b[0;34m[\u001b[0m\u001b[0;34m]\u001b[0m\u001b[0;34m\u001b[0m\u001b[0;34m\u001b[0m\u001b[0m\n\u001b[1;32m      4\u001b[0m \u001b[0;34m\u001b[0m\u001b[0m\n\u001b[1;32m      5\u001b[0m         \u001b[0;32mfor\u001b[0m \u001b[0mi\u001b[0m \u001b[0;32min\u001b[0m \u001b[0moperations\u001b[0m\u001b[0;34m:\u001b[0m\u001b[0;34m\u001b[0m\u001b[0;34m\u001b[0m\u001b[0m\n",
            "\u001b[0;32m<ipython-input-2-60212c4c035d>\u001b[0m in \u001b[0;36mSolution\u001b[0;34m()\u001b[0m\n\u001b[1;32m      1\u001b[0m \u001b[0;32mclass\u001b[0m \u001b[0mSolution\u001b[0m\u001b[0;34m:\u001b[0m\u001b[0;34m\u001b[0m\u001b[0;34m\u001b[0m\u001b[0m\n\u001b[0;32m----> 2\u001b[0;31m     \u001b[0;32mdef\u001b[0m \u001b[0mcalPoints\u001b[0m\u001b[0;34m(\u001b[0m\u001b[0mself\u001b[0m\u001b[0;34m,\u001b[0m \u001b[0moperations\u001b[0m\u001b[0;34m:\u001b[0m \u001b[0mList\u001b[0m\u001b[0;34m[\u001b[0m\u001b[0mstr\u001b[0m\u001b[0;34m]\u001b[0m\u001b[0;34m)\u001b[0m \u001b[0;34m->\u001b[0m \u001b[0mint\u001b[0m\u001b[0;34m:\u001b[0m\u001b[0;34m\u001b[0m\u001b[0;34m\u001b[0m\u001b[0m\n\u001b[0m\u001b[1;32m      3\u001b[0m         \u001b[0mresult\u001b[0m \u001b[0;34m=\u001b[0m \u001b[0;34m[\u001b[0m\u001b[0;34m]\u001b[0m\u001b[0;34m\u001b[0m\u001b[0;34m\u001b[0m\u001b[0m\n\u001b[1;32m      4\u001b[0m \u001b[0;34m\u001b[0m\u001b[0m\n\u001b[1;32m      5\u001b[0m         \u001b[0;32mfor\u001b[0m \u001b[0mi\u001b[0m \u001b[0;32min\u001b[0m \u001b[0moperations\u001b[0m\u001b[0;34m:\u001b[0m\u001b[0;34m\u001b[0m\u001b[0;34m\u001b[0m\u001b[0m\n",
            "\u001b[0;31mNameError\u001b[0m: name 'List' is not defined"
          ]
        }
      ]
    },
    {
      "cell_type": "markdown",
      "source": [
        "## 739 Daily Temperatures [DIBSA]\n",
        "\n",
        "\n",
        "\n",
        "Given an array of integers temperatures represents the daily temperatures, return an array answer such that answer[i] is the number of days you have to wait after the ith day to get a warmer temperature. If there is no future day for which this is possible, keep answer[i] == 0 instead.\n",
        "\n"
      ],
      "metadata": {
        "id": "_E5uylUDcuaZ"
      }
    },
    {
      "cell_type": "code",
      "source": [
        "class Solution:\n",
        "    def dailyTemperatures(self, temperatures: List[int]) -> List[int]:\n",
        "        n = len(temperatures)\n",
        "        ans =[0] * n\n",
        "        stack = []\n",
        "        for i,t in enumerate(temperatures):\n",
        "            while stack and stack[-1][0]< t:\n",
        "                ans[stack[-1][1]] = i - stack[-1][1]\n",
        "                stack.pop()\n",
        "            stack.append((t, i))\n",
        "\n",
        "\n",
        "\n",
        "        return ans\n"
      ],
      "metadata": {
        "id": "VAVC2xEZRrkn"
      },
      "execution_count": null,
      "outputs": []
    },
    {
      "cell_type": "markdown",
      "source": [
        "## 155 Min Stack  [DIBSA]\n",
        "\n",
        "Design a stack that supports push, pop, top, and retrieving the minimum element in constant time.\n",
        "\n",
        "Implement the MinStack class:\n",
        "\n",
        "MinStack() initializes the stack object.\n",
        "void push(int val) pushes the element val onto the stack.\n",
        "void pop() removes the element on the top of the stack.\n",
        "int top() gets the top element of the stack.\n",
        "int getMin() retrieves the minimum element in the stack.\n",
        "You must implement a solution with O(1) time complexity for each function."
      ],
      "metadata": {
        "id": "YH_8q_sydDit"
      }
    },
    {
      "cell_type": "code",
      "source": [
        "class MinStack:\n",
        "\n",
        "    def __init__(self):\n",
        "        self.stack =[]\n",
        "        self.min_stack = []\n",
        "\n",
        "\n",
        "    def push(self, val: int) -> None:\n",
        "        self.stack.append(val)\n",
        "\n",
        "        if not self.min_stack:\n",
        "            self.min_stack.append(val)\n",
        "        elif self.min_stack and self.min_stack[-1]>val:\n",
        "            self.min_stack.append(val)\n",
        "        else:\n",
        "            self.min_stack.append(self.min_stack[-1])\n",
        "\n",
        "\n",
        "    def pop(self) -> None:\n",
        "        self.stack.pop()\n",
        "        self.min_stack.pop()\n",
        "\n",
        "\n",
        "    def top(self) -> int:\n",
        "        return self.stack[-1]\n",
        "\n",
        "\n",
        "    def getMin(self) -> int:\n",
        "        return self.min_stack[-1]\n",
        "\n"
      ],
      "metadata": {
        "id": "cuOwonhlRriA"
      },
      "execution_count": null,
      "outputs": []
    },
    {
      "cell_type": "markdown",
      "source": [
        "## 1420 Valid Parentheses\n",
        "\n",
        "    Given a string s containing just the characters '(', ')', '{', '}', '[' and ']', determine if the input string is valid.\n",
        "\n",
        "    An input string is valid if:\n",
        "\n",
        "    Open brackets must be closed by the same type of brackets.\n",
        "    Open brackets must be closed in the correct order.\n",
        "    Every close bracket has a corresponding open bracket of the same type."
      ],
      "metadata": {
        "id": "63El3wSAhQFQ"
      }
    },
    {
      "cell_type": "code",
      "source": [
        "class Solution:\n",
        "    def isValid(self, s: str) -> bool:\n",
        "\n",
        "        h = {')': '(', '}': '{', ']':  '['}\n",
        "        stack = []\n",
        "\n",
        "\n",
        "        for i in s:\n",
        "            if i not in h:\n",
        "                stack.append(i)\n",
        "            else:\n",
        "                if not stack: return False\n",
        "                popped = stack.pop()\n",
        "                if h[i] != popped:\n",
        "                    return False\n",
        "        return not stack\n"
      ],
      "metadata": {
        "id": "6nQQmkLDRrfn"
      },
      "execution_count": null,
      "outputs": []
    },
    {
      "cell_type": "markdown",
      "source": [
        "# Linked List"
      ],
      "metadata": {
        "id": "bHpZRBIPZ2wY"
      }
    },
    {
      "cell_type": "markdown",
      "source": [
        "## 83 Remove Duplicates from Sorted List[DIBSA]"
      ],
      "metadata": {
        "id": "enwZlp8rZ9yB"
      }
    },
    {
      "cell_type": "markdown",
      "source": [
        "Given the head of a sorted linked list, delete all duplicates such that each element appears only once. Return the linked list sorted as well."
      ],
      "metadata": {
        "id": "e8Zv-_YoZ_1R"
      }
    },
    {
      "cell_type": "code",
      "source": [
        "# Definition for singly-linked list.\n",
        "# class ListNode:\n",
        "#     def __init__(self, val=0, next=None):\n",
        "#         self.val = val\n",
        "#         self.next = next\n",
        "class Solution:\n",
        "    def deleteDuplicates(self, head: Optional[ListNode]) -> Optional[ListNode]:\n",
        "        curr = head\n",
        "        while curr and curr.next:\n",
        "            if curr.val == curr.next.val:\n",
        "                curr.next = curr.next.next\n",
        "            else:\n",
        "                curr = curr.next\n",
        "        return head\n"
      ],
      "metadata": {
        "id": "q2sGCQqGZ2Go"
      },
      "execution_count": null,
      "outputs": []
    },
    {
      "cell_type": "markdown",
      "source": [
        "## 206. Reverse Linked List"
      ],
      "metadata": {
        "id": "jgkxioNQaRna"
      }
    },
    {
      "cell_type": "markdown",
      "source": [
        "> Do it by self again    \n",
        "    \n",
        "    Given the head of a singly linked list, reverse the list, and return the reversed list.\n",
        "\n",
        "    "
      ],
      "metadata": {
        "id": "lbKP8u73aXRR"
      }
    },
    {
      "cell_type": "code",
      "source": [
        "# Definition for singly-linked list.\n",
        "# class ListNode:\n",
        "#     def __init__(self, val=0, next=None):\n",
        "#         self.val = val\n",
        "#         self.next = next\n",
        "class Solution:\n",
        "    def reverseList(self, head: Optional[ListNode]) -> Optional[ListNode]:\n",
        "        curr = head\n",
        "        prev = None\n",
        "        while curr:\n",
        "            temp = curr.next\n",
        "            curr.next = prev\n",
        "            prev = curr\n",
        "            curr = temp\n",
        "        return prev\n"
      ],
      "metadata": {
        "id": "8cMz50RuZ192"
      },
      "execution_count": null,
      "outputs": []
    },
    {
      "cell_type": "markdown",
      "source": [
        "## 21. Merge Two Sorted Lists"
      ],
      "metadata": {
        "id": "Mf2j8GDEOkJY"
      }
    },
    {
      "cell_type": "markdown",
      "source": [
        "> Do it again by self\n",
        "\n",
        "    You are given the heads of two sorted linked lists list1 and list2.\n",
        "\n",
        "    Merge the two lists into one sorted list. The list should be made by splicing together the nodes of the first two lists.\n",
        "\n",
        "    Return the head of the merged linked list.\n",
        "\n"
      ],
      "metadata": {
        "id": "3bWl8G5COmbD"
      }
    },
    {
      "cell_type": "code",
      "source": [
        "# Definition for singly-linked list.\n",
        "# class ListNode:\n",
        "#     def __init__(self, val=0, next=None):\n",
        "#         self.val = val\n",
        "#         self.next = next\n",
        "class Solution:\n",
        "    def mergeTwoLists(self, list1: Optional[ListNode], list2: Optional[ListNode]) -> Optional[ListNode]:\n",
        "\n",
        "\n",
        "        d = ListNode()\n",
        "        cur = d\n",
        "\n",
        "        while list1 and list2:\n",
        "            if list1.val < list2.val:\n",
        "                cur.next = list1\n",
        "                cur = list1\n",
        "                list1 =list1.next\n",
        "            else:\n",
        "\n",
        "                cur.next = list2\n",
        "                cur = list2\n",
        "                list2 =list2.next\n",
        "        if list1:\n",
        "            cur.next = list1\n",
        "        else:\n",
        "            cur.next =list2\n",
        "        return d.next\n"
      ],
      "metadata": {
        "id": "PU1G2nfCZ15x"
      },
      "execution_count": null,
      "outputs": []
    },
    {
      "cell_type": "markdown",
      "source": [
        "## 141. Linked List Cycle"
      ],
      "metadata": {
        "id": "C4YgczxKUDQ5"
      }
    },
    {
      "cell_type": "markdown",
      "source": [
        "    Given head, the head of a linked list, determine if the linked list has a cycle in it.\n",
        "\n",
        "    There is a cycle in a linked list if there is some node in the list that can be reached again by continuously following the next pointer. Internally, pos is used to denote the index of the node that tail's next pointer is connected to. Note that pos is not passed as a parameter.\n",
        "\n",
        "    Return true if there is a cycle in the linked list. Otherwise, return false."
      ],
      "metadata": {
        "id": "KQcB1zMEUIwg"
      }
    },
    {
      "cell_type": "code",
      "source": [
        "# Definition for singly-linked list.\n",
        "# class ListNode:\n",
        "#     def __init__(self, x):\n",
        "#         self.val = x\n",
        "#         self.next = None\n",
        "# --------------------------------\n",
        "# DO THIS AGAIN BY SELF\n",
        "# Time: O(n)\n",
        "# Space: O(1)\n",
        "\n",
        "class Solution:\n",
        "    def hasCycle(self, head: Optional[ListNode]) -> bool:\n",
        "        d = ListNode()\n",
        "        d.next = head\n",
        "        slow = fast = d\n",
        "\n",
        "        while fast and fast.next:\n",
        "            fast = fast.next.next\n",
        "            slow = slow.next\n",
        "            if slow is fast:\n",
        "                return True\n",
        "\n",
        "        return False\n",
        "\n",
        "\n",
        "\n",
        "\n",
        "# -------------------------------------------------------------\n",
        "# DONE BY SELF\n",
        "# Time: O(n)\n",
        "# Space: O(n)\n",
        "\n",
        "\n",
        "\n",
        "class Solution:\n",
        "    def hasCycle(self, head: Optional[ListNode]) -> bool:\n",
        "\n",
        "\n",
        "        cur = head\n",
        "        seen = set()\n",
        "        while cur:\n",
        "            if cur in seen:\n",
        "                return True\n",
        "            else:\n",
        "                seen.add(cur)\n",
        "            cur = cur.next\n",
        "        return False"
      ],
      "metadata": {
        "id": "AFwoyjVbZ14F"
      },
      "execution_count": null,
      "outputs": []
    },
    {
      "cell_type": "markdown",
      "source": [
        "## 876. Middle of the Linked List"
      ],
      "metadata": {
        "id": "mfJlRA_3Uobr"
      }
    },
    {
      "cell_type": "markdown",
      "source": [
        "    Given the head of a singly linked list, return the middle node of the linked list.\n",
        "\n",
        "    If there are two middle nodes, return the second middle node."
      ],
      "metadata": {
        "id": "Lnc8koXhAr99"
      }
    },
    {
      "cell_type": "code",
      "source": [
        "# Definition for singly-linked list.\n",
        "# class ListNode:\n",
        "#     def __init__(self, val=0, next=None):\n",
        "#         self.val = val\n",
        "#         self.next = next\n",
        "class Solution:\n",
        "    def middleNode(self, head: Optional[ListNode]) -> Optional[ListNode]:\n",
        "        # Naive method\n",
        "        c = head\n",
        "        l = 0\n",
        "        while c:\n",
        "            l += 1\n",
        "            c = c.next\n",
        "        cur = head\n",
        "        x= 0\n",
        "        while x < l//2:\n",
        "            cur = cur.next\n",
        "            x +=1\n",
        "        return cur\n",
        "\n",
        "\n",
        "#  ----------------------\n",
        "#  Slow fast pointer method\n",
        "\n",
        "class Solution:\n",
        "    def middleNode(self, head: Optional[ListNode]) -> Optional[ListNode]:\n",
        "        slow = fast = head\n",
        "\n",
        "        while fast and fast.next:\n",
        "            slow = slow.next\n",
        "            fast = fast.next.next\n",
        "        return slow\n",
        "\n"
      ],
      "metadata": {
        "id": "5LNxyPEKZ12g"
      },
      "execution_count": null,
      "outputs": []
    },
    {
      "cell_type": "markdown",
      "source": [
        "## 19. Remove Nth Node From End of List\n"
      ],
      "metadata": {
        "id": "o5vLzfWRA4c6"
      }
    },
    {
      "cell_type": "markdown",
      "source": [
        "> Do by self again\n",
        "\n",
        "\n",
        "    Given the head of a linked list, remove the nth node from the end of the list and return its head.\n",
        "\n"
      ],
      "metadata": {
        "id": "Xvqvr9eeFEGM"
      }
    },
    {
      "cell_type": "code",
      "source": [
        "# Definition for singly-linked list.\n",
        "# class ListNode:\n",
        "#     def __init__(self, val=0, next=None):\n",
        "#         self.val = val\n",
        "#         self.next = next\n",
        "class Solution:\n",
        "    def removeNthFromEnd(self, head: Optional[ListNode], n: int) -> Optional[ListNode]:\n",
        "        dummy = ListNode()\n",
        "        dummy.next =head\n",
        "        ahead = behind = dummy\n",
        "\n",
        "        for _ in range(n +1):\n",
        "            ahead = ahead.next\n",
        "        while ahead:\n",
        "            behind = behind.next\n",
        "            ahead = ahead.next\n",
        "        behind.next = behind.next.next\n",
        "        return dummy.next"
      ],
      "metadata": {
        "id": "5QY9ICK7FHRk"
      },
      "execution_count": null,
      "outputs": []
    },
    {
      "cell_type": "markdown",
      "source": [
        "## 138. Copy List with Random Pointer"
      ],
      "metadata": {
        "id": "siHMrjQOFB35"
      }
    },
    {
      "cell_type": "markdown",
      "source": [
        "> to do again by self   \n",
        "   \n",
        "   \n",
        "    A linked list of length n is given such that each node contains an additional random pointer, which could point to any node in the list, or null.\n",
        "\n",
        "    Construct a deep copy of the list. The deep copy should consist of exactly n brand new nodes, where each new node has its value set to the value of its corresponding original node. Both the next and random pointer of the new nodes should point to new nodes in the copied list such that the pointers in the original list and copied list represent the same list state. None of the pointers in the new list should point to nodes in the original list.\n",
        "\n",
        "    For example, if there are two nodes X and Y in the original list, where X.random --> Y, then for the corresponding two nodes x and y in the copied list, x.random --> y.\n",
        "\n",
        "    Return the head of the copied linked list.\n",
        "\n",
        "    The linked list is represented in the input/output as a list of n nodes. Each node is represented as a pair of [val, random_index] where:\n",
        "\n",
        "    val: an integer representing Node.val\n",
        "    random_index: the index of the node (range from 0 to n-1) that the random pointer points to, or null if it does not point to any node.\n",
        "    Your code will only be given the head of the original linked list."
      ],
      "metadata": {
        "id": "LSDVMEVNXLxs"
      }
    },
    {
      "cell_type": "code",
      "source": [
        "\"\"\"\n",
        "# Definition for a Node.\n",
        "class Node:\n",
        "    def __init__(self, x: int, next: 'Node' = None, random: 'Node' = None):\n",
        "        self.val = int(x)\n",
        "        self.next = next\n",
        "        self.random = random\n",
        "\"\"\"\n",
        "\n",
        "class Solution:\n",
        "    def copyRandomList(self, head: 'Optional[Node]') -> 'Optional[Node]':\n",
        "        if not head: return None\n",
        "\n",
        "        curr = head\n",
        "        old_to_new= {}\n",
        "        while curr:\n",
        "            node = Node(curr.val)\n",
        "            old_to_new[curr] = node\n",
        "            curr = curr.next\n",
        "        curr = head\n",
        "        while curr:\n",
        "            new_node = old_to_new[curr]\n",
        "            new_node.next = old_to_new[curr.next] if curr.next else None\n",
        "            new_node.random = old_to_new[curr.random] if curr.random else None\n",
        "            curr = curr.next\n",
        "        return old_to_new[head]\n",
        "\n"
      ],
      "metadata": {
        "id": "Gauo-T2hXRN4"
      },
      "execution_count": null,
      "outputs": []
    },
    {
      "cell_type": "markdown",
      "source": [
        "# Binary Search"
      ],
      "metadata": {
        "id": "vGqY-cuSFCCi"
      }
    },
    {
      "cell_type": "markdown",
      "source": [
        "## 704 Binary Search"
      ],
      "metadata": {
        "id": "t6sf6DbggPgf"
      }
    },
    {
      "cell_type": "markdown",
      "source": [
        "> To do again\n",
        "\n",
        "    Given an array of integers nums which is sorted in ascending order, and an integer target, write a function to search target in nums. If target exists, then return its index. Otherwise, return -1.\n",
        "\n",
        "    You must write an algorithm with O(log n) runtime complexity."
      ],
      "metadata": {
        "id": "zjzp61uqgPcz"
      }
    },
    {
      "cell_type": "code",
      "source": [
        "class Solution:\n",
        "    def search(self, nums: List[int], target: int) -> int:\n",
        "        l = 0\n",
        "        r = len (nums)-1\n",
        "\n",
        "        while l <= r:\n",
        "            m = (l+r)//2\n",
        "            if target == nums[m]:\n",
        "                return m\n",
        "            if nums[m] < target:\n",
        "                l = m+1\n",
        "            elif nums[m] > target:\n",
        "                r = m-1\n",
        "\n",
        "\n",
        "        return -1\n"
      ],
      "metadata": {
        "id": "lxXShh7LgVdd"
      },
      "execution_count": null,
      "outputs": []
    },
    {
      "cell_type": "markdown",
      "source": [
        "## 35 Search Insert Position"
      ],
      "metadata": {
        "id": "UIpQeAmUgPZX"
      }
    },
    {
      "cell_type": "markdown",
      "source": [
        "    Given a sorted array of distinct integers and a target value, return the index if the target is found. If not, return the index where it would be if it were inserted in order.\n",
        "\n",
        "    You must write an algorithm with O(log n) runtime complexity."
      ],
      "metadata": {
        "id": "SL7x1deA7vHH"
      }
    },
    {
      "cell_type": "code",
      "source": [
        "class Solution:\n",
        "    def searchInsert(self, nums: List[int], target: int) -> int:\n",
        "        N = len(nums)\n",
        "        L = 0\n",
        "        R = N-1\n",
        "\n",
        "        while L<=R:\n",
        "            M = (L+R) // 2\n",
        "            if nums[M] == target:\n",
        "                return M\n",
        "\n",
        "            elif nums[M] > target:\n",
        "                R = M-1\n",
        "            else:\n",
        "                L = M +1\n",
        "        if nums[M] < target:\n",
        "            return M + 1\n",
        "        else:\n",
        "            return M"
      ],
      "metadata": {
        "id": "k1TsWilHZ100"
      },
      "execution_count": null,
      "outputs": []
    },
    {
      "cell_type": "markdown",
      "source": [
        "## 278 First Bad Version\n",
        "    You are a product manager and currently leading a team to develop a new product. Unfortunately, the latest version of your product fails the quality check. Since each version is developed based on the previous version, all the versions after a bad version are also bad.\n",
        "\n",
        "    Suppose you have n versions [1, 2, ..., n] and you want to find out the first bad one, which causes all the following ones to be bad.\n",
        "\n",
        "    You are given an API bool isBadVersion(version) which returns whether version is bad. Implement a function to find the first bad version. You should minimize the number of calls to the API."
      ],
      "metadata": {
        "id": "24FTFUITEZPG"
      }
    },
    {
      "cell_type": "code",
      "source": [
        "# The isBadVersion API is already defined for you.\n",
        "# def isBadVersion(version: int) -> bool:\n",
        "\n",
        "class Solution:\n",
        "    def firstBadVersion(self, n: int) -> int:\n",
        "        l = 1\n",
        "        r = n\n",
        "        while l<r:\n",
        "            m = (l+r) // 2\n",
        "            if isBadVersion(m):\n",
        "                r = m\n",
        "            else:\n",
        "                l = m + 1\n",
        "        return l\n",
        "\n"
      ],
      "metadata": {
        "id": "HBWB6FoLEhII"
      },
      "execution_count": null,
      "outputs": []
    },
    {
      "cell_type": "markdown",
      "source": [
        "## 367 Valid Perfect Square"
      ],
      "metadata": {
        "id": "hASMBugNN7HO"
      }
    },
    {
      "cell_type": "markdown",
      "source": [
        "    Given a positive integer num, return true if num is a perfect square or false otherwise.\n",
        "\n",
        "    A perfect square is an integer that is the square of an integer. In other words, it is the product of some integer with itself.\n",
        "\n",
        "    You must not use any built-in library function, such as sqrt."
      ],
      "metadata": {
        "id": "W5Er6tdlN66I"
      }
    },
    {
      "cell_type": "code",
      "source": [
        "class Solution:\n",
        "    def isPerfectSquare(self, num: int) -> bool:\n",
        "        if num == 1: return True\n",
        "\n",
        "        L = 2\n",
        "        R = num +1\n",
        "        while L <= R:\n",
        "            M = (L+R)//2\n",
        "            Sq = M * M\n",
        "\n",
        "            if Sq == num:\n",
        "                return True\n",
        "            if Sq > num:\n",
        "                R = M - 1\n",
        "            else:\n",
        "                L = M +1\n",
        "        return False"
      ],
      "metadata": {
        "id": "rxaFtPd1N6gI"
      },
      "execution_count": null,
      "outputs": []
    },
    {
      "cell_type": "markdown",
      "source": [
        "## 74 Search a 2D Matrix"
      ],
      "metadata": {
        "id": "WEc39gTE78Mj"
      }
    },
    {
      "cell_type": "markdown",
      "source": [
        "> tO DO AGAIN\n",
        "        \n",
        "        You are given an m x n integer matrix matrix with the following two properties:\n",
        "\n",
        "        Each row is sorted in non-decreasing order.\n",
        "        The first integer of each row is greater than the last integer of the previous row.\n",
        "        Given an integer target, return true if target is in matrix or false otherwise.\n",
        "\n",
        "        You must write a solution in O(log(m * n)) time complexity."
      ],
      "metadata": {
        "id": "12HYmQMb78GG"
      }
    },
    {
      "cell_type": "code",
      "source": [
        "class Solution:\n",
        "    def searchMatrix(self, matrix: List[List[int]], target: int) -> bool:\n",
        "        m = len(matrix)\n",
        "        n = len(matrix[0])\n",
        "        R = n*m-1\n",
        "        L = 0\n",
        "\n",
        "        while L <= R:\n",
        "            M = (L+R)//2\n",
        "            i = M // n\n",
        "            j = M % n\n",
        "            if matrix[i][j] == target:\n",
        "                return True\n",
        "            elif matrix[i][j] > target:\n",
        "                R = M - 1\n",
        "            else:\n",
        "                L = M + 1\n",
        "        return False"
      ],
      "metadata": {
        "id": "BrK91l0TZ1ye"
      },
      "execution_count": null,
      "outputs": []
    },
    {
      "cell_type": "markdown",
      "source": [
        "## 153 Find Minimum in Rotated Sorted Array"
      ],
      "metadata": {
        "id": "npQ0JQxlqt0U"
      }
    },
    {
      "cell_type": "markdown",
      "source": [
        "> to do again\n",
        "\n",
        "        Suppose an array of length n sorted in ascending order is rotated between 1 and n times. For example, the array nums = [0,1,2,4,5,6,7] might become:\n",
        "\n",
        "        [4,5,6,7,0,1,2] if it was rotated 4 times.\n",
        "        [0,1,2,4,5,6,7] if it was rotated 7 times.\n",
        "        Notice that rotating an array [a[0], a[1], a[2], ..., a[n-1]] 1 time results in the array [a[n-1], a[0], a[1], a[2], ..., a[n-2]].\n",
        "\n",
        "        Given the sorted rotated array nums of unique elements, return the minimum element of this array.\n",
        "\n",
        "        You must write an algorithm that runs in O(log n) time."
      ],
      "metadata": {
        "id": "t7qXzDGWqtpG"
      }
    },
    {
      "cell_type": "code",
      "source": [
        "class Solution:\n",
        "    def findMin(self, nums: List[int]) -> int:\n",
        "        n = len(nums)\n",
        "        l = 0\n",
        "        r = n-1\n",
        "\n",
        "        while l<r:\n",
        "            m = (l+r) // 2\n",
        "            # if l == r:\n",
        "            #     return nums[l]\n",
        "            if nums[m]>nums[r]:\n",
        "                l = m+1\n",
        "            else:\n",
        "                r = m\n",
        "        return nums[l]"
      ],
      "metadata": {
        "id": "VrxdDBKcZ1ra"
      },
      "execution_count": null,
      "outputs": []
    },
    {
      "cell_type": "markdown",
      "source": [
        "## 33 Search in Rotated Sorted Array"
      ],
      "metadata": {
        "id": "IPFe_vBX_sMt"
      }
    },
    {
      "cell_type": "markdown",
      "source": [
        "There is an integer array nums sorted in ascending order (with distinct values).\n",
        "\n",
        "Prior to being passed to your function, nums is possibly rotated at an unknown pivot index k (1 <= k < nums.length) such that the resulting array is [nums[k], nums[k+1], ..., nums[n-1], nums[0], nums[1], ..., nums[k-1]] (0-indexed). For example, [0,1,2,4,5,6,7] might be rotated at pivot index 3 and become [4,5,6,7,0,1,2].\n",
        "\n",
        "Given the array nums after the possible rotation and an integer target, return the index of target if it is in nums, or -1 if it is not in nums.\n",
        "\n",
        "You must write an algorithm with O(log n) runtime complexity."
      ],
      "metadata": {
        "id": "Hsy5lYmr_sB2"
      }
    },
    {
      "cell_type": "code",
      "source": [
        "class Solution:\n",
        "    def search(self, nums: List[int], target: int) -> int:\n",
        "        n = len(nums)\n",
        "        l = 0\n",
        "        r = n - 1\n",
        "\n",
        "\n",
        "        while l < r:\n",
        "            m = (l + r) // 2\n",
        "            if nums[m] > nums[r]:\n",
        "                l = m +  1\n",
        "            else:\n",
        "                r = m\n",
        "        min_index  = l\n",
        "\n",
        "\n",
        "        if min_index == 0:\n",
        "            l, r  = 0, n-1\n",
        "\n",
        "        elif target >=  nums[0]  and target <= nums[min_index-1]:\n",
        "            l, r  =  0, min_index -1\n",
        "        else:\n",
        "            l,  r =  min_index, n-1\n",
        "\n",
        "        while l  <= r:\n",
        "            m  =  (l  + r ) // 2\n",
        "            if target  == nums[m]:\n",
        "                return m\n",
        "            elif target  > nums[m]:\n",
        "                l = m  +  1\n",
        "            else:\n",
        "                r  = m - 1\n",
        "\n",
        "\n",
        "\n",
        "\n",
        "        return -1"
      ],
      "metadata": {
        "id": "zcUuW3C7_soY"
      },
      "execution_count": null,
      "outputs": []
    },
    {
      "cell_type": "markdown",
      "source": [
        "## 875 Koko Eating Bananas [DIABS]\n"
      ],
      "metadata": {
        "id": "F2JIrn1bax14"
      }
    },
    {
      "cell_type": "markdown",
      "source": [
        "        Koko loves to eat bananas. There are n piles of bananas, the ith pile has piles[i] bananas. The guards have gone and will come back in h hours.\n",
        "\n",
        "        Koko can decide her bananas-per-hour eating speed of k. Each hour, she chooses some pile of bananas and eats k bananas from that pile. If the pile has less than k bananas, she eats all of them instead and will not eat any more bananas during this hour.\n",
        "\n",
        "        Koko likes to eat slowly but still wants to finish eating all the bananas before the guards return.\n",
        "\n",
        "        Return the minimum integer k such that she can eat all the bananas within h hours. **bold text**"
      ],
      "metadata": {
        "id": "BusSwCteaxuM"
      }
    },
    {
      "cell_type": "code",
      "source": [
        "class Solution:\n",
        "    def minEatingSpeed(self, piles: List[int], h: int) -> int:\n",
        "        def k_works(k):\n",
        "            hours = 0\n",
        "            for i in piles:\n",
        "                hours += ceil(i/k)\n",
        "\n",
        "            return hours <= h\n",
        "\n",
        "        l = 1\n",
        "        r = max(piles)\n",
        "\n",
        "        while l < r:\n",
        "            k = (l + r) // 2\n",
        "            if k_works(k):\n",
        "                r = k\n",
        "            else:\n",
        "                l = k + 1\n",
        "        return l\n"
      ],
      "metadata": {
        "id": "wOoXlX3Va6Eo"
      },
      "execution_count": null,
      "outputs": []
    },
    {
      "cell_type": "markdown",
      "source": [
        "## 2"
      ],
      "metadata": {
        "id": "oEAfgyjCq1IR"
      }
    },
    {
      "cell_type": "markdown",
      "source": [
        "# Sliding Window"
      ],
      "metadata": {
        "id": "yVtUGSRZq1Cw"
      }
    },
    {
      "cell_type": "markdown",
      "source": [
        "## 3 Longest Substring Without Repeating Characters [DIABS]"
      ],
      "metadata": {
        "id": "YildV91Y8M6i"
      }
    },
    {
      "cell_type": "markdown",
      "source": [
        "Given a string s, find the length of the longest\n",
        "substring  without repeating characters."
      ],
      "metadata": {
        "id": "ac4eL8Gv8Tye"
      }
    },
    {
      "cell_type": "code",
      "source": [
        "class Solution:\n",
        "    def lengthOfLongestSubstring(self, s: str) -> int:\n",
        "        l = 0\n",
        "        n = len(s)\n",
        "        maxx = 0\n",
        "        seen = set()\n",
        "\n",
        "        for r in range(n):\n",
        "            while s[r]  in seen:\n",
        "                seen.remove(s[l])\n",
        "                l += 1\n",
        "\n",
        "            window = r - l + 1\n",
        "            maxx = max(maxx, window)\n",
        "            seen.add(s[r])\n",
        "        return maxx\n",
        "\n",
        "\n",
        "\n"
      ],
      "metadata": {
        "id": "CQhEsK-a8MKP"
      },
      "execution_count": null,
      "outputs": []
    },
    {
      "cell_type": "markdown",
      "source": [
        "## 643 Maximum Average Subarray I"
      ],
      "metadata": {
        "id": "gjQcC-vs8v4A"
      }
    },
    {
      "cell_type": "markdown",
      "source": [
        "You are given an integer array nums consisting of n elements, and an integer k.\n",
        "\n",
        "Find a contiguous subarray whose length is equal to k that has the maximum average value and return this value. Any answer with a calculation error less than 10-5 will be accepted."
      ],
      "metadata": {
        "id": "YN-V9FbR9EgY"
      }
    },
    {
      "cell_type": "code",
      "source": [
        "class Solution:\n",
        "    def findMaxAverage(self, nums: List[int], k: int) -> float:\n",
        "        n = len(nums)\n",
        "        curSum = 0\n",
        "\n",
        "        for i in range(k):\n",
        "            curSum += nums[i]\n",
        "\n",
        "        maxAvg  =  curSum/k\n",
        "\n",
        "        for i in range(k, n):\n",
        "            curSum = curSum + nums[i] - nums[i-k]\n",
        "            a = curSum / k\n",
        "            maxAvg = max(a, maxAvg)\n",
        "\n",
        "        return maxAvg\n"
      ],
      "metadata": {
        "id": "sMHKS4M79N0U"
      },
      "execution_count": null,
      "outputs": []
    },
    {
      "cell_type": "markdown",
      "source": [
        "# Recursive Backtracking"
      ],
      "metadata": {
        "id": "uh45XfmX9-cb"
      }
    },
    {
      "cell_type": "markdown",
      "source": [
        "## 78 Subsets [DIABS]"
      ],
      "metadata": {
        "id": "rSHDrkt--Ajz"
      }
    },
    {
      "cell_type": "markdown",
      "source": [
        "Given an integer array nums of unique elements, return all possible\n",
        "subsets\n",
        " (the power set).\n",
        "\n",
        "The solution set must not contain duplicate subsets. Return the solution in any order."
      ],
      "metadata": {
        "id": "JYX9nkUy-HtL"
      }
    },
    {
      "cell_type": "code",
      "source": [
        "class Solution:\n",
        "    def subsets(self, nums: List[int]) -> List[List[int]]:\n",
        "        n = len(nums)\n",
        "        sol, res = [], []\n",
        "\n",
        "        def backtrack(i):\n",
        "            if i == n:\n",
        "                res.append(sol[:])\n",
        "                return\n",
        "            # Dont pick nums[i]\n",
        "            backtrack(i+1)\n",
        "\n",
        "            # Pick nums[i]\n",
        "            sol.append(nums[i])\n",
        "            backtrack(i+1)\n",
        "            sol.pop()\n",
        "\n",
        "        backtrack(0)\n",
        "        return res"
      ],
      "metadata": {
        "id": "Wyb7g-RI-JwJ"
      },
      "execution_count": null,
      "outputs": []
    },
    {
      "cell_type": "markdown",
      "source": [
        "# Dynamic Programming"
      ],
      "metadata": {
        "id": "o5HvKygzRRxp"
      }
    },
    {
      "cell_type": "markdown",
      "source": [
        "## 509. Fibonacci Number"
      ],
      "metadata": {
        "id": "T39N8jPzRaKm"
      }
    },
    {
      "cell_type": "markdown",
      "source": [
        "    The Fibonacci numbers, commonly denoted F(n) form a sequence, called the Fibonacci sequence, such that each number is the sum of the two preceding ones, starting from 0 and 1. That is,\n",
        "\n",
        "    F(0) = 0, F(1) = 1\n",
        "    F(n) = F(n - 1) + F(n - 2), for n > 1.\n",
        "    Given n, calculate F(n).\n",
        "\n"
      ],
      "metadata": {
        "id": "Isf_xMjFRbzN"
      }
    },
    {
      "cell_type": "code",
      "source": [
        "class Solution:\n",
        "    def fib(self, n: int) -> int:\n",
        "        # Bottom up approch\n",
        "        if n == 0: return 0\n",
        "        if n == 1: return 1\n",
        "\n",
        "        res = [0] * (n+1)\n",
        "        res[1] = 1\n",
        "\n",
        "        for i in range(2,n+1):\n",
        "            res[i] = res[i-1] + res[i-2]\n",
        "        return res[-1]\n",
        "\n",
        "class Solution:\n",
        "    def fib(self, n: int) -> int:\n",
        "        # # Top down approch\n",
        "        memo ={0:0, 1:1} # this is cache or stored memory\n",
        "\n",
        "        def f(x):\n",
        "            if x in memo:\n",
        "                return memo[x]\n",
        "            else:\n",
        "                memo[x] = f(x - 1) + f(x - 2)\n",
        "                return memo[x]\n",
        "        return f(n)"
      ],
      "metadata": {
        "id": "dmbNqxwARrZ9"
      },
      "execution_count": null,
      "outputs": []
    },
    {
      "cell_type": "markdown",
      "source": [
        "## 2"
      ],
      "metadata": {
        "id": "NeQTy7TmSeZZ"
      }
    },
    {
      "cell_type": "code",
      "source": [],
      "metadata": {
        "id": "eni1705YSawT"
      },
      "execution_count": null,
      "outputs": []
    },
    {
      "cell_type": "code",
      "source": [],
      "metadata": {
        "id": "AytzCBXISarv"
      },
      "execution_count": null,
      "outputs": []
    },
    {
      "cell_type": "code",
      "source": [],
      "metadata": {
        "id": "8s0hSOSDSanS"
      },
      "execution_count": null,
      "outputs": []
    },
    {
      "cell_type": "code",
      "source": [],
      "metadata": {
        "id": "BklOrpKLSai7"
      },
      "execution_count": null,
      "outputs": []
    },
    {
      "cell_type": "code",
      "source": [],
      "metadata": {
        "id": "kRq5DSMQSaeF"
      },
      "execution_count": null,
      "outputs": []
    },
    {
      "cell_type": "code",
      "source": [],
      "metadata": {
        "id": "2FEZ016vSaZ6"
      },
      "execution_count": null,
      "outputs": []
    },
    {
      "cell_type": "code",
      "source": [],
      "metadata": {
        "id": "9S25WbVKSaVX"
      },
      "execution_count": null,
      "outputs": []
    },
    {
      "cell_type": "code",
      "source": [],
      "metadata": {
        "id": "d2e7zLxaSaQl"
      },
      "execution_count": null,
      "outputs": []
    },
    {
      "cell_type": "code",
      "source": [],
      "metadata": {
        "id": "RNfjs0W2RrVn"
      },
      "execution_count": null,
      "outputs": []
    },
    {
      "cell_type": "code",
      "source": [],
      "metadata": {
        "id": "Y1NTXSddMffn"
      },
      "execution_count": null,
      "outputs": []
    },
    {
      "cell_type": "markdown",
      "source": [
        "Company Specific"
      ],
      "metadata": {
        "id": "32n3E0VcJjC3"
      }
    },
    {
      "cell_type": "markdown",
      "source": [
        "# Expedia"
      ],
      "metadata": {
        "id": "hma_ER8-Zpwd"
      }
    },
    {
      "cell_type": "markdown",
      "source": [
        "## 724 Find Pivot Index"
      ],
      "metadata": {
        "id": "ceE6qdRkZpn7"
      }
    },
    {
      "cell_type": "markdown",
      "source": [
        "Given an array of integers nums, calculate the pivot index of this array.\n",
        "\n",
        "The pivot index is the index where the sum of all the numbers strictly to the left of the index is equal to the sum of all the numbers strictly to the index's right.\n",
        "\n",
        "If the index is on the left edge of the array, then the left sum is 0 because there are no elements to the left. This also applies to the right edge of the array.\n",
        "\n",
        "Return the leftmost pivot index. If no such index exists, return -1."
      ],
      "metadata": {
        "id": "oj84X9AnZpc_"
      }
    },
    {
      "cell_type": "code",
      "source": [
        "class Solution:\n",
        "    def pivotIndex(self, nums: List[int]) -> int:\n",
        "\n",
        "        n = len(nums)\n",
        "        sumL = 0\n",
        "        Total = sum(nums)\n",
        "\n",
        "        for i in range( n):\n",
        "            sumR = Total - sumL - nums[i]\n",
        "            print(sumR, \"R\", sumL , \"L\")\n",
        "            if sumR == sumL:\n",
        "                return i\n",
        "            sumL += nums[i]\n",
        "        return -1"
      ],
      "metadata": {
        "id": "lllwhKyBZ2-L"
      },
      "execution_count": null,
      "outputs": []
    },
    {
      "cell_type": "markdown",
      "source": [
        "-----------"
      ],
      "metadata": {
        "id": "cZk3N4JwJGW3"
      }
    },
    {
      "cell_type": "markdown",
      "source": [
        "\n",
        "# **Blackstone**\n",
        "\n"
      ],
      "metadata": {
        "id": "0pSfa158JGLn"
      }
    },
    {
      "cell_type": "markdown",
      "source": [
        "## 2215 Find the Difference of Two Arrays\n",
        "\n",
        "\n",
        "    Given two 0-indexed integer arrays nums1 and nums2, return a list answer of size 2 where:\n",
        "    answer[0] is a list of all distinct integers in nums1 which are not present in nums2.\n",
        "    answer[1] is a list of all distinct integers in nums2 which are not present in nums1.\n",
        "    Note that the integers in the lists may be returned in any order."
      ],
      "metadata": {
        "id": "fPzBVghmZdyk"
      }
    },
    {
      "cell_type": "code",
      "source": [
        "class Solution:\n",
        "    def findDifference(self, nums1: List[int], nums2: List[int]) -> List[List[int]]:\n",
        "        ans=[[],[]]\n",
        "        N1 = set(nums1)\n",
        "        N2 = set(nums2)\n",
        "\n",
        "        for i in N1:\n",
        "            if i not in nums2:\n",
        "                ans[0].append(i)\n",
        "        for i in N2:\n",
        "            if i not in nums1:\n",
        "                ans[1].append(i)\n",
        "        return ans\n"
      ],
      "metadata": {
        "id": "wDKfHqsN91wp"
      },
      "execution_count": null,
      "outputs": []
    },
    {
      "cell_type": "markdown",
      "source": [
        "---\n",
        "\n",
        "## 15 3Sum <Do it again by self>\n",
        "        \n",
        "        Given an integer array nums, return all the triplets [nums[i], nums[j], nums[k]]\n",
        "        such that i != j, i != k, and j != k, and nums[i] + nums[j] + nums[k] == 0.\n",
        "\n",
        "        Notice that the solution set must not contain duplicate triplets."
      ],
      "metadata": {
        "id": "ktvttVvOkjum"
      }
    },
    {
      "cell_type": "code",
      "source": [
        "class Solution:\n",
        "    def threeSum(self, nums: List[int]) -> List[List[int]]:\n",
        "        nums.sort()\n",
        "        n = len(nums)\n",
        "        ans = []\n",
        "\n",
        "        for i in range(n):\n",
        "            if nums[i]>0:break\n",
        "            if i>0 and nums[i] == nums[i-1]: continue\n",
        "            lo, hi = i+1, n-1\n",
        "            while lo < hi:\n",
        "                summ = nums[i] + nums[lo]+ nums[hi]\n",
        "                if summ == 0:\n",
        "                    ans.append([nums[i], nums[lo], nums[hi]])\n",
        "                    lo, hi = lo+1, hi-1\n",
        "\n",
        "                    while lo<hi and nums[lo] == nums[lo-1]:\n",
        "                        lo +=1\n",
        "                    while lo<hi and nums[hi] == nums[hi+1]:\n",
        "                        hi -=1\n",
        "\n",
        "                elif summ < 0:\n",
        "                    lo +=1\n",
        "                else:\n",
        "                    hi -=1\n",
        "\n",
        "        return ans"
      ],
      "metadata": {
        "id": "nf73_gDZkjaX"
      },
      "execution_count": null,
      "outputs": []
    },
    {
      "cell_type": "code",
      "source": [],
      "metadata": {
        "id": "TkJLmksRkjSh"
      },
      "execution_count": null,
      "outputs": []
    },
    {
      "cell_type": "markdown",
      "source": [],
      "metadata": {
        "id": "orKyOiB9ki3M"
      }
    },
    {
      "cell_type": "markdown",
      "source": [
        "--------"
      ],
      "metadata": {
        "id": "1UdkQ21I93Fa"
      }
    },
    {
      "cell_type": "markdown",
      "source": [
        "# DUMP"
      ],
      "metadata": {
        "id": "tbSuciWj95y-"
      }
    },
    {
      "cell_type": "code",
      "source": [
        "class Solution(object):\n",
        "    def romanToInt(self, s):\n",
        "        \"\"\"\n",
        "        :type s: str\n",
        "        :rtype: int\n",
        "        \"\"\"\n",
        "        s = s.encode(\"UTF8\")\n",
        "        ls= list(s)\n",
        "        # print(type(ls[0]))\n",
        "        romanValues = {'I':1, \"V\": 5, \"X\":10, \"L\":50, \"C\": 100, \"D\": 500, \"M\": 1000}\n",
        "        Sum = 0\n",
        "        ls = ls[::-1]\n",
        "        print(ls)\n",
        "        i=0\n",
        "        while i < len(ls):\n",
        "            if (ls[i] != 'I'  and i < len(ls)-1 and ls[i+1] =='I'):\n",
        "                if ls[i]== \"V\":\n",
        "                    Sum += 4\n",
        "                    print(\"here in 4\")\n",
        "                    print(\"SUM is= \", Sum)\n",
        "                    i += 1\n",
        "                else:\n",
        "                    Sum += 9\n",
        "                    print(\"here in 9\")\n",
        "                    print(\"SUM is= \", Sum)\n",
        "                    i += 1\n",
        "\n",
        "\n",
        "            elif ls[i] != 'X'  and i < len(ls)-1 and ls[i+1] =='X':\n",
        "                if ls[i]== \"l\":\n",
        "                    Sum += 40\n",
        "                    print(\"here in 40\")\n",
        "                    print(\"SUM is= \", Sum)\n",
        "\n",
        "                else:\n",
        "                    Sum += 90\n",
        "                    print(\"here in 90\")\n",
        "                    print(\"SUM is= \", Sum)\n",
        "                i += 1\n",
        "            elif (ls[i] == \"D\" or ls[i]==\"M\") and (ls[i] != 'C'  and i < len(ls)-1 and ls[i+1] =='C'):\n",
        "                if ls[i]== \"D\":\n",
        "                    Sum += 400\n",
        "                    print(\"here in 400\")\n",
        "                    print(\"SUM is= \", Sum)\n",
        "                else:\n",
        "                    Sum += 900\n",
        "                    print(\"here in 900\")\n",
        "                    print(\"SUM is= \", Sum)\n",
        "                i += 1\n",
        "            else:\n",
        "                Sum += int(romanValues[ls[i]])\n",
        "                i+=1\n",
        "                print(\"SUM is= \", Sum)\n",
        "        return Sum\n",
        "\n",
        "\n"
      ],
      "metadata": {
        "id": "L1RSY0_r-yop"
      },
      "execution_count": null,
      "outputs": []
    }
  ]
}