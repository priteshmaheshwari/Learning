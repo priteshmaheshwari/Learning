{
  "nbformat": 4,
  "nbformat_minor": 0,
  "metadata": {
    "colab": {
      "provenance": [],
      "toc_visible": true,
      "authorship_tag": "ABX9TyNYm7Jye4TyAheMi4b9R9SZ",
      "include_colab_link": true
    },
    "kernelspec": {
      "name": "python3",
      "display_name": "Python 3"
    },
    "language_info": {
      "name": "python"
    }
  },
  "cells": [
    {
      "cell_type": "markdown",
      "metadata": {
        "id": "view-in-github",
        "colab_type": "text"
      },
      "source": [
        "<a href=\"https://colab.research.google.com/github/priteshmaheshwari/Learning/blob/main/DSA/DSA_Learning_Greg_Hogg.ipynb\" target=\"_parent\"><img src=\"https://colab.research.google.com/assets/colab-badge.svg\" alt=\"Open In Colab\"/></a>"
      ]
    },
    {
      "cell_type": "markdown",
      "source": [
        "# Binary Search"
      ],
      "metadata": {
        "id": "sfpdR-VaQOXS"
      }
    },
    {
      "cell_type": "markdown",
      "source": [
        "## Traditional Binary Search Tree\n",
        "- Looking if number in arrary\n",
        "\n",
        "\n",
        "- Time : O(log N)\n",
        "\n",
        "- Space : O (1)"
      ],
      "metadata": {
        "id": "BjfbkSTURc7h"
      }
    },
    {
      "cell_type": "code",
      "execution_count": 1,
      "metadata": {
        "id": "MgvGhclCPCCG"
      },
      "outputs": [],
      "source": [
        "\n",
        "def binarySearch(arr, target):\n",
        "    N = len(arr)\n",
        "    L = 0\n",
        "    R = N - 1\n",
        "\n",
        "    while L<=R:\n",
        "        M = L + ((R-L)//2)  # We can do (L+R)//2, but did the current one to accomodate for large numbers\n",
        "        if arr [M] == target:\n",
        "            return True\n",
        "        elif arr[M] > target:\n",
        "            R = M - 1\n",
        "        else:\n",
        "            L = M + 1\n",
        "    return False"
      ]
    },
    {
      "cell_type": "code",
      "source": [
        "A = [ -3, -1, 0, 2, 5, 8, 10, 15]\n",
        "binarySearch(A, 5)"
      ],
      "metadata": {
        "colab": {
          "base_uri": "https://localhost:8080/"
        },
        "id": "8zRNd9nIRM4v",
        "outputId": "c0c273eb-7b0f-4cf3-de8f-de8272b9269f"
      },
      "execution_count": 3,
      "outputs": [
        {
          "output_type": "execute_result",
          "data": {
            "text/plain": [
              "True"
            ]
          },
          "metadata": {},
          "execution_count": 3
        }
      ]
    },
    {
      "cell_type": "markdown",
      "source": [
        "## Condition Based\n",
        "Based on a condition"
      ],
      "metadata": {
        "id": "Iaaipu8ci3o4"
      }
    },
    {
      "cell_type": "code",
      "source": [
        "B = [ False, False, False, False, True, True, True]\n",
        "def binary_Search_Conditional(arr):\n",
        "    N = len(arr)\n",
        "    L = 0\n",
        "    R = N -1\n",
        "\n",
        "    while L< R:\n",
        "        M = (L +R) // 2\n",
        "\n",
        "        if arr[M]:\n",
        "            R = M\n",
        "        else:\n",
        "            L = M+1\n",
        "    return L\n",
        "\n",
        "binary_Search_Conditional(B)"
      ],
      "metadata": {
        "colab": {
          "base_uri": "https://localhost:8080/"
        },
        "id": "7Z9HD9szRZua",
        "outputId": "25799666-aa14-4599-fdef-597769a1f2fa"
      },
      "execution_count": 4,
      "outputs": [
        {
          "output_type": "execute_result",
          "data": {
            "text/plain": [
              "4"
            ]
          },
          "metadata": {},
          "execution_count": 4
        }
      ]
    },
    {
      "cell_type": "code",
      "source": [],
      "metadata": {
        "id": "vZjvlvm5kB7_"
      },
      "execution_count": null,
      "outputs": []
    }
  ]
}