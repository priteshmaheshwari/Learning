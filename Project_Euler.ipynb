{
  "nbformat": 4,
  "nbformat_minor": 0,
  "metadata": {
    "colab": {
      "provenance": [],
      "toc_visible": true,
      "authorship_tag": "ABX9TyOnpLRm2iFiWh6hjbauCXmX",
      "include_colab_link": true
    },
    "kernelspec": {
      "name": "python3",
      "display_name": "Python 3"
    },
    "language_info": {
      "name": "python"
    }
  },
  "cells": [
    {
      "cell_type": "markdown",
      "metadata": {
        "id": "view-in-github",
        "colab_type": "text"
      },
      "source": [
        "<a href=\"https://colab.research.google.com/github/priteshmaheshwari/Learning/blob/main/Project_Euler.ipynb\" target=\"_parent\"><img src=\"https://colab.research.google.com/assets/colab-badge.svg\" alt=\"Open In Colab\"/></a>"
      ]
    },
    {
      "cell_type": "markdown",
      "source": [
        "# 1\n",
        "\n",
        "Find the sum of all the multiples of 3 or 5 below N."
      ],
      "metadata": {
        "id": "7M8Q4D97UJ9A"
      }
    },
    {
      "cell_type": "code",
      "execution_count": null,
      "metadata": {
        "id": "woR0LBlgT0N_"
      },
      "outputs": [],
      "source": [
        "#!/bin/python3\n",
        "\n",
        "import sys\n",
        "\n",
        "\n",
        "t = int(input().strip())\n",
        "for a0 in range(t):\n",
        "    n = int(input().strip())\n",
        "    def cal(num, d):\n",
        "         a = d\n",
        "         sol = (2*a + (num-1)*d) * (num)\n",
        "\n",
        "         return sol>>1  # this is bitwise operation to divide by 2\n",
        "\n",
        "    nums3 = (n-1) //3\n",
        "    nums5 = (n-1)//5\n",
        "    nums15 = (n-1)//15\n",
        "    final = cal(nums3, 3) + cal(nums5, 5) - cal(nums15, 15)\n",
        "    # print(\"num =\", n, \"  final = \", final)\n",
        "    print(int(final))\n",
        "\n"
      ]
    },
    {
      "cell_type": "markdown",
      "source": [
        "# 2\n",
        "\n",
        "\n",
        "By considering the terms in the Fibonacci sequence whose values do not exceed N. find the sum of the even-valued terms."
      ],
      "metadata": {
        "id": "5rAzzWIrUOqB"
      }
    },
    {
      "cell_type": "code",
      "source": [
        "import sys\n",
        "\n",
        "\n",
        "t = int(input().strip())\n",
        "for a0 in range(t):\n",
        "    n = int(input().strip())\n",
        "    a = 1\n",
        "    b = 2\n",
        "\n",
        "    summ = 0\n",
        "    while b < n:\n",
        "    # for i in range(1,n-1):\n",
        "\n",
        "        # print(\"b is =\" ,b )\n",
        "\n",
        "        if b % 2 ==  0:\n",
        "            summ += b\n",
        "        a , b = b, a + b\n",
        "\n",
        "    print(summ)\n",
        "\n"
      ],
      "metadata": {
        "id": "b4CPs-dJUOff"
      },
      "execution_count": null,
      "outputs": []
    },
    {
      "cell_type": "markdown",
      "source": [
        "# 3 [Do it again]\n",
        "What is the largest prime factor of a given number N?"
      ],
      "metadata": {
        "id": "D_fuVDntX99D"
      }
    },
    {
      "cell_type": "code",
      "source": [
        "\n",
        "import sys\n",
        "import math\n",
        "\n",
        "\n",
        "t = int(input().strip())\n",
        "for a0 in range(t):\n",
        "    n = int(input().strip())\n",
        "    num = n\n",
        "    while num%2 == 0:\n",
        "        num = num / 2\n",
        "    if num == 1:\n",
        "        print(2)\n",
        "    else:\n",
        "        i = 3\n",
        "        while i <= math.sqrt(num):\n",
        "        # for i in range(3, math.sqrt(num), 2):\n",
        "            if num % i ==0:\n",
        "                num = num /i\n",
        "            else:\n",
        "                i += 2\n",
        "        if num>2:\n",
        "            print(int(num))\n",
        "        else:\n",
        "            print(int(i))"
      ],
      "metadata": {
        "colab": {
          "base_uri": "https://localhost:8080/"
        },
        "id": "9vvPGKE6X9d8",
        "outputId": "9b37d875-4467-41df-9c22-9759936c7def"
      },
      "execution_count": null,
      "outputs": [
        {
          "output_type": "stream",
          "name": "stdout",
          "text": [
            "2\n",
            "10\n",
            "5\n",
            "100\n",
            "5\n"
          ]
        }
      ]
    },
    {
      "cell_type": "markdown",
      "source": [],
      "metadata": {
        "id": "fxeCTt6yX9Va"
      }
    },
    {
      "cell_type": "markdown",
      "source": [],
      "metadata": {
        "id": "CsLp0HscX9Sg"
      }
    },
    {
      "cell_type": "markdown",
      "source": [],
      "metadata": {
        "id": "X4RZQzCKX9P9"
      }
    },
    {
      "cell_type": "markdown",
      "source": [],
      "metadata": {
        "id": "Otu-tyufX9M0"
      }
    },
    {
      "cell_type": "markdown",
      "source": [],
      "metadata": {
        "id": "BserNXKeX9J4"
      }
    },
    {
      "cell_type": "markdown",
      "source": [],
      "metadata": {
        "id": "2tNz9I-0X8qZ"
      }
    }
  ]
}