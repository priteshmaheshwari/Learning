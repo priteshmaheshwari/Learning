{
  "nbformat": 4,
  "nbformat_minor": 0,
  "metadata": {
    "colab": {
      "provenance": [],
      "authorship_tag": "ABX9TyP94HD22JrEcZgQbwmeJh6F",
      "include_colab_link": true
    },
    "kernelspec": {
      "name": "python3",
      "display_name": "Python 3"
    },
    "language_info": {
      "name": "python"
    }
  },
  "cells": [
    {
      "cell_type": "markdown",
      "metadata": {
        "id": "view-in-github",
        "colab_type": "text"
      },
      "source": [
        "<a href=\"https://colab.research.google.com/github/priteshmaheshwari/Learning/blob/main/Leetcode/Leetcode_algomap_io.ipynb\" target=\"_parent\"><img src=\"https://colab.research.google.com/assets/colab-badge.svg\" alt=\"Open In Colab\"/></a>"
      ]
    },
    {
      "cell_type": "markdown",
      "source": [
        "---\n",
        "# Arrays & Strings\n",
        "---\n"
      ],
      "metadata": {
        "id": "zt5L-XTB-ib0"
      }
    },
    {
      "cell_type": "markdown",
      "source": [
        "2239. Find Closest Number to Zero\n",
        "\n",
        "\n",
        "    Given an integer array nums of size n, return the number with the value closest to 0 in nums.\n",
        "    If there are multiple answers, return the number with the largest value."
      ],
      "metadata": {
        "id": "Kpvd6YGCpKA7"
      }
    },
    {
      "cell_type": "code",
      "source": [
        "class Solution(object):\n",
        "    def findClosestNumber(self, nums):\n",
        "        \"\"\"\n",
        "        :type nums: List[int]\n",
        "        :rtype: int\n",
        "        \"\"\"\n",
        "        if len(nums) == 1:\n",
        "            return nums[0]\n",
        "        currentDist = abs(nums[0])\n",
        "        closest = nums[0]\n",
        "        for i in nums:\n",
        "            if abs(i) <= currentDist:\n",
        "                currentDist = abs(i)\n",
        "\n",
        "                if closest == abs(i) and closest > i:\n",
        "                    continue\n",
        "                else: closest = i\n",
        "\n",
        "        return closest"
      ],
      "metadata": {
        "id": "Xrj1fHDP-SdM"
      },
      "execution_count": null,
      "outputs": []
    },
    {
      "cell_type": "markdown",
      "source": [
        "-------------"
      ],
      "metadata": {
        "id": "1M0f6Ngk-vRR"
      }
    },
    {
      "cell_type": "markdown",
      "source": [
        "1768. Merge Strings Alternately\n",
        "\n",
        "\n",
        "    You are given two strings word1 and word2. Merge the strings by adding letters in alternating order, starting with word1.\n",
        "    If a string is longer than the other, append the additional letters onto the end of the merged string."
      ],
      "metadata": {
        "id": "l8ULtbKx-mfL"
      }
    },
    {
      "cell_type": "code",
      "execution_count": null,
      "metadata": {
        "id": "mYcWjlhE-Lnj"
      },
      "outputs": [],
      "source": [
        "class Solution(object):\n",
        "    def mergeAlternately(self, word1, word2):\n",
        "        \"\"\"\n",
        "        :type word1: str\n",
        "        :type word2: str\n",
        "        :rtype: str\n",
        "        \"\"\"\n",
        "\n",
        "        word1 = word1.encode(\"UTF8\")\n",
        "        word2 = word2.encode(\"UTF8\")\n",
        "        l1 = list(word1)\n",
        "        l2 = list(word2)\n",
        "        # print(type(word1))\n",
        "        # print(l1)\n",
        "        final = []\n",
        "        if len(l1) == len(l2):\n",
        "            for i in range(len(l1)):\n",
        "                final.append(l1[i])\n",
        "                final.append(l2[i])\n",
        "\n",
        "        elif len(l1)>len(l2):\n",
        "            for i in range(len(l2)):\n",
        "                final.append(l1[i])\n",
        "                final.append(l2[i])\n",
        "            for i in range(len(l2), len(l1)):\n",
        "                final.append(l1[i])\n",
        "\n",
        "        elif len(l2) > len(l1):\n",
        "            # print(\"l2 is \", l2)\n",
        "            for i in range(len(l1)):\n",
        "                final.append(l1[i])\n",
        "                final.append(l2[i])\n",
        "            for i in range(len(l1), len(l2)):\n",
        "                final.append(l2[i])\n",
        "\n",
        "        return \"\".join(final)\n",
        "\n"
      ]
    },
    {
      "cell_type": "markdown",
      "source": [
        "-----\n"
      ],
      "metadata": {
        "id": "ePkmVSpY-y2M"
      }
    },
    {
      "cell_type": "markdown",
      "source": [
        "13. Roman to Integer\n",
        "\n",
        "    Roman numerals are represented by seven different symbols: I, V, X, L, C, D and M.\n",
        "\n",
        "    Symbol       Value\n",
        "    I             1\n",
        "    V             5\n",
        "    X             10\n",
        "    L             50\n",
        "    C             100\n",
        "    D             500\n",
        "    M             1000\n",
        "\n",
        "    For example, 2 is written as II in Roman numeral, just two ones added together. 12 is written as XII, which is simply X + II. The number 27 is written as XXVII, which is XX + V + II.\n",
        "\n",
        "    Roman numerals are usually written largest to smallest from left to right. However, the numeral for four is not IIII. Instead, the number four is written as IV. Because the one is before the five we subtract it making four. The same principle applies to the number nine, which is written as IX. There are six instances where subtraction is used:\n",
        "\n",
        "        I can be placed before V (5) and X (10) to make 4 and 9.\n",
        "        X can be placed before L (50) and C (100) to make 40 and 90.\n",
        "        C can be placed before D (500) and M (1000) to make 400 and 900.\n",
        "\n",
        "    Given a roman numeral, convert it to an integer.\n"
      ],
      "metadata": {
        "id": "b3vRu5Q8GK3K"
      }
    },
    {
      "cell_type": "code",
      "source": [
        "class Solution(object):\n",
        "    def romanToInt(self, s):\n",
        "        s = s.encode(\"UTF8\")\n",
        "        l = list(s)\n",
        "        l = l[::-1]\n",
        "\n",
        "        i = 0\n",
        "        Sum = 0\n",
        "        hash = {\"I\":1, \"V\":5, \"X\":10, \"L\": 50, \"C\": 100, \"D\": 500, \"M\": 1000}\n",
        "\n",
        "        def cal(first, second):\n",
        "            return hash[first] - hash[second]\n",
        "\n",
        "        while i < len(l):\n",
        "            if l[i] == \"V\" or l[i] == \"X\":\n",
        "                if (i < len(l)-1 and l[i+1] == \"I\"):\n",
        "                    Sum += cal(l[i], l[i+1])\n",
        "                    i += 1\n",
        "                else:Sum = Sum + hash[l[i]]\n",
        "\n",
        "            elif l[i] == \"L\" or l[i] == \"C\":\n",
        "                if (i < len(l)-1 and l[i+1] == \"X\"):\n",
        "                    Sum += cal(l[i], l[i+1])\n",
        "                    i += 1\n",
        "                else:Sum = Sum + hash[l[i]]\n",
        "\n",
        "            elif l[i] == \"D\" or l[i] == \"M\":\n",
        "                if (i < len(l)-1 and l[i+1] == \"C\"):\n",
        "                    Sum += cal(l[i], l[i+1])\n",
        "                    i += 1\n",
        "                else:Sum = Sum + hash[l[i]]\n",
        "\n",
        "            else:\n",
        "                Sum = Sum + hash[l[i]]\n",
        "            i += 1\n",
        "\n",
        "        return Sum"
      ],
      "metadata": {
        "id": "Y6Z6w4Et92FP"
      },
      "execution_count": null,
      "outputs": []
    },
    {
      "cell_type": "code",
      "source": [
        "class Solution:\n",
        "    def romanToInt(self, s: str) -> int:\n",
        "        d = {\"I\": 1, \"V\":5, \"X\":10, \"L\":50, \"C\":100, \"D\":500, \"M\": 1000}\n",
        "\n",
        "        summ = 0\n",
        "        i = 0\n",
        "        N = len(s)\n",
        "\n",
        "        while i<N:\n",
        "            if i < N-1 and d[s[i]] < d[s[i+1]]:\n",
        "                summ += d[s[i+1]] - d[s[i]]\n",
        "                i += 2\n",
        "            else:\n",
        "                summ += d[s[i]]\n",
        "                i +=1\n",
        "        return summ"
      ],
      "metadata": {
        "id": "tyjj9vyYnQBH"
      },
      "execution_count": null,
      "outputs": []
    },
    {
      "cell_type": "markdown",
      "source": [
        "----"
      ],
      "metadata": {
        "id": "Rd4CQ6YdnKuW"
      }
    },
    {
      "cell_type": "markdown",
      "source": [
        "392. Is Subsequence\n",
        "\n",
        "    Given two strings s and t, return true if s is a subsequence of t, or false otherwise.\n",
        "\n",
        "    A subsequence of a string is a new string that is formed from the original string by deleting some (can be none) of the characters without disturbing the relative positions of the remaining characters. (i.e., \"ace\" is a subsequence of \"abcde\" while \"aec\" is not)."
      ],
      "metadata": {
        "id": "YHTm84hpnL8L"
      }
    },
    {
      "cell_type": "code",
      "source": [
        "class Solution:\n",
        "    def isSubsequence(self, s: str, t: str) -> bool:\n",
        "        S = len(s)\n",
        "        T = len(t)\n",
        "        i= 0\n",
        "        if s == \"\" : return True\n",
        "        if S>T: return False\n",
        "\n",
        "        for j in range(T):\n",
        "            if s[i] == t[j]:\n",
        "                if i == S-1:\n",
        "                    return True\n",
        "                i += 1\n",
        "\n",
        "\n",
        "        return False"
      ],
      "metadata": {
        "id": "E1ulmQSV92Cj"
      },
      "execution_count": null,
      "outputs": []
    },
    {
      "cell_type": "markdown",
      "source": [
        "----"
      ],
      "metadata": {
        "id": "ox10gdUowc2C"
      }
    },
    {
      "cell_type": "markdown",
      "source": [
        "\n",
        "121. Best Time to Buy and Sell Stock\n",
        "\n",
        "    You are given an array prices where prices[i] is the price of a given stock on the ith day.\n",
        "\n",
        "    You want to maximize your profit by choosing a single day to buy one stock and choosing a different day in the future to sell that stock.\n",
        "\n",
        "    Return the maximum profit you can achieve from this transaction. If you cannot achieve any profit, return 0."
      ],
      "metadata": {
        "id": "7vzARg2gwd7E"
      }
    },
    {
      "cell_type": "code",
      "source": [
        "class Solution:\n",
        "    def maxProfit(self, prices: List[int]) -> int:\n",
        "        profit = 0\n",
        "        low = prices[0]\n",
        "        for i in prices:\n",
        "            if i < low:\n",
        "                low = i\n",
        "\n",
        "            if i-low > profit:\n",
        "                profit = i-low\n",
        "        return profit\n"
      ],
      "metadata": {
        "id": "Tbd_AEg092AH"
      },
      "execution_count": null,
      "outputs": []
    },
    {
      "cell_type": "markdown",
      "source": [
        "----"
      ],
      "metadata": {
        "id": "podH6xxcwwAp"
      }
    },
    {
      "cell_type": "markdown",
      "source": [
        "228. Summary Ranges  [Todo by self again]\n",
        "\n",
        "    You are given a sorted unique integer array nums.\n",
        "\n",
        "    A range [a,b] is the set of all integers from a to b (inclusive).\n",
        "\n",
        "    Return the smallest sorted list of ranges that cover all the numbers in the array exactly. That is, each element of nums is covered by exactly one of the ranges, and there is no integer x such that x is in one of the ranges but not in nums.\n",
        "\n",
        "    Each range [a,b] in the list should be output as:\n",
        "\n",
        "    \"a->b\" if a != b\n",
        "    \"a\" if a == b"
      ],
      "metadata": {
        "id": "Bg709QknwTiQ"
      }
    },
    {
      "cell_type": "code",
      "source": [
        "class Solution:\n",
        "    def summaryRanges(self, nums: List[int]) -> List[str]:\n",
        "        ans = []\n",
        "        N = len(nums)\n",
        "        i = 0\n",
        "        while i < N:\n",
        "            start = nums[i]\n",
        "            while i< N-1 and nums[i+1] == nums[i]+1:\n",
        "                i += 1\n",
        "            if nums[i] != start:\n",
        "                ans.append(str(start) + \"->\" + str(nums[i]))\n",
        "            else:\n",
        "                ans.append(str(nums[i]))\n",
        "            i += 1\n",
        "\n",
        "        return ans"
      ],
      "metadata": {
        "id": "PUnmwNQL919q"
      },
      "execution_count": null,
      "outputs": []
    },
    {
      "cell_type": "markdown",
      "source": [
        "---"
      ],
      "metadata": {
        "id": "oXq4Yp8guh70"
      }
    },
    {
      "cell_type": "markdown",
      "source": [
        "238. Product of Array Except Self\n",
        "\n",
        "\n",
        "    Given an integer array nums, return an array answer such that answer[i] is equal to the product of all the elements of nums except nums[i].\n",
        "\n",
        "    The product of any prefix or suffix of nums is guaranteed to fit in a 32-bit integer.\n",
        "\n",
        "    You must write an algorithm that runs in O(n) time and without using the division operation."
      ],
      "metadata": {
        "id": "IgSqkRFk99kI"
      }
    },
    {
      "cell_type": "code",
      "source": [
        "class Solution:\n",
        "    def productExceptSelf(self, nums: List[int]) -> List[int]:\n",
        "\n",
        "\n",
        "        def mul(L1, L2):\n",
        "            if 0 in L1 or 0 in L2:\n",
        "                return 0\n",
        "            prod = 1\n",
        "            for i in range(len(L1)):\n",
        "                prod *= L1[i]\n",
        "            for j in range(len(L2)):\n",
        "                prod *= L2[j]\n",
        "            return prod\n",
        "\n",
        "        ans = []\n",
        "\n",
        "        N = len(nums)\n",
        "\n",
        "        product = 1\n",
        "        temp = 1\n",
        "        # print(\"Product: \", product)\n",
        "        if 0 in nums:\n",
        "\n",
        "            for i in range(N):\n",
        "                if i == 0:\n",
        "                    for i in range(1, N):\n",
        "                        product *= nums[i]\n",
        "                    ans.append(product)\n",
        "                elif i == N:\n",
        "                    for i in range(0, N-1):\n",
        "                        product *= nums[i]\n",
        "                    ans.append(product)\n",
        "                else:\n",
        "\n",
        "                    temp = mul(nums[:i], nums[i+1:])\n",
        "                    ans.append(temp)\n",
        "\n",
        "        else:\n",
        "            productF = 1\n",
        "            for i in range(N):\n",
        "                productF *= nums[i]\n",
        "            for i in range(N):\n",
        "                temp = int(productF/nums[i])\n",
        "                ans.append(temp)\n",
        "\n",
        "        return ans\n"
      ],
      "metadata": {
        "id": "pNnEF7JW917W"
      },
      "execution_count": null,
      "outputs": []
    },
    {
      "cell_type": "markdown",
      "source": [
        "----"
      ],
      "metadata": {
        "id": "TiOgY4UNLsVT"
      }
    },
    {
      "cell_type": "markdown",
      "source": [
        "56. Merge Intervals\n",
        "\n",
        "\n",
        "    Given an array of intervals where intervals[i] = [starti, endi], merge all overlapping intervals,\n",
        "    and return an array of the non-overlapping intervals that cover all the intervals in the input.\n",
        "\n",
        "Help Used:\n",
        "- How to update the answer array\n",
        "- Lambda function to sort"
      ],
      "metadata": {
        "id": "jqsrhM9FLyw_"
      }
    },
    {
      "cell_type": "code",
      "source": [
        "class Solution:\n",
        "    def merge(self, intervals: List[List[int]]) -> List[List[int]]:\n",
        "        intervals.sort(key = lambda interval: interval[0])\n",
        "        M = []\n",
        "        M.append(intervals[0])\n",
        "        for i in range(len(intervals)):\n",
        "            start = M[-1][0]\n",
        "            end = M[-1][1]\n",
        "            if end >= intervals[i][0] :\n",
        "                if end < intervals[i][1]:\n",
        "                    end = intervals[i][1]\n",
        "                    M[-1][1] = end\n",
        "            else:\n",
        "                M.append(intervals[i])\n",
        "        return M"
      ],
      "metadata": {
        "id": "4KcF7z-u9146"
      },
      "execution_count": null,
      "outputs": []
    },
    {
      "cell_type": "code",
      "source": [],
      "metadata": {
        "id": "ZeFWKfxG912e"
      },
      "execution_count": null,
      "outputs": []
    },
    {
      "cell_type": "markdown",
      "source": [
        "-----\n",
        "\n",
        "# Hashmaps & Sets\n",
        "\n",
        "\n",
        "\n",
        "-----"
      ],
      "metadata": {
        "id": "PH3037d8MG9S"
      }
    },
    {
      "cell_type": "markdown",
      "source": [
        "771. Jewels and Stones\n",
        "\n",
        "\n",
        "    You're given strings jewels representing the types of stones that are jewels, and stones representing the stones you have.\n",
        "    Each character in stones is a type of stone you have. You want to know how many of the stones you have are also jewels.\n",
        "\n",
        "    Letters are case sensitive, so \"a\" is considered a different type of stone from \"A\"."
      ],
      "metadata": {
        "id": "ZZVZ9puOMS2P"
      }
    },
    {
      "cell_type": "code",
      "source": [
        "class Solution:\n",
        "    def numJewelsInStones(self, jewels: str, stones: str) -> int:\n",
        "        ans = 0\n",
        "        # O(n + m)\n",
        "        J = set (jewels)\n",
        "        for i in stones:\n",
        "            if i in J:\n",
        "                ans +=1\n",
        "        return ans\n",
        "\n",
        "        # O(n * m)\n",
        "        # for i in jewels:\n",
        "\n",
        "        #     if i in stones:\n",
        "        #         for j in stones:\n",
        "        #             if i == j:\n",
        "        #                 ans +=1\n",
        "\n",
        "        # return ans"
      ],
      "metadata": {
        "id": "9B62Ju1L91zp"
      },
      "execution_count": null,
      "outputs": []
    },
    {
      "cell_type": "markdown",
      "source": [
        "----"
      ],
      "metadata": {
        "id": "EBc13LFjMdlA"
      }
    },
    {
      "cell_type": "markdown",
      "source": [
        "383. Ransom Note\n",
        "\n",
        "\n",
        "    Given two strings ransomNote and magazine, return true if ransomNote can be constructed by using the letters from magazine and false otherwise.\n",
        "\n",
        "    Each letter in magazine can only be used once in ransomNote.\n",
        "\n"
      ],
      "metadata": {
        "id": "28O01I2clsmk"
      }
    },
    {
      "cell_type": "code",
      "source": [
        "class Solution:\n",
        "    def canConstruct(self, ransomNote: str, magazine: str) -> bool:\n",
        "        R = {}\n",
        "\n",
        "        for i in ransomNote:\n",
        "            if i in R:\n",
        "                R[i] +=1\n",
        "            else:\n",
        "                R[i] = 1\n",
        "        M = {}\n",
        "        for i in magazine:\n",
        "            if i in M:\n",
        "                M[i] +=1\n",
        "            else:\n",
        "                M[i] = 1\n",
        "        for key, values in R.items():\n",
        "            if (key in M):\n",
        "                if M[key] >= R[key]:\n",
        "                    R[key] = 0\n",
        "            else: return False\n",
        "\n",
        "        return all(value == 0 for value in R.values())\n",
        "\n",
        "# ---------------------------------------------------------------------------------------------------------------\n",
        "# After seeing optimization vid\n",
        "#  O (m +n )\n",
        "from collections import Counter\n",
        "class Solution:\n",
        "    def canConstruct(self, ransomNote: str, magazine: str) -> bool:\n",
        "        M = Counter(magazine)\n",
        "        for i in ransomNote:\n",
        "            if i in M:\n",
        "\n",
        "                if M[i] == 1:\n",
        "                    del M[i]\n",
        "                else:\n",
        "                    M[i] -= 1\n",
        "            else: return False\n",
        "\n",
        "        return True"
      ],
      "metadata": {
        "id": "NycyiAYlMfz1"
      },
      "execution_count": null,
      "outputs": []
    },
    {
      "cell_type": "markdown",
      "source": [
        "----"
      ],
      "metadata": {
        "id": "qALkeN37CxXP"
      }
    },
    {
      "cell_type": "markdown",
      "source": [
        "242. Valid Anagram\n",
        "\n",
        "\n",
        "    Given two strings s and t, return true if t is an anagram of s, and false otherwise.\n",
        "\n",
        "    An Anagram is a word or phrase formed by rearranging the letters of a different word or phrase,\n",
        "    typically using all the original letters exactly once."
      ],
      "metadata": {
        "id": "Z4hRjSa5CxCR"
      }
    },
    {
      "cell_type": "code",
      "source": [
        "# Self ans\n",
        "from collections import Counter\n",
        "class Solution:\n",
        "    def isAnagram(self, s: str, t: str) -> bool:\n",
        "        S = Counter (s)\n",
        "        for i in t:\n",
        "            if i not in S:\n",
        "                return False\n",
        "            elif S[i] == 1:\n",
        "                del S[i]\n",
        "            else:\n",
        "                S[i] -= 1\n",
        "        return True if len(S) == 0 else False\n",
        "\n",
        "\n",
        "# ----------------------------------------------------------------\n",
        "# After seeing optimization vid\n",
        "from collections import Counter\n",
        "class Solution:\n",
        "    def isAnagram(self, s: str, t: str) -> bool:\n",
        "        S = Counter(s)\n",
        "        T = Counter(t)\n",
        "        return S==T\n",
        "\n"
      ],
      "metadata": {
        "id": "eORqnY3bMfwg"
      },
      "execution_count": null,
      "outputs": []
    },
    {
      "cell_type": "markdown",
      "source": [
        "---"
      ],
      "metadata": {
        "id": "9EZu_Z9hDHm0"
      }
    },
    {
      "cell_type": "markdown",
      "source": [
        "1189. Maximum Number of Balloons\n",
        "\n",
        "    \n",
        "    \n",
        "    Given a string text, you want to use the characters of text to form as many instances of the word \"balloon\" as possible.\n",
        "\n",
        "    You can use each character in text at most once. Return the maximum number of instances that can be formed."
      ],
      "metadata": {
        "id": "tvAG_m52DHbH"
      }
    },
    {
      "cell_type": "code",
      "source": [
        "# Self Ans\n",
        "from collections import Counter\n",
        "class Solution:\n",
        "    def maxNumberOfBalloons(self, text: str) -> int:\n",
        "        T = Counter(text)\n",
        "        b =\"balloon\"\n",
        "        ans = 0\n",
        "        Flag = True\n",
        "        while True:\n",
        "\n",
        "            for i in b:\n",
        "                if i not in T:\n",
        "                    Flag = False\n",
        "                    break\n",
        "                elif T[i] == 1:\n",
        "                    del T[i]\n",
        "                else:\n",
        "                    T[i] -= 1\n",
        "\n",
        "            if Flag == True: ans += 1\n",
        "            else: break\n",
        "        return ans\n",
        "\n",
        "        #---------------------------------------\n",
        "        # More optimized\n",
        "\n",
        "from collections import defaultdict\n",
        "class Solution:\n",
        "    def maxNumberOfBalloons(self, text: str) -> int:\n",
        "        T = defaultdict(int)\n",
        "        b =\"balloon\"\n",
        "        for i in text:\n",
        "            if i in b:\n",
        "                T[i] += 1\n",
        "        if any(i not in T for i in b): return 0\n",
        "        else:\n",
        "            return min(T[\"b\"],T[\"a\"],T[\"l\"]//2, T[\"o\"]//2, T[\"n\"])\n",
        "\n"
      ],
      "metadata": {
        "id": "KoQB2_aVMfta"
      },
      "execution_count": null,
      "outputs": []
    },
    {
      "cell_type": "markdown",
      "source": [
        "----"
      ],
      "metadata": {
        "id": "gSuOMzUuIKhq"
      }
    },
    {
      "cell_type": "markdown",
      "source": [
        "1. Two Sum\n",
        "\n",
        "\n",
        "    Given an array of integers nums and an integer target, return indices of the two numbers such that they add up to target.\n",
        "\n",
        "    You may assume that each input would have exactly one solution, and you may not use the same element twice.\n",
        "\n",
        "    You can return the answer in any order."
      ],
      "metadata": {
        "id": "rHOPScmAIKcn"
      }
    },
    {
      "cell_type": "code",
      "source": [
        "class Solution:\n",
        "    def twoSum(self, nums: List[int], target: int) -> List[int]:\n",
        "        h = {}\n",
        "        for i in range(len(nums)):\n",
        "            if (target - nums[i]) in h:\n",
        "                return [h[target - nums[i]], i]\n",
        "            else:\n",
        "                h[nums[i]] = i\n",
        "\n"
      ],
      "metadata": {
        "id": "5v87f5sMMfqT"
      },
      "execution_count": null,
      "outputs": []
    },
    {
      "cell_type": "markdown",
      "source": [
        "----"
      ],
      "metadata": {
        "id": "5kGw2h8COjiR"
      }
    },
    {
      "cell_type": "markdown",
      "source": [
        "169. Majority Element\n",
        "\n",
        "    Given an array nums of size n, return the majority element.\n",
        "\n",
        "    The majority element is the element that appears more than ⌊n / 2⌋ times. You may assume that the majority element always exists in the array.\n",
        "\n"
      ],
      "metadata": {
        "id": "zhB_809BOjX9"
      }
    },
    {
      "cell_type": "code",
      "source": [
        "from collections import Counter\n",
        "class Solution:\n",
        "    def majorityElement(self, nums: List[int]) -> int:\n",
        "        N = Counter(nums)\n",
        "        majority = 0\n",
        "        majKey = None\n",
        "        for k, v in N.items():\n",
        "            if v > majority:\n",
        "                majority = v\n",
        "                majKey = k\n",
        "        return majKey\n",
        "\n",
        " # -------------------------------------------------------------------\n",
        "#   optimization O(n)\n",
        "\n",
        "\n",
        "class Solution:\n",
        "    def majorityElement(self, nums: List[int]) -> int:\n",
        "        count = 0\n",
        "        ans = -1\n",
        "\n",
        "        for num in nums:\n",
        "            if count == 0:\n",
        "                ans = num\n",
        "            if ans == num:\n",
        "                count += 1\n",
        "            else:\n",
        "                count -= 1\n",
        "        return ans"
      ],
      "metadata": {
        "id": "0EalQOFfMfmk"
      },
      "execution_count": null,
      "outputs": []
    },
    {
      "cell_type": "markdown",
      "source": [
        "------------------"
      ],
      "metadata": {
        "id": "mKD1JB0zRzyv"
      }
    },
    {
      "cell_type": "markdown",
      "source": [
        "167. Two Sum II - Input Array Is Sorted <To Do again>\n",
        "\n",
        "\n",
        "    Given a 1-indexed array of integers numbers that is already sorted in non-decreasing order,\n",
        "    find two numbers such that they add up to a specific target number.\n",
        "    Let these two numbers be numbers[index1] and numbers[index2] where 1 <= index1 < index2 <= numbers.length.\n",
        "\n",
        "    Return the indices of the two numbers, index1 and index2, added by one as an integer array [index1, index2] of length 2.\n",
        "\n",
        "    The tests are generated such that there is exactly one solution. You may not use the same element twice.\n",
        "\n",
        "    Your solution must use only constant extra space."
      ],
      "metadata": {
        "id": "6RL5OzSaRzuu"
      }
    },
    {
      "cell_type": "code",
      "source": [
        "class Solution:\n",
        "    def twoSum(self, numbers: List[int], target: int) -> List[int]:\n",
        "\n",
        "        N = len(numbers)\n",
        "        L = 0\n",
        "        R = N - 1\n",
        "\n",
        "        for i in range(N):\n",
        "            if numbers[L] + numbers[R] > target:\n",
        "                R = R - 1\n",
        "            elif numbers[L] + numbers[R] < target:\n",
        "                L = L+1\n",
        "            elif numbers[L] + numbers[R] == target:\n",
        "                return [L+1,R+1]\n"
      ],
      "metadata": {
        "id": "i6osIIewMfjA"
      },
      "execution_count": null,
      "outputs": []
    },
    {
      "cell_type": "markdown",
      "source": [
        "-----------\n",
        "# 2 pointers\n",
        "----"
      ],
      "metadata": {
        "id": "88rDfQidRJH_"
      }
    },
    {
      "cell_type": "markdown",
      "source": [
        "977. Squares of a Sorted Array\n",
        "\n",
        "\n",
        "        Given an integer array nums sorted in non-decreasing order, return an array of the squares\n",
        "        of each number sorted in non-decreasing order.\n",
        "\n"
      ],
      "metadata": {
        "id": "fwi0Ch9RRKjb"
      }
    },
    {
      "cell_type": "code",
      "source": [
        "class Solution:\n",
        "    def sortedSquares(self, nums: List[int]) -> List[int]:\n",
        "        L = 0\n",
        "        R = len(nums) - 1\n",
        "\n",
        "        ans = []\n",
        "\n",
        "        while R>=L:\n",
        "            if abs(nums[L]) < abs(nums[R]):\n",
        "                ans.append(nums[R] **2)\n",
        "                R -= 1\n",
        "            else:\n",
        "                ans.append(nums[L] **2)\n",
        "                L += 1\n",
        "        ans.reverse()\n",
        "        return ans"
      ],
      "metadata": {
        "id": "36--tXWTRKUD"
      },
      "execution_count": null,
      "outputs": []
    },
    {
      "cell_type": "markdown",
      "source": [
        "---"
      ],
      "metadata": {
        "id": "xbSooC3JUsRx"
      }
    },
    {
      "cell_type": "markdown",
      "source": [
        "344. Reverse String\n",
        "\n",
        "    \n",
        "    Write a function that reverses a string. The input string is given as an array of characters s.\n",
        "\n",
        "    You must do this by modifying the input array in-place with O(1) extra memory."
      ],
      "metadata": {
        "id": "IP-f-nHTUsMn"
      }
    },
    {
      "cell_type": "code",
      "source": [
        "class Solution:\n",
        "    def reverseString(self, s: List[str]) -> None:\n",
        "        \"\"\"\n",
        "        Do not return anything, modify s in-place instead.\n",
        "        \"\"\"\n",
        "        L = 0\n",
        "        R = len(s) - 1\n",
        "        while(L<=R):\n",
        "            s[L], s[R] = s[R], s[L]\n",
        "            L += 1\n",
        "            R -= 1\n",
        "\n",
        "\n"
      ],
      "metadata": {
        "id": "VvTV1fFIRrtF"
      },
      "execution_count": null,
      "outputs": []
    },
    {
      "cell_type": "markdown",
      "source": [
        "----\n",
        "125. Valid Palindrome\n",
        "\n",
        "\n",
        "    A phrase is a palindrome if, after converting all uppercase letters into lowercase letters and\n",
        "    removing all non-alphanumeric characters, it reads the same forward and backward.\n",
        "    Alphanumeric characters include letters and numbers.\n",
        "\n",
        "    Given a string s, return true if it is a palindrome, or false otherwise."
      ],
      "metadata": {
        "id": "6Vo2ZIvze-l6"
      }
    },
    {
      "cell_type": "code",
      "source": [
        "# ------------------------------------------------------------------------------\n",
        "#  2 pointer approach\n",
        "\n",
        "class Solution:\n",
        "    def isPalindrome(self, s: str) -> bool:\n",
        "        n = len(s)\n",
        "        l = 0\n",
        "        r = n - 1\n",
        "        while r > l:\n",
        "            if not s[l].isalnum():\n",
        "                l += 1\n",
        "                continue\n",
        "            if not s[r].isalnum():\n",
        "                r -= 1\n",
        "                continue\n",
        "            if s[l].lower()  != s[r].lower():\n",
        "                return False\n",
        "            l += 1\n",
        "            r -= 1\n",
        "        return True\n",
        "\n",
        "\n",
        "# ------------------------------------------------------------------------------\n",
        "# naive approach\n",
        "class Solution:\n",
        "    def isPalindrome(self, s: str) -> bool:\n",
        "\n",
        "        alpha = \"\"\n",
        "        for i in s:\n",
        "            if i.isalnum():\n",
        "                alpha +=i\n",
        "        alpha = alpha.lower()\n",
        "        print(alpha)\n",
        "        return alpha == alpha[::-1]"
      ],
      "metadata": {
        "id": "oxKnQrxrRrqO"
      },
      "execution_count": null,
      "outputs": []
    },
    {
      "cell_type": "markdown",
      "source": [
        "---\n",
        "# Stacks\n",
        "---\n",
        "\n"
      ],
      "metadata": {
        "id": "F6G1mGXtolNp"
      }
    },
    {
      "cell_type": "markdown",
      "source": [
        "682. Baseball Game\n",
        "\n",
        "\n",
        "    You are keeping the scores for a baseball game with strange rules. At the beginning of the game, you start with an empty record.\n",
        "\n",
        "    You are given a list of strings operations, where operations[i] is the ith operation you must apply to the record and is one of the following:\n",
        "\n",
        "    An integer x.\n",
        "    Record a new score of x.\n",
        "    '+'.\n",
        "    Record a new score that is the sum of the previous two scores.\n",
        "    'D'.\n",
        "    Record a new score that is the double of the previous score.\n",
        "    'C'.\n",
        "    Invalidate the previous score, removing it from the record.\n",
        "    Return the sum of all the scores on the record after applying all the operations.\n",
        "\n",
        "    The test cases are generated such that the answer and all intermediate calculations fit in a 32-bit integer and that all operations are valid.\n",
        "        "
      ],
      "metadata": {
        "id": "AWHTfunkpW94"
      }
    },
    {
      "cell_type": "code",
      "source": [
        "class Solution:\n",
        "    def calPoints(self, operations: List[str]) -> int:\n",
        "        result = []\n",
        "\n",
        "        for i in operations:\n",
        "            if i == \"+\":\n",
        "                result.append(result[-1]+result[-2])\n",
        "            elif i == \"D\":\n",
        "                result.append(2*result[-1])\n",
        "            elif i == \"C\":\n",
        "                result.pop()\n",
        "            else:\n",
        "                result.append(int(i))\n",
        "        return sum(result)\n",
        ""
      ],
      "metadata": {
        "id": "81ggHyzDRroo"
      },
      "execution_count": null,
      "outputs": []
    },
    {
      "cell_type": "code",
      "source": [],
      "metadata": {
        "id": "VAVC2xEZRrkn"
      },
      "execution_count": null,
      "outputs": []
    },
    {
      "cell_type": "code",
      "source": [],
      "metadata": {
        "id": "cuOwonhlRriA"
      },
      "execution_count": null,
      "outputs": []
    },
    {
      "cell_type": "code",
      "source": [],
      "metadata": {
        "id": "6nQQmkLDRrfn"
      },
      "execution_count": null,
      "outputs": []
    },
    {
      "cell_type": "code",
      "source": [],
      "metadata": {
        "id": "Z411gov5Rrci"
      },
      "execution_count": null,
      "outputs": []
    },
    {
      "cell_type": "code",
      "source": [],
      "metadata": {
        "id": "dmbNqxwARrZ9"
      },
      "execution_count": null,
      "outputs": []
    },
    {
      "cell_type": "code",
      "source": [],
      "metadata": {
        "id": "RNfjs0W2RrVn"
      },
      "execution_count": null,
      "outputs": []
    },
    {
      "cell_type": "code",
      "source": [],
      "metadata": {
        "id": "Y1NTXSddMffn"
      },
      "execution_count": null,
      "outputs": []
    },
    {
      "cell_type": "markdown",
      "source": [
        "Company Specific"
      ],
      "metadata": {
        "id": "32n3E0VcJjC3"
      }
    },
    {
      "cell_type": "markdown",
      "source": [
        "-----------"
      ],
      "metadata": {
        "id": "cZk3N4JwJGW3"
      }
    },
    {
      "cell_type": "markdown",
      "source": [
        "\n",
        "# **Blackstone**\n",
        "\n",
        "\n",
        "2215.Find the Difference of Two Arrays\n",
        "\n",
        "\n",
        "    Given two 0-indexed integer arrays nums1 and nums2, return a list answer of size 2 where:\n",
        "    answer[0] is a list of all distinct integers in nums1 which are not present in nums2.\n",
        "    answer[1] is a list of all distinct integers in nums2 which are not present in nums1.\n",
        "    Note that the integers in the lists may be returned in any order."
      ],
      "metadata": {
        "id": "0pSfa158JGLn"
      }
    },
    {
      "cell_type": "code",
      "source": [
        "class Solution:\n",
        "    def findDifference(self, nums1: List[int], nums2: List[int]) -> List[List[int]]:\n",
        "        ans=[[],[]]\n",
        "        N1 = set(nums1)\n",
        "        N2 = set(nums2)\n",
        "\n",
        "        for i in N1:\n",
        "            if i not in nums2:\n",
        "                ans[0].append(i)\n",
        "        for i in N2:\n",
        "            if i not in nums1:\n",
        "                ans[1].append(i)\n",
        "        return ans\n"
      ],
      "metadata": {
        "id": "wDKfHqsN91wp"
      },
      "execution_count": null,
      "outputs": []
    },
    {
      "cell_type": "markdown",
      "source": [
        "---\n",
        "\n",
        "15. 3Sum <Do it again by self>\n",
        "        \n",
        "        Given an integer array nums, return all the triplets [nums[i], nums[j], nums[k]]\n",
        "        such that i != j, i != k, and j != k, and nums[i] + nums[j] + nums[k] == 0.\n",
        "\n",
        "        Notice that the solution set must not contain duplicate triplets."
      ],
      "metadata": {
        "id": "ktvttVvOkjum"
      }
    },
    {
      "cell_type": "code",
      "source": [
        "class Solution:\n",
        "    def threeSum(self, nums: List[int]) -> List[List[int]]:\n",
        "        nums.sort()\n",
        "        n = len(nums)\n",
        "        ans = []\n",
        "\n",
        "        for i in range(n):\n",
        "            if nums[i]>0:break\n",
        "            if i>0 and nums[i] == nums[i-1]: continue\n",
        "            lo, hi = i+1, n-1\n",
        "            while lo < hi:\n",
        "                summ = nums[i] + nums[lo]+ nums[hi]\n",
        "                if summ == 0:\n",
        "                    ans.append([nums[i], nums[lo], nums[hi]])\n",
        "                    lo, hi = lo+1, hi-1\n",
        "\n",
        "                    while lo<hi and nums[lo] == nums[lo-1]:\n",
        "                        lo +=1\n",
        "                    while lo<hi and nums[hi] == nums[hi+1]:\n",
        "                        hi -=1\n",
        "\n",
        "                elif summ < 0:\n",
        "                    lo +=1\n",
        "                else:\n",
        "                    hi -=1\n",
        "\n",
        "        return ans"
      ],
      "metadata": {
        "id": "nf73_gDZkjaX"
      },
      "execution_count": null,
      "outputs": []
    },
    {
      "cell_type": "code",
      "source": [],
      "metadata": {
        "id": "TkJLmksRkjSh"
      },
      "execution_count": null,
      "outputs": []
    },
    {
      "cell_type": "markdown",
      "source": [],
      "metadata": {
        "id": "orKyOiB9ki3M"
      }
    },
    {
      "cell_type": "markdown",
      "source": [
        "--------"
      ],
      "metadata": {
        "id": "1UdkQ21I93Fa"
      }
    },
    {
      "cell_type": "markdown",
      "source": [
        "# DUMP"
      ],
      "metadata": {
        "id": "tbSuciWj95y-"
      }
    },
    {
      "cell_type": "code",
      "source": [
        "class Solution(object):\n",
        "    def romanToInt(self, s):\n",
        "        \"\"\"\n",
        "        :type s: str\n",
        "        :rtype: int\n",
        "        \"\"\"\n",
        "        s = s.encode(\"UTF8\")\n",
        "        ls= list(s)\n",
        "        # print(type(ls[0]))\n",
        "        romanValues = {'I':1, \"V\": 5, \"X\":10, \"L\":50, \"C\": 100, \"D\": 500, \"M\": 1000}\n",
        "        Sum = 0\n",
        "        ls = ls[::-1]\n",
        "        print(ls)\n",
        "        i=0\n",
        "        while i < len(ls):\n",
        "            if (ls[i] != 'I'  and i < len(ls)-1 and ls[i+1] =='I'):\n",
        "                if ls[i]== \"V\":\n",
        "                    Sum += 4\n",
        "                    print(\"here in 4\")\n",
        "                    print(\"SUM is= \", Sum)\n",
        "                    i += 1\n",
        "                else:\n",
        "                    Sum += 9\n",
        "                    print(\"here in 9\")\n",
        "                    print(\"SUM is= \", Sum)\n",
        "                    i += 1\n",
        "\n",
        "\n",
        "            elif ls[i] != 'X'  and i < len(ls)-1 and ls[i+1] =='X':\n",
        "                if ls[i]== \"l\":\n",
        "                    Sum += 40\n",
        "                    print(\"here in 40\")\n",
        "                    print(\"SUM is= \", Sum)\n",
        "\n",
        "                else:\n",
        "                    Sum += 90\n",
        "                    print(\"here in 90\")\n",
        "                    print(\"SUM is= \", Sum)\n",
        "                i += 1\n",
        "            elif (ls[i] == \"D\" or ls[i]==\"M\") and (ls[i] != 'C'  and i < len(ls)-1 and ls[i+1] =='C'):\n",
        "                if ls[i]== \"D\":\n",
        "                    Sum += 400\n",
        "                    print(\"here in 400\")\n",
        "                    print(\"SUM is= \", Sum)\n",
        "                else:\n",
        "                    Sum += 900\n",
        "                    print(\"here in 900\")\n",
        "                    print(\"SUM is= \", Sum)\n",
        "                i += 1\n",
        "            else:\n",
        "                Sum += int(romanValues[ls[i]])\n",
        "                i+=1\n",
        "                print(\"SUM is= \", Sum)\n",
        "        return Sum\n",
        "\n",
        "\n"
      ],
      "metadata": {
        "id": "L1RSY0_r-yop"
      },
      "execution_count": null,
      "outputs": []
    }
  ]
}