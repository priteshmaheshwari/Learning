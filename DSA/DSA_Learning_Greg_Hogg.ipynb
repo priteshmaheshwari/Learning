{
  "nbformat": 4,
  "nbformat_minor": 0,
  "metadata": {
    "colab": {
      "provenance": [],
      "toc_visible": true,
      "authorship_tag": "ABX9TyMrs4udjCmUA0TXySx4ILnC",
      "include_colab_link": true
    },
    "kernelspec": {
      "name": "python3",
      "display_name": "Python 3"
    },
    "language_info": {
      "name": "python"
    }
  },
  "cells": [
    {
      "cell_type": "markdown",
      "metadata": {
        "id": "view-in-github",
        "colab_type": "text"
      },
      "source": [
        "<a href=\"https://colab.research.google.com/github/priteshmaheshwari/Learning/blob/main/DSA/DSA_Learning_Greg_Hogg.ipynb\" target=\"_parent\"><img src=\"https://colab.research.google.com/assets/colab-badge.svg\" alt=\"Open In Colab\"/></a>"
      ]
    },
    {
      "cell_type": "markdown",
      "source": [
        "# Linked List"
      ],
      "metadata": {
        "id": "wKXd1eE6Y9_i"
      }
    },
    {
      "cell_type": "markdown",
      "source": [
        "## Singly Linked List"
      ],
      "metadata": {
        "id": "KeGO3RSIY97H"
      }
    },
    {
      "cell_type": "code",
      "source": [
        "class SinglyNode:\n",
        "    def __init__ (self, val, next = None):\n",
        "        self.val = val\n",
        "        self.next = next\n",
        "    def __str__(self):\n",
        "        return str(self.val)\n",
        "\n"
      ],
      "metadata": {
        "id": "iHKAyxTKZaup"
      },
      "execution_count": null,
      "outputs": []
    },
    {
      "cell_type": "code",
      "source": [
        "Head = SinglyNode(1)\n",
        "A = SinglyNode(2)\n",
        "B = SinglyNode(3)\n",
        "C = SinglyNode(7)\n",
        "\n",
        "Head.next = A\n",
        "A.next = B\n",
        "B.next = C\n",
        "\n",
        "print(Head)"
      ],
      "metadata": {
        "colab": {
          "base_uri": "https://localhost:8080/"
        },
        "id": "AkyZyQdraCL7",
        "outputId": "133b3126-e6f7-4fe8-a937-ca2e2cdaf8d5"
      },
      "execution_count": null,
      "outputs": [
        {
          "output_type": "stream",
          "name": "stdout",
          "text": [
            "1\n"
          ]
        }
      ]
    },
    {
      "cell_type": "markdown",
      "source": [
        "### Treversing a linked list O(N)"
      ],
      "metadata": {
        "id": "JP1EnK_bY91N"
      }
    },
    {
      "cell_type": "code",
      "source": [
        "curr = Head\n",
        "\n",
        "while curr:\n",
        "    print(curr)\n",
        "    curr = curr.next"
      ],
      "metadata": {
        "colab": {
          "base_uri": "https://localhost:8080/"
        },
        "id": "SksSB1QraqHx",
        "outputId": "602974c1-4abe-4793-9a75-a1aadf214b4f"
      },
      "execution_count": null,
      "outputs": [
        {
          "output_type": "stream",
          "name": "stdout",
          "text": [
            "1\n",
            "2\n",
            "3\n",
            "7\n"
          ]
        }
      ]
    },
    {
      "cell_type": "markdown",
      "source": [
        "### Displaying a linked list O(N)"
      ],
      "metadata": {
        "id": "gZT_gbTja7fb"
      }
    },
    {
      "cell_type": "code",
      "source": [
        "def display(head):\n",
        "    curr = head\n",
        "    elements = []\n",
        "    while curr:\n",
        "        elements.append(str(curr.val))\n",
        "        curr = curr.next\n",
        "    print(\" -> \".join(elements))\n",
        "\n",
        "display(Head)"
      ],
      "metadata": {
        "colab": {
          "base_uri": "https://localhost:8080/"
        },
        "id": "oAX-Z0cca-PN",
        "outputId": "21585d0f-38f9-4eb3-c837-608d34e8819c"
      },
      "execution_count": null,
      "outputs": [
        {
          "output_type": "stream",
          "name": "stdout",
          "text": [
            "1 -> 2 -> 3 -> 7\n"
          ]
        }
      ]
    },
    {
      "cell_type": "markdown",
      "source": [
        "### Search for a Node value  O(N)"
      ],
      "metadata": {
        "id": "uR5ZTmv8bwKL"
      }
    },
    {
      "cell_type": "code",
      "source": [
        "def search(head, target):\n",
        "    curr = head\n",
        "    while curr:\n",
        "        if target == curr.val:\n",
        "            return True\n",
        "        curr = curr.next\n",
        "    return False\n",
        "\n",
        "search(Head, 7)"
      ],
      "metadata": {
        "colab": {
          "base_uri": "https://localhost:8080/"
        },
        "id": "b_KVbU0XcARV",
        "outputId": "91900899-cd93-4e37-e4f6-89e9cdc98179"
      },
      "execution_count": null,
      "outputs": [
        {
          "output_type": "execute_result",
          "data": {
            "text/plain": [
              "True"
            ]
          },
          "metadata": {},
          "execution_count": 14
        }
      ]
    },
    {
      "cell_type": "markdown",
      "source": [
        "## Doubly Linked List"
      ],
      "metadata": {
        "id": "OwDTMlPjcihU"
      }
    },
    {
      "cell_type": "code",
      "source": [
        "class DoublyNode:\n",
        "    def __init__ (self, val, next = None, prev = None):\n",
        "        self.val = val\n",
        "        self.next = next\n",
        "        self.prev = prev\n",
        "    def __str__(self):\n",
        "        return str(self.val)\n"
      ],
      "metadata": {
        "id": "0MNKzBVtdBjZ"
      },
      "execution_count": null,
      "outputs": []
    },
    {
      "cell_type": "code",
      "source": [
        "head = tail = DoublyNode(1)\n",
        "print(head)\n",
        "print(tail)"
      ],
      "metadata": {
        "colab": {
          "base_uri": "https://localhost:8080/"
        },
        "id": "f50HfdwOdQPY",
        "outputId": "ea683ff1-5841-461d-ae10-7daa5d62ff28"
      },
      "execution_count": null,
      "outputs": [
        {
          "output_type": "stream",
          "name": "stdout",
          "text": [
            "1\n",
            "1\n"
          ]
        }
      ]
    },
    {
      "cell_type": "markdown",
      "source": [
        "### Display Doubly O(N)"
      ],
      "metadata": {
        "id": "-1o1mwPkdYLB"
      }
    },
    {
      "cell_type": "code",
      "source": [
        "def display(head):\n",
        "    curr = head\n",
        "    elements = []\n",
        "    while curr:\n",
        "        elements.append(str(curr.val))\n",
        "        curr = curr.next\n",
        "    print(\" <-> \".join(elements))\n",
        "\n",
        "display(head)"
      ],
      "metadata": {
        "colab": {
          "base_uri": "https://localhost:8080/"
        },
        "id": "M2zjWrr6dP--",
        "outputId": "11e8c851-a43e-4bb0-b40f-7c81ece2f1c1"
      },
      "execution_count": null,
      "outputs": [
        {
          "output_type": "stream",
          "name": "stdout",
          "text": [
            "1\n"
          ]
        }
      ]
    },
    {
      "cell_type": "markdown",
      "source": [
        "### Insert At begning - O(N)"
      ],
      "metadata": {
        "id": "y8i_IkUYd0tg"
      }
    },
    {
      "cell_type": "code",
      "source": [
        "def insert_at_beginning(head, tail, val):\n",
        "    new_node = DoublyNode(val, next=head)\n",
        "    head.prev = new_node\n",
        "    return new_node, tail\n",
        "\n",
        "head, tail = insert_at_beginning(head, tail, -5)\n",
        "display(head)"
      ],
      "metadata": {
        "colab": {
          "base_uri": "https://localhost:8080/"
        },
        "id": "88t1SUzWdzsS",
        "outputId": "e0ba8236-9869-47aa-f907-57184d144427"
      },
      "execution_count": null,
      "outputs": [
        {
          "output_type": "stream",
          "name": "stdout",
          "text": [
            "-5 <-> 1\n"
          ]
        }
      ]
    },
    {
      "cell_type": "markdown",
      "source": [
        "### Insert At End - O(N)"
      ],
      "metadata": {
        "id": "UQ2_Pw9Zcice"
      }
    },
    {
      "cell_type": "code",
      "source": [
        "def insert_at_end(head, tail, val):\n",
        "    new_node = DoublyNode(val, prev=tail)\n",
        "    tail.next = new_node\n",
        "    return head, new_node\n",
        "\n",
        "head, tail = insert_at_end(head, tail, 8)\n",
        "display(head)"
      ],
      "metadata": {
        "colab": {
          "base_uri": "https://localhost:8080/"
        },
        "id": "cKoO1xnge9ln",
        "outputId": "0aa40766-2008-4be0-b840-662677f48d68"
      },
      "execution_count": null,
      "outputs": [
        {
          "output_type": "stream",
          "name": "stdout",
          "text": [
            "8 <-> -5 <-> -5 <-> 1 <-> 8\n"
          ]
        }
      ]
    },
    {
      "cell_type": "markdown",
      "source": [
        "----\n",
        "---"
      ],
      "metadata": {
        "id": "A_ysdX_3fjH1"
      }
    },
    {
      "cell_type": "markdown",
      "source": [
        "# Hashmaps & HashSets"
      ],
      "metadata": {
        "id": "2qbExS-eYhgS"
      }
    },
    {
      "cell_type": "markdown",
      "source": [
        "## Hashsets"
      ],
      "metadata": {
        "id": "BAEWXazYYxdc"
      }
    },
    {
      "cell_type": "markdown",
      "source": [
        "### Add Item inot set - O(1)"
      ],
      "metadata": {
        "id": "ST-QxpYcY0wK"
      }
    },
    {
      "cell_type": "code",
      "source": [
        "s =set()\n",
        "s.add( 1)\n",
        "s.add(2)\n",
        "s.add(7)\n",
        "s"
      ],
      "metadata": {
        "colab": {
          "base_uri": "https://localhost:8080/"
        },
        "id": "ofUaKlZYYpfy",
        "outputId": "f7891635-7694-46cf-f957-eb1b9affaebd"
      },
      "execution_count": null,
      "outputs": [
        {
          "output_type": "execute_result",
          "data": {
            "text/plain": [
              "{1, 2, 7}"
            ]
          },
          "metadata": {},
          "execution_count": 2
        }
      ]
    },
    {
      "cell_type": "markdown",
      "source": [
        "### lookup if an item in set- O(1)"
      ],
      "metadata": {
        "id": "pX5Xw6QIYo7W"
      }
    },
    {
      "cell_type": "code",
      "source": [
        "if 1 in s:\n",
        "    print(True)"
      ],
      "metadata": {
        "colab": {
          "base_uri": "https://localhost:8080/"
        },
        "id": "JNsbvf74You8",
        "outputId": "170176fe-fc2a-4962-a644-a30be08a67da"
      },
      "execution_count": null,
      "outputs": [
        {
          "output_type": "stream",
          "name": "stdout",
          "text": [
            "True\n"
          ]
        }
      ]
    },
    {
      "cell_type": "markdown",
      "source": [
        "### Remove from set - O(1)"
      ],
      "metadata": {
        "id": "eg58o8KwZbGk"
      }
    },
    {
      "cell_type": "code",
      "source": [
        "s.remove(7)\n",
        "s"
      ],
      "metadata": {
        "colab": {
          "base_uri": "https://localhost:8080/"
        },
        "id": "8sDwIfL0YoTY",
        "outputId": "8a5fe38d-a0f9-4d4d-db87-007589e20ba1"
      },
      "execution_count": null,
      "outputs": [
        {
          "output_type": "execute_result",
          "data": {
            "text/plain": [
              "{1, 2}"
            ]
          },
          "metadata": {},
          "execution_count": 4
        }
      ]
    },
    {
      "cell_type": "markdown",
      "source": [
        "## Hashmaps -Dictionaries\n"
      ],
      "metadata": {
        "id": "j8BUwiD1Zzrc"
      }
    },
    {
      "cell_type": "markdown",
      "source": [
        "### Add key:Val in dict- O(1)\n"
      ],
      "metadata": {
        "id": "pGJH5c98Z8o7"
      }
    },
    {
      "cell_type": "code",
      "source": [
        "d = {'pritesh': 1, 'maheshwari':2}\n",
        "d[\"indore\"] =5\n",
        "d"
      ],
      "metadata": {
        "colab": {
          "base_uri": "https://localhost:8080/"
        },
        "id": "m17xbiA3Z6Io",
        "outputId": "2cc59b33-a75a-4750-de92-d376ae7e895a"
      },
      "execution_count": null,
      "outputs": [
        {
          "output_type": "execute_result",
          "data": {
            "text/plain": [
              "{'pritesh': 1, 'maheshwari': 2, 'indore': 5}"
            ]
          },
          "metadata": {},
          "execution_count": 6
        }
      ]
    },
    {
      "cell_type": "markdown",
      "source": [
        "### Check a key in dict - O(1)"
      ],
      "metadata": {
        "id": "bekhAHKLaUkV"
      }
    },
    {
      "cell_type": "code",
      "source": [
        "if 'pritesh' in d: print(True)"
      ],
      "metadata": {
        "colab": {
          "base_uri": "https://localhost:8080/"
        },
        "id": "ipJYNEADZ5gy",
        "outputId": "4080a60f-6fe3-4e4f-bf40-b3f813965ee9"
      },
      "execution_count": null,
      "outputs": [
        {
          "output_type": "stream",
          "name": "stdout",
          "text": [
            "True\n"
          ]
        }
      ]
    },
    {
      "cell_type": "markdown",
      "source": [
        "### Check the value corresponding to a key in the dict- O(1)"
      ],
      "metadata": {
        "id": "DRnx2ZPsatRi"
      }
    },
    {
      "cell_type": "code",
      "source": [
        "d['pritesh']"
      ],
      "metadata": {
        "colab": {
          "base_uri": "https://localhost:8080/"
        },
        "id": "RcE0fotIa0Id",
        "outputId": "4e15d73e-8826-45cb-bf27-a6485b2f39bf"
      },
      "execution_count": null,
      "outputs": [
        {
          "output_type": "execute_result",
          "data": {
            "text/plain": [
              "1"
            ]
          },
          "metadata": {},
          "execution_count": 8
        }
      ]
    },
    {
      "cell_type": "markdown",
      "source": [
        "### Loop over the ket:val pairs of the dict: O(N)"
      ],
      "metadata": {
        "id": "TkLBtMu0az7U"
      }
    },
    {
      "cell_type": "code",
      "source": [
        "for key, val in d.items():\n",
        "    print(f'key: {key}: val: {val}')"
      ],
      "metadata": {
        "colab": {
          "base_uri": "https://localhost:8080/"
        },
        "id": "-iCiGIxxcE3U",
        "outputId": "cb62fa72-20ac-40fb-b8e6-741352d18825"
      },
      "execution_count": null,
      "outputs": [
        {
          "output_type": "stream",
          "name": "stdout",
          "text": [
            "key: pritesh: val: 1\n",
            "key: maheshwari: val: 2\n",
            "key: indore: val: 5\n"
          ]
        }
      ]
    },
    {
      "cell_type": "markdown",
      "source": [
        "## Othe Related Data Structures"
      ],
      "metadata": {
        "id": "RcWXjg1ucTEI"
      }
    },
    {
      "cell_type": "markdown",
      "source": [
        "### DefaultDict"
      ],
      "metadata": {
        "id": "u94H1GtZcax8"
      }
    },
    {
      "cell_type": "code",
      "source": [
        "from collections import defaultdict\n",
        "\n",
        "default = defaultdict(int)\n",
        "default[2]\n",
        "print(\"Default\" , default)\n",
        "\n",
        "default_list = defaultdict(list)\n",
        "default_list[5]\n",
        "print(\"default dict of list\", default_list)"
      ],
      "metadata": {
        "colab": {
          "base_uri": "https://localhost:8080/"
        },
        "id": "SmeasEM-cdSg",
        "outputId": "54616426-12fb-4008-d078-7a197dfb91b6"
      },
      "execution_count": null,
      "outputs": [
        {
          "output_type": "stream",
          "name": "stdout",
          "text": [
            "Default defaultdict(<class 'int'>, {2: 0})\n",
            "default dict of list defaultdict(<class 'list'>, {5: []})\n"
          ]
        }
      ]
    },
    {
      "cell_type": "markdown",
      "source": [
        "### Counter\n"
      ],
      "metadata": {
        "id": "uhBZ85wpdFKf"
      }
    },
    {
      "cell_type": "code",
      "source": [
        "from collections import Counter\n",
        "string = 'aaaaaaaaaaaabbbbbbbbbbbbccccccccccceeeeeeeeeee'\n",
        "\n",
        "counter = Counter(string)\n",
        "counter"
      ],
      "metadata": {
        "colab": {
          "base_uri": "https://localhost:8080/"
        },
        "id": "WKM8tIhjdGvC",
        "outputId": "08a680d1-1d62-4731-ef67-a379809c9ad0"
      },
      "execution_count": null,
      "outputs": [
        {
          "output_type": "execute_result",
          "data": {
            "text/plain": [
              "Counter({'a': 12, 'b': 12, 'c': 11, 'e': 11})"
            ]
          },
          "metadata": {},
          "execution_count": 2
        }
      ]
    },
    {
      "cell_type": "markdown",
      "source": [
        "# Stack & Queue"
      ],
      "metadata": {
        "id": "Fw99kUJQbt2i"
      }
    },
    {
      "cell_type": "markdown",
      "source": [
        "## Stack - Last In First Out (LIFO)"
      ],
      "metadata": {
        "id": "rl1zBxowbxxX"
      }
    },
    {
      "cell_type": "markdown",
      "source": [
        "### Append O(1)\n"
      ],
      "metadata": {
        "id": "MQ6JMuNIcH38"
      }
    },
    {
      "cell_type": "markdown",
      "source": [
        "### Pop O(1)"
      ],
      "metadata": {
        "id": "gvGHh0rJcPGt"
      }
    },
    {
      "cell_type": "markdown",
      "source": [
        "### If stack is non-Empty: O(1)"
      ],
      "metadata": {
        "id": "63aJETRGcIW_"
      }
    },
    {
      "cell_type": "markdown",
      "source": [
        "## Queue - First In First Out (FIFO)\n"
      ],
      "metadata": {
        "id": "scbaHPB-cY99"
      }
    },
    {
      "cell_type": "code",
      "source": [
        "from collections import deque\n",
        "\n",
        "q = deque()\n",
        "print(q)"
      ],
      "metadata": {
        "colab": {
          "base_uri": "https://localhost:8080/"
        },
        "id": "S0R0cxpOcy3Z",
        "outputId": "0d7d8c3c-a2a0-4f46-8753-7ffced01c352"
      },
      "execution_count": null,
      "outputs": [
        {
          "output_type": "stream",
          "name": "stdout",
          "text": [
            "deque([])\n"
          ]
        }
      ]
    },
    {
      "cell_type": "markdown",
      "source": [
        "## Enqueue -  Add Element to the right side: O(1)\n",
        "\n",
        "\n",
        "\n"
      ],
      "metadata": {
        "id": "tcMPJq0EcY7D"
      }
    },
    {
      "cell_type": "code",
      "source": [
        "q.append(4)\n",
        "q.append(6)\n",
        "q.append(5)\n",
        "q"
      ],
      "metadata": {
        "colab": {
          "base_uri": "https://localhost:8080/"
        },
        "id": "ZqPDVC1Edlix",
        "outputId": "be64f2e3-c4cd-4847-8d8c-e4cc9c7e0467"
      },
      "execution_count": null,
      "outputs": [
        {
          "output_type": "execute_result",
          "data": {
            "text/plain": [
              "deque([4, 4, 4, 6, 5])"
            ]
          },
          "metadata": {},
          "execution_count": 12
        }
      ]
    },
    {
      "cell_type": "markdown",
      "source": [
        "## Dequeue (pop left) -  Remove an element to the left side: O(1)\n"
      ],
      "metadata": {
        "id": "slGMOzXWcY4O"
      }
    },
    {
      "cell_type": "code",
      "source": [
        "q.popleft()"
      ],
      "metadata": {
        "colab": {
          "base_uri": "https://localhost:8080/"
        },
        "id": "Lvf5Ctudd9-L",
        "outputId": "a7634a79-6ba9-4080-9506-fedea4ed301d"
      },
      "execution_count": null,
      "outputs": [
        {
          "output_type": "execute_result",
          "data": {
            "text/plain": [
              "4"
            ]
          },
          "metadata": {},
          "execution_count": 13
        }
      ]
    },
    {
      "cell_type": "code",
      "source": [
        "q"
      ],
      "metadata": {
        "colab": {
          "base_uri": "https://localhost:8080/"
        },
        "id": "Xx7NZeBqeiCA",
        "outputId": "a7c7becc-537d-4fab-fc3a-dd37cef825d8"
      },
      "execution_count": null,
      "outputs": [
        {
          "output_type": "execute_result",
          "data": {
            "text/plain": [
              "deque([4, 4, 6, 5])"
            ]
          },
          "metadata": {},
          "execution_count": 16
        }
      ]
    },
    {
      "cell_type": "markdown",
      "source": [
        "## Peek from left side: O(1)"
      ],
      "metadata": {
        "id": "qctNkq8ieK2_"
      }
    },
    {
      "cell_type": "code",
      "source": [
        "q[0]"
      ],
      "metadata": {
        "colab": {
          "base_uri": "https://localhost:8080/"
        },
        "id": "tb-tpESBeKqb",
        "outputId": "ba440892-220b-4d66-beb1-61b583f91d0d"
      },
      "execution_count": null,
      "outputs": [
        {
          "output_type": "execute_result",
          "data": {
            "text/plain": [
              "4"
            ]
          },
          "metadata": {},
          "execution_count": 17
        }
      ]
    },
    {
      "cell_type": "markdown",
      "source": [
        "## Peek from Right side: O(1)"
      ],
      "metadata": {
        "id": "Hec3z6WheZMC"
      }
    },
    {
      "cell_type": "code",
      "source": [
        "q[-1]"
      ],
      "metadata": {
        "colab": {
          "base_uri": "https://localhost:8080/"
        },
        "id": "7v-YUneaecSU",
        "outputId": "821b3132-4d49-4dc9-d90d-02c4f7e4dd22"
      },
      "execution_count": null,
      "outputs": [
        {
          "output_type": "execute_result",
          "data": {
            "text/plain": [
              "5"
            ]
          },
          "metadata": {},
          "execution_count": 15
        }
      ]
    },
    {
      "cell_type": "markdown",
      "source": [
        "# Recursion"
      ],
      "metadata": {
        "id": "4nV86Hz_jxSN"
      }
    },
    {
      "cell_type": "markdown",
      "source": [
        "## Fibonacci"
      ],
      "metadata": {
        "id": "6bi1wy_Aj_AD"
      }
    },
    {
      "cell_type": "code",
      "source": [
        "# F(0) = 0\n",
        "# F(1) = 1\n",
        "# F(n) = F(n-1) + F(n-2)\n",
        "# Time: O(2^n) Space:O(n)\n",
        "def F(n):\n",
        "    if n == 1: return 1\n",
        "    elif n ==0: return 0\n",
        "    return F(n-1) + F(n-2)\n",
        "F(10)"
      ],
      "metadata": {
        "colab": {
          "base_uri": "https://localhost:8080/"
        },
        "id": "s1CxK_2vj_ab",
        "outputId": "f588910a-c95d-40f5-d824-edf50553c146"
      },
      "execution_count": null,
      "outputs": [
        {
          "output_type": "execute_result",
          "data": {
            "text/plain": [
              "55"
            ]
          },
          "metadata": {},
          "execution_count": 2
        }
      ]
    },
    {
      "cell_type": "markdown",
      "source": [
        "## Linked Lists\n"
      ],
      "metadata": {
        "id": "AK6YWTwfq5hh"
      }
    },
    {
      "cell_type": "code",
      "source": [
        "class SinglyNode:\n",
        "    def __init__ (self, val, next = None):\n",
        "        self.val = val\n",
        "        self.next = next\n",
        "    def __str__(self):\n",
        "        return str(self.val)\n",
        "Head = SinglyNode(1)\n",
        "A = SinglyNode(2)\n",
        "B = SinglyNode(3)\n",
        "C = SinglyNode(7)\n",
        "\n",
        "Head.next = A\n",
        "A.next = B\n",
        "B.next = C\n",
        "\n",
        "print(Head)"
      ],
      "metadata": {
        "colab": {
          "base_uri": "https://localhost:8080/"
        },
        "id": "Apem8Vj1q5-G",
        "outputId": "92c2ed87-77c4-4680-8b6e-37b3d262088a"
      },
      "execution_count": null,
      "outputs": [
        {
          "output_type": "stream",
          "name": "stdout",
          "text": [
            "1\n"
          ]
        }
      ]
    },
    {
      "cell_type": "code",
      "source": [
        "# Print Reverse linkedlist\n",
        "# Time:O(n) Space: O(n)\n",
        "def reverse(node):\n",
        "    if not node:\n",
        "        return\n",
        "\n",
        "    reverse(node.next)\n",
        "    print(node)\n",
        "reverse(Head)"
      ],
      "metadata": {
        "colab": {
          "base_uri": "https://localhost:8080/"
        },
        "id": "1TjODW3brKBF",
        "outputId": "174131ba-f61d-441e-a486-dcdcf8706187"
      },
      "execution_count": null,
      "outputs": [
        {
          "output_type": "stream",
          "name": "stdout",
          "text": [
            "7\n",
            "3\n",
            "2\n",
            "1\n"
          ]
        }
      ]
    },
    {
      "cell_type": "markdown",
      "source": [
        "# Binary Search"
      ],
      "metadata": {
        "id": "sfpdR-VaQOXS"
      }
    },
    {
      "cell_type": "markdown",
      "source": [
        "## Traditional Binary Search\n",
        "- Looking if number in arrary\n",
        "\n",
        "\n",
        "- Time : O(log N)\n",
        "\n",
        "- Space : O (1)"
      ],
      "metadata": {
        "id": "BjfbkSTURc7h"
      }
    },
    {
      "cell_type": "code",
      "execution_count": null,
      "metadata": {
        "id": "MgvGhclCPCCG"
      },
      "outputs": [],
      "source": [
        "\n",
        "def binarySearch(arr, target):\n",
        "    N = len(arr)\n",
        "    L = 0\n",
        "    R = N - 1\n",
        "\n",
        "    while L<=R:\n",
        "        M = L + ((R-L)//2)  # We can do (L+R)//2, but did the current one to accomodate for large numbers\n",
        "        if arr [M] == target:\n",
        "            return True\n",
        "        elif arr[M] > target:\n",
        "            R = M - 1\n",
        "        else:\n",
        "            L = M + 1\n",
        "    return False"
      ]
    },
    {
      "cell_type": "code",
      "source": [
        "A = [ -3, -1, 0, 2, 5, 8, 10, 15]\n",
        "binarySearch(A, 5)"
      ],
      "metadata": {
        "colab": {
          "base_uri": "https://localhost:8080/"
        },
        "id": "8zRNd9nIRM4v",
        "outputId": "c0c273eb-7b0f-4cf3-de8f-de8272b9269f"
      },
      "execution_count": null,
      "outputs": [
        {
          "output_type": "execute_result",
          "data": {
            "text/plain": [
              "True"
            ]
          },
          "metadata": {},
          "execution_count": 3
        }
      ]
    },
    {
      "cell_type": "markdown",
      "source": [
        "## Condition Based\n",
        "Based on a condition"
      ],
      "metadata": {
        "id": "Iaaipu8ci3o4"
      }
    },
    {
      "cell_type": "code",
      "source": [
        "B = [ False, False, False, False, True, True, True]\n",
        "def binary_Search_Conditional(arr):\n",
        "    N = len(arr)\n",
        "    L = 0\n",
        "    R = N -1\n",
        "\n",
        "    while L< R:\n",
        "        M = (L +R) // 2\n",
        "\n",
        "        if arr[M]:\n",
        "            R = M\n",
        "        else:\n",
        "            L = M+1\n",
        "    return L\n",
        "\n",
        "binary_Search_Conditional(B)"
      ],
      "metadata": {
        "colab": {
          "base_uri": "https://localhost:8080/"
        },
        "id": "7Z9HD9szRZua",
        "outputId": "25799666-aa14-4599-fdef-597769a1f2fa"
      },
      "execution_count": null,
      "outputs": [
        {
          "output_type": "execute_result",
          "data": {
            "text/plain": [
              "4"
            ]
          },
          "metadata": {},
          "execution_count": 4
        }
      ]
    },
    {
      "cell_type": "markdown",
      "source": [
        "# Binary Trees And Binary Search Trees"
      ],
      "metadata": {
        "id": "9eKw86Zk0K9r"
      }
    },
    {
      "cell_type": "markdown",
      "source": [
        "## Binary Trees"
      ],
      "metadata": {
        "id": "S3jUoxC3ETHN"
      }
    },
    {
      "cell_type": "code",
      "source": [
        "class TreeNode:\n",
        "    def __init__(self, val, left = None, right = None):\n",
        "        self.val = val\n",
        "        self.left = left\n",
        "        self.right = right\n",
        "\n",
        "    def __str__(self):\n",
        "        return str(self.val)"
      ],
      "metadata": {
        "id": "ha8pahJ_EXVc"
      },
      "execution_count": null,
      "outputs": []
    },
    {
      "cell_type": "code",
      "source": [
        "#Tree Construction:\n",
        "\n",
        "A = TreeNode(1)\n",
        "B = TreeNode(2)\n",
        "C = TreeNode(3)\n",
        "D = TreeNode(4)\n",
        "E = TreeNode(5)\n",
        "F = TreeNode(10)\n",
        "\n",
        "A.left = B\n",
        "A.right = C\n",
        "B.left = D\n",
        "B.right = E\n",
        "C.left = F\n",
        "\n",
        "print(A)"
      ],
      "metadata": {
        "colab": {
          "base_uri": "https://localhost:8080/"
        },
        "id": "k4NLNZfwEVqT",
        "outputId": "68b854a7-5743-4cd1-bcfb-68c80e97c4bb"
      },
      "execution_count": null,
      "outputs": [
        {
          "output_type": "stream",
          "name": "stdout",
          "text": [
            "1\n"
          ]
        }
      ]
    },
    {
      "cell_type": "markdown",
      "source": [
        " ### Tree structure\n",
        "\n",
        "                1\n",
        "        2              3\n",
        "    4       5       10"
      ],
      "metadata": {
        "id": "1ncTlMyJES_D"
      }
    },
    {
      "cell_type": "markdown",
      "source": [
        "### **DFS**: Recursive Pre Order Traversal Time: O(n), Space:O(n)"
      ],
      "metadata": {
        "id": "w63qpN9vG5PK"
      }
    },
    {
      "cell_type": "code",
      "source": [
        "def pre_order(node):\n",
        "    if not node:\n",
        "        return\n",
        "\n",
        "    print(node)\n",
        "    pre_order(node.left)\n",
        "    pre_order(node.right)\n",
        "\n",
        "pre_order(A)"
      ],
      "metadata": {
        "id": "vZjvlvm5kB7_",
        "colab": {
          "base_uri": "https://localhost:8080/"
        },
        "outputId": "a368d40e-46c7-4b4d-ab1c-f06a883048db"
      },
      "execution_count": null,
      "outputs": [
        {
          "output_type": "stream",
          "name": "stdout",
          "text": [
            "1\n",
            "2\n",
            "4\n",
            "5\n",
            "3\n",
            "10\n"
          ]
        }
      ]
    },
    {
      "cell_type": "markdown",
      "source": [
        "### **DFS**: Recursive In Order Traversal Time: O(n), Space:O(n)"
      ],
      "metadata": {
        "id": "KaYxB0_XILv8"
      }
    },
    {
      "cell_type": "code",
      "source": [
        "def in_order(node):\n",
        "    if not node:\n",
        "        return\n",
        "\n",
        "    in_order(node.left)\n",
        "    print(node)\n",
        "    in_order(node.right)\n",
        "\n",
        "in_order(A)"
      ],
      "metadata": {
        "colab": {
          "base_uri": "https://localhost:8080/"
        },
        "id": "EbFCuMgDERIt",
        "outputId": "238b4228-cb9e-47cc-ce6e-428bbfd868f3"
      },
      "execution_count": null,
      "outputs": [
        {
          "output_type": "stream",
          "name": "stdout",
          "text": [
            "4\n",
            "2\n",
            "5\n",
            "1\n",
            "10\n",
            "3\n"
          ]
        }
      ]
    },
    {
      "cell_type": "markdown",
      "source": [
        "### **DFS**: Recursive Post Order Traversal Time: O(n), Space:O(n)"
      ],
      "metadata": {
        "id": "LBcERlvbIvtC"
      }
    },
    {
      "cell_type": "code",
      "source": [
        "def post_order(node):\n",
        "    if not node:\n",
        "        return\n",
        "\n",
        "    post_order(node.left)\n",
        "    post_order(node.right)\n",
        "    print(node)\n",
        "\n",
        "post_order(A)"
      ],
      "metadata": {
        "colab": {
          "base_uri": "https://localhost:8080/"
        },
        "id": "fXU7J9A-ISk1",
        "outputId": "e1c177d7-3996-4cb2-9e54-34988413f703"
      },
      "execution_count": null,
      "outputs": [
        {
          "output_type": "stream",
          "name": "stdout",
          "text": [
            "4\n",
            "5\n",
            "2\n",
            "10\n",
            "3\n",
            "1\n"
          ]
        }
      ]
    },
    {
      "cell_type": "markdown",
      "source": [
        "### **DFS**: Iterative Pre Order Traversal Time: O(n), Space:O(n)\n",
        "\n",
        "Can Do only Pre Order Traversal:\n",
        "\n",
        "\n",
        "\n",
        "\n",
        "\n",
        "\n"
      ],
      "metadata": {
        "id": "2K_N2ProK4nc"
      }
    },
    {
      "cell_type": "code",
      "source": [
        "def pre_order_iterative(node):\n",
        "    stk = [node]\n",
        "    while stk:\n",
        "        node = stk.pop()\n",
        "        print(node)\n",
        "        if node.right: stk.append(node.right)\n",
        "        if node.left: stk.append(node.left)\n",
        "pre_order_iterative(A)"
      ],
      "metadata": {
        "colab": {
          "base_uri": "https://localhost:8080/"
        },
        "id": "TdT7RQQZI8Wh",
        "outputId": "c4499448-0bee-464e-c377-8a198671c14a"
      },
      "execution_count": null,
      "outputs": [
        {
          "output_type": "stream",
          "name": "stdout",
          "text": [
            "1\n",
            "2\n",
            "4\n",
            "5\n",
            "3\n",
            "10\n"
          ]
        }
      ]
    },
    {
      "cell_type": "markdown",
      "source": [
        "### BFS: Level Order Traversal Time:O(n) Space:O(n)"
      ],
      "metadata": {
        "id": "SVq9cTKmMCWK"
      }
    },
    {
      "cell_type": "code",
      "source": [
        "from collections import deque\n",
        "\n",
        "def level_order(node):\n",
        "    q = deque()\n",
        "    q.append(node)\n",
        "    while q:\n",
        "        node = q.popleft()\n",
        "        print(node)\n",
        "        if node.left: q.append(node.left)\n",
        "        if node.right: q.append(node.right)\n",
        "\n",
        "level_order(A)"
      ],
      "metadata": {
        "colab": {
          "base_uri": "https://localhost:8080/"
        },
        "id": "ramrJn_ULa_v",
        "outputId": "4d8ca507-d949-4a45-c908-21a7f1752239"
      },
      "execution_count": null,
      "outputs": [
        {
          "output_type": "stream",
          "name": "stdout",
          "text": [
            "1\n",
            "2\n",
            "3\n",
            "4\n",
            "5\n",
            "10\n"
          ]
        }
      ]
    },
    {
      "cell_type": "markdown",
      "source": [
        "## High Level Que"
      ],
      "metadata": {
        "id": "lOAualmDNBDv"
      }
    },
    {
      "cell_type": "markdown",
      "source": [
        "### Check if value exists (DFS) Time:O(n) Space:O(n)"
      ],
      "metadata": {
        "id": "gQraq4_UNFbA"
      }
    },
    {
      "cell_type": "code",
      "source": [
        "def search(node, target):\n",
        "    if not node:\n",
        "        return False\n",
        "    if node.val ==target:\n",
        "        return True\n",
        "    return search(node.left, target) or search(node.right, target)\n",
        "\n",
        "search(A, -10)"
      ],
      "metadata": {
        "colab": {
          "base_uri": "https://localhost:8080/"
        },
        "id": "xkS9xrC1NA0y",
        "outputId": "27e3a798-a8b6-4a7e-ffbf-3486630ae991"
      },
      "execution_count": null,
      "outputs": [
        {
          "output_type": "execute_result",
          "data": {
            "text/plain": [
              "False"
            ]
          },
          "metadata": {},
          "execution_count": 15
        }
      ]
    },
    {
      "cell_type": "markdown",
      "source": [
        "## Binary Search Trees (BSTs)"
      ],
      "metadata": {
        "id": "soe8sUkWN8Om"
      }
    },
    {
      "cell_type": "markdown",
      "source": [
        " ### Tree structure\n",
        "\n",
        "                5\n",
        "        1              8\n",
        "    -1       3       7    9"
      ],
      "metadata": {
        "id": "0HMY2BegOFge"
      }
    },
    {
      "cell_type": "code",
      "source": [
        "#Tree Construction:\n",
        "\n",
        "A2 = TreeNode(5)\n",
        "B2 = TreeNode(1)\n",
        "C2 = TreeNode(8)\n",
        "D2 = TreeNode(-1)\n",
        "E2 = TreeNode(3)\n",
        "F2 = TreeNode(7)\n",
        "G2 =TreeNode(9)\n",
        "\n",
        "A2.left, A2.right= B2, C2\n",
        "B2.left, B2.right = D2, E2\n",
        "C2.left, C2.right = F2, G2\n",
        "\n",
        "print(A2)"
      ],
      "metadata": {
        "colab": {
          "base_uri": "https://localhost:8080/"
        },
        "id": "2w93CbkSM0QP",
        "outputId": "6dc7aad6-8a67-4091-f829-232ad0c288a5"
      },
      "execution_count": null,
      "outputs": [
        {
          "output_type": "stream",
          "name": "stdout",
          "text": [
            "5\n"
          ]
        }
      ]
    },
    {
      "cell_type": "code",
      "source": [
        "in_order(A2)"
      ],
      "metadata": {
        "colab": {
          "base_uri": "https://localhost:8080/"
        },
        "id": "Qj47xdQ8O4sl",
        "outputId": "fba566df-fc14-4976-c9b9-ab1bbc527b3e"
      },
      "execution_count": null,
      "outputs": [
        {
          "output_type": "stream",
          "name": "stdout",
          "text": [
            "-1\n",
            "1\n",
            "3\n",
            "5\n",
            "7\n",
            "8\n",
            "9\n"
          ]
        }
      ]
    },
    {
      "cell_type": "markdown",
      "source": [
        "Time: O(log n) Space:O(log n)"
      ],
      "metadata": {
        "id": "RnRllcLqPJsi"
      }
    },
    {
      "cell_type": "code",
      "source": [
        "def search_bst(node, target):\n",
        "    if not node:\n",
        "        return False\n",
        "    if node.val == target:\n",
        "        return True\n",
        "\n",
        "    if target < node.val: return search_bst(node.left, target)\n",
        "    if target > node.val: return search_bst(node.right, target)\n",
        "\n",
        "search_bst(A2, 8)"
      ],
      "metadata": {
        "colab": {
          "base_uri": "https://localhost:8080/"
        },
        "id": "1doBxhfpO-Jt",
        "outputId": "312fd5ec-1d36-44bc-d448-40dd8a9f19f8"
      },
      "execution_count": null,
      "outputs": [
        {
          "output_type": "execute_result",
          "data": {
            "text/plain": [
              "True"
            ]
          },
          "metadata": {},
          "execution_count": 18
        }
      ]
    },
    {
      "cell_type": "code",
      "source": [],
      "metadata": {
        "id": "jn1X5lE2PwxN"
      },
      "execution_count": null,
      "outputs": []
    },
    {
      "cell_type": "markdown",
      "source": [
        "# Heap/Priority Queue"
      ],
      "metadata": {
        "id": "W7fOb9sBwNBw"
      }
    },
    {
      "cell_type": "markdown",
      "source": [
        "## Min Heap"
      ],
      "metadata": {
        "id": "9Tlj6APo5VYu"
      }
    },
    {
      "cell_type": "markdown",
      "source": [
        "### Build Min Heap (Heapify) Time:O(n) Space: O(1)"
      ],
      "metadata": {
        "id": "zVZodKgRyPvu"
      }
    },
    {
      "cell_type": "code",
      "source": [
        "import heapq\n",
        "\n",
        "A = [-4, 3, 1, 0, 2, 5, 10, 8, 12, 9]\n",
        "\n",
        "heapq.heapify(A)\n",
        "\n",
        "A"
      ],
      "metadata": {
        "colab": {
          "base_uri": "https://localhost:8080/"
        },
        "id": "5rUAI02fwRBB",
        "outputId": "e89d7d92-34cb-4c60-8f2f-787fb92dee69"
      },
      "execution_count": null,
      "outputs": [
        {
          "output_type": "execute_result",
          "data": {
            "text/plain": [
              "[-4, 0, 1, 3, 2, 5, 10, 8, 12, 9]"
            ]
          },
          "metadata": {},
          "execution_count": 5
        }
      ]
    },
    {
      "cell_type": "markdown",
      "source": [
        "### Heap Push (Insert element) Time: O(log n) Space: O(1)"
      ],
      "metadata": {
        "id": "HDql1fim00Hf"
      }
    },
    {
      "cell_type": "code",
      "source": [
        "heapq.heappush(A, 4)\n",
        "A"
      ],
      "metadata": {
        "colab": {
          "base_uri": "https://localhost:8080/"
        },
        "id": "6_YVIz3T0sPP",
        "outputId": "c33bf6cf-b361-4f39-aabe-5ad685f89175"
      },
      "execution_count": null,
      "outputs": [
        {
          "output_type": "execute_result",
          "data": {
            "text/plain": [
              "[-4, 0, 1, 3, 2, 5, 10, 8, 12, 9, 4]"
            ]
          },
          "metadata": {},
          "execution_count": 6
        }
      ]
    },
    {
      "cell_type": "markdown",
      "source": [
        "Tree Visualization\n",
        "\n",
        "              -4\n",
        "            /    \\\n",
        "           0      1\n",
        "        /   \\    /  \\\n",
        "       3     2  5    10\n",
        "      / \\   / \\\n",
        "    8   12 9   4"
      ],
      "metadata": {
        "id": "xjrPTLN_1b-5"
      }
    },
    {
      "cell_type": "markdown",
      "source": [
        "### Heap Pop (Extract Min) Time: O(log n) Space:O(1)"
      ],
      "metadata": {
        "id": "fM55YakY2Pnk"
      }
    },
    {
      "cell_type": "code",
      "source": [
        "minn = heapq.heappop(A)\n",
        "\n",
        "A, minn"
      ],
      "metadata": {
        "colab": {
          "base_uri": "https://localhost:8080/"
        },
        "id": "PZ3vGMe51UxW",
        "outputId": "a9b88910-240b-435f-e352-dcdff4d41b15"
      },
      "execution_count": null,
      "outputs": [
        {
          "output_type": "execute_result",
          "data": {
            "text/plain": [
              "([0, 2, 1, 3, 4, 5, 10, 8, 12, 9], -4)"
            ]
          },
          "metadata": {},
          "execution_count": 7
        }
      ]
    },
    {
      "cell_type": "markdown",
      "source": [
        "### Heap Sort Time:O(n log n), Space:O(n)\n",
        "Note: O(1) Space is possible via swapping, but it is complex\n"
      ],
      "metadata": {
        "id": "gbQKmGwv3L1R"
      }
    },
    {
      "cell_type": "code",
      "source": [
        "def heapsort(arr):\n",
        "    heapq.heapify(arr)\n",
        "    n = len(arr)\n",
        "    new_list = [0] * n\n",
        "\n",
        "    for i in range(n):\n",
        "        minn = heapq.heappop(arr)\n",
        "        new_list[i] = minn\n",
        "\n",
        "    return new_list\n",
        "\n",
        "heapsort([1, 3, 5, 7, 9, 2, 4, 6, 8, 0])\n"
      ],
      "metadata": {
        "colab": {
          "base_uri": "https://localhost:8080/"
        },
        "id": "nhjoZHGi2_nk",
        "outputId": "0c492b6c-e87d-4260-bb7d-0aad72dc9c4f"
      },
      "execution_count": null,
      "outputs": [
        {
          "output_type": "execute_result",
          "data": {
            "text/plain": [
              "[0, 1, 2, 3, 4, 5, 6, 7, 8, 9]"
            ]
          },
          "metadata": {},
          "execution_count": 9
        }
      ]
    },
    {
      "cell_type": "markdown",
      "source": [
        "### Heap Push Pop Time: O(log n)\n"
      ],
      "metadata": {
        "id": "ZR9Bw7kR4sl2"
      }
    },
    {
      "cell_type": "code",
      "source": [
        "heapq.heappushpop(A, 99)\n",
        "A"
      ],
      "metadata": {
        "colab": {
          "base_uri": "https://localhost:8080/"
        },
        "id": "nokke1xD3pbr",
        "outputId": "64f73f69-8c2a-44c3-e4fb-587bfb7927c3"
      },
      "execution_count": null,
      "outputs": [
        {
          "output_type": "execute_result",
          "data": {
            "text/plain": [
              "[2, 3, 5, 8, 4, 99, 10, 99, 12, 9]"
            ]
          },
          "metadata": {},
          "execution_count": 12
        }
      ]
    },
    {
      "cell_type": "markdown",
      "source": [
        "### Peek at Min Time:O(1)\n",
        "\n"
      ],
      "metadata": {
        "id": "E8LNRCsp6KbE"
      }
    },
    {
      "cell_type": "code",
      "source": [
        "A[0]"
      ],
      "metadata": {
        "colab": {
          "base_uri": "https://localhost:8080/"
        },
        "id": "X2BpF51I6T78",
        "outputId": "e5f1a6e5-b10e-4779-e81f-fa6f091874d8"
      },
      "execution_count": null,
      "outputs": [
        {
          "output_type": "execute_result",
          "data": {
            "text/plain": [
              "2"
            ]
          },
          "metadata": {},
          "execution_count": 17
        }
      ]
    },
    {
      "cell_type": "markdown",
      "source": [
        "## Max Heap"
      ],
      "metadata": {
        "id": "lqmLf3wC5YrE"
      }
    },
    {
      "cell_type": "markdown",
      "source": [
        "### Build A Max Heap"
      ],
      "metadata": {
        "id": "xmTushPf5dxe"
      }
    },
    {
      "cell_type": "code",
      "source": [
        "B = [-4, 3, 1, 0, 2, 5, 10, 8, 12, 9]\n",
        "n = len(B)\n",
        "\n",
        "for i in range(n):\n",
        "    B[i] = -B[i]\n",
        "\n",
        "heapq.heapify(B)\n",
        "B"
      ],
      "metadata": {
        "colab": {
          "base_uri": "https://localhost:8080/"
        },
        "id": "9BcO9Ebn41_D",
        "outputId": "0e231e10-b7bc-48ca-afe1-421c61b2d246"
      },
      "execution_count": null,
      "outputs": [
        {
          "output_type": "execute_result",
          "data": {
            "text/plain": [
              "[-12, -9, -10, -8, -2, -5, -1, -3, 0, 4]"
            ]
          },
          "metadata": {},
          "execution_count": 15
        }
      ]
    },
    {
      "cell_type": "code",
      "source": [
        "largest = -heapq.heappop(B)\n",
        "largest"
      ],
      "metadata": {
        "colab": {
          "base_uri": "https://localhost:8080/"
        },
        "id": "8YRumAGU51AD",
        "outputId": "4efb0cd7-f9ca-4e55-dce4-8f349271ea59"
      },
      "execution_count": null,
      "outputs": [
        {
          "output_type": "execute_result",
          "data": {
            "text/plain": [
              "12"
            ]
          },
          "metadata": {},
          "execution_count": 16
        }
      ]
    },
    {
      "cell_type": "markdown",
      "source": [
        "### Insert a val in max heap"
      ],
      "metadata": {
        "id": "Inn6iEKG6ajB"
      }
    },
    {
      "cell_type": "code",
      "source": [
        "# insert 7\n",
        "\n",
        "heapq.heappush(B, -7) # we will insert the negative of that val"
      ],
      "metadata": {
        "id": "2wDt3mkn6BvS"
      },
      "execution_count": null,
      "outputs": []
    },
    {
      "cell_type": "markdown",
      "source": [
        "## Build a heap from Scratch Time:O(n log n)"
      ],
      "metadata": {
        "id": "-u_LOiry6u4U"
      }
    },
    {
      "cell_type": "code",
      "source": [
        "C = [-5, 4, 2, 1, 7, 0, 3]\n",
        "\n",
        "heap = []\n",
        "\n",
        "for x in C:\n",
        "    heapq.heappush(heap, x)\n",
        "    print(heap)"
      ],
      "metadata": {
        "colab": {
          "base_uri": "https://localhost:8080/"
        },
        "id": "nVZqlRE26emT",
        "outputId": "0b08ff67-c8cd-48b4-ef17-909c9790f5ac"
      },
      "execution_count": null,
      "outputs": [
        {
          "output_type": "stream",
          "name": "stdout",
          "text": [
            "[-5]\n",
            "[-5, 4]\n",
            "[-5, 4, 2]\n",
            "[-5, 1, 2, 4]\n",
            "[-5, 1, 2, 4, 7]\n",
            "[-5, 1, 0, 4, 7, 2]\n",
            "[-5, 1, 0, 4, 7, 2, 3]\n"
          ]
        }
      ]
    },
    {
      "cell_type": "markdown",
      "source": [
        "## Putting tuples of items on the heap\n"
      ],
      "metadata": {
        "id": "HrIxFu3n7Umx"
      }
    },
    {
      "cell_type": "code",
      "source": [
        "D = [5, 4, 3, 5, 4, 3, 5, 5, 4]\n",
        "\n",
        "from collections import Counter\n",
        "\n",
        "counter = Counter(D)\n",
        "counter"
      ],
      "metadata": {
        "colab": {
          "base_uri": "https://localhost:8080/"
        },
        "id": "MzQAGNbr68PC",
        "outputId": "73f9da79-de1d-4771-f0b0-08c4836780e2"
      },
      "execution_count": null,
      "outputs": [
        {
          "output_type": "execute_result",
          "data": {
            "text/plain": [
              "Counter({5: 4, 4: 3, 3: 2})"
            ]
          },
          "metadata": {},
          "execution_count": 24
        }
      ]
    },
    {
      "cell_type": "code",
      "source": [
        "heap = []\n",
        "\n",
        "\n",
        "for k, v in counter.items():\n",
        "    heapq.heappush(heap, (k, v))\n",
        "heap"
      ],
      "metadata": {
        "colab": {
          "base_uri": "https://localhost:8080/"
        },
        "id": "G1AMypD38hAa",
        "outputId": "902d7c52-7c98-4b3e-bc86-03872e502666"
      },
      "execution_count": null,
      "outputs": [
        {
          "output_type": "execute_result",
          "data": {
            "text/plain": [
              "[(3, 2), (5, 4), (4, 3)]"
            ]
          },
          "metadata": {},
          "execution_count": 27
        }
      ]
    },
    {
      "cell_type": "markdown",
      "source": [
        "# Sorting Algorithms"
      ],
      "metadata": {
        "id": "0RKXgAU4x0sT"
      }
    },
    {
      "cell_type": "markdown",
      "source": [
        "## Bubble Sort Time: O(n^2) Space: O(1)\n",
        "\n"
      ],
      "metadata": {
        "id": "F3H6KLqmx0c8"
      }
    },
    {
      "cell_type": "code",
      "source": [
        "A = [-5, 3, 2, 1, -3, -3, 7, 2, 2]\n",
        "\n",
        "def bubble_Sort(arr):\n",
        "    n = len(arr)\n",
        "    flag = True\n",
        "\n",
        "    while flag:\n",
        "        flag = False\n",
        "        for i in range(1, n):\n",
        "            if arr[i-1] > arr[i]:\n",
        "                flag = True\n",
        "                arr[i-1], arr[i] = arr[i], arr[i-1]\n",
        "        print(arr)\n",
        "\n",
        "\n",
        "bubble_Sort(A)\n",
        "\n"
      ],
      "metadata": {
        "colab": {
          "base_uri": "https://localhost:8080/"
        },
        "id": "E250Fqv6y__3",
        "outputId": "fffae603-c4e5-4e9c-a601-125f502b43aa"
      },
      "execution_count": 5,
      "outputs": [
        {
          "output_type": "stream",
          "name": "stdout",
          "text": [
            "[-5, 2, 1, -3, -3, 3, 2, 2, 7]\n",
            "[-5, 1, -3, -3, 2, 2, 2, 3, 7]\n",
            "[-5, -3, -3, 1, 2, 2, 2, 3, 7]\n",
            "[-5, -3, -3, 1, 2, 2, 2, 3, 7]\n"
          ]
        }
      ]
    },
    {
      "cell_type": "markdown",
      "source": [],
      "metadata": {
        "id": "_tFhWmeRx0S6"
      }
    },
    {
      "cell_type": "code",
      "source": [],
      "metadata": {
        "id": "PfCCvV3e9COJ"
      },
      "execution_count": null,
      "outputs": []
    }
  ]
}